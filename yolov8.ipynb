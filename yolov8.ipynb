{
  "nbformat": 4,
  "nbformat_minor": 0,
  "metadata": {
    "colab": {
      "provenance": [],
      "gpuType": "T4"
    },
    "kernelspec": {
      "name": "python3",
      "display_name": "Python 3"
    },
    "language_info": {
      "name": "python"
    },
    "accelerator": "GPU"
  },
  "cells": [
    {
      "cell_type": "code",
      "execution_count": null,
      "metadata": {
        "colab": {
          "base_uri": "https://localhost:8080/"
        },
        "id": "DJ1OFVrxnaHU",
        "outputId": "1f7e4880-bde8-4b90-9be2-c0aac53c1175"
      },
      "outputs": [
        {
          "output_type": "stream",
          "name": "stdout",
          "text": [
            "Mounted at /content/drive\n"
          ]
        }
      ],
      "source": [
        "!pip -q install ultralytics==8.3.29 pycocotools==2.0.7 opencv-python-headless==4.10.0.84\n",
        "\n",
        "from google.colab import drive\n",
        "drive.mount('/content/drive', force_remount=True)\n",
        "\n",
        "BASE = \"/content/drive/MyDrive/Archive\"\n",
        "IMAGES_DIR = f\"{BASE}/images\"                 # your images\n",
        "COCO_JSON  = f\"{BASE}/result_modified.json\"   # your COCO (ids start at 1)\n",
        "DATA_ROOT  = f\"{BASE}/yolo\"                   # new YOLO dataset root we create\n"
      ]
    },
    {
      "cell_type": "code",
      "source": [
        "import json, random, os\n",
        "os.makedirs(DATA_ROOT, exist_ok=True)\n",
        "\n",
        "SPLIT_SEED = 42\n",
        "VAL_FRAC   = 0.2\n",
        "\n",
        "with open(COCO_JSON, \"r\") as f:\n",
        "    coco = json.load(f)\n",
        "\n",
        "img_ids = [im[\"id\"] for im in coco[\"images\"]]\n",
        "random.Random(SPLIT_SEED).shuffle(img_ids)\n",
        "n_val = max(1, int(len(img_ids) * VAL_FRAC))\n",
        "val_ids   = set(img_ids[:n_val])\n",
        "train_ids = set(img_ids[n_val:])\n",
        "\n",
        "def subset_coco(data, keep_ids):\n",
        "    return {\n",
        "        \"images\": [im for im in data[\"images\"] if im[\"id\"] in keep_ids],\n",
        "        \"annotations\": [a for a in data[\"annotations\"] if a[\"image_id\"] in keep_ids],\n",
        "        \"categories\": data[\"categories\"],\n",
        "        \"licenses\": data.get(\"licenses\", []),\n",
        "        \"info\": data.get(\"info\", {})\n",
        "    }\n",
        "\n",
        "train_json = subset_coco(coco, train_ids)\n",
        "val_json   = subset_coco(coco, val_ids)\n",
        "\n",
        "TRAIN_JSON = f\"{DATA_ROOT}/train_coco.json\"\n",
        "VAL_JSON   = f\"{DATA_ROOT}/val_coco.json\"\n",
        "json.dump(train_json, open(TRAIN_JSON, \"w\"))\n",
        "json.dump(val_json,   open(VAL_JSON, \"w\"))\n",
        "\n",
        "print(\"Train images:\", len(train_json[\"images\"]), \"Val images:\", len(val_json[\"images\"]))\n"
      ],
      "metadata": {
        "colab": {
          "base_uri": "https://localhost:8080/"
        },
        "id": "dIXP2sWInc6H",
        "outputId": "95483a1f-a7cd-4730-e256-a33b4ec485eb"
      },
      "execution_count": null,
      "outputs": [
        {
          "output_type": "stream",
          "name": "stdout",
          "text": [
            "Train images: 56 Val images: 14\n"
          ]
        }
      ]
    },
    {
      "cell_type": "code",
      "source": [
        "import os, shutil, json, cv2, numpy as np\n",
        "from pycocotools import mask as maskUtils\n",
        "\n",
        "# YOLO dir layout\n",
        "for split in [\"train\", \"val\"]:\n",
        "    os.makedirs(f\"{DATA_ROOT}/images/{split}\", exist_ok=True)\n",
        "    os.makedirs(f\"{DATA_ROOT}/labels/{split}\", exist_ok=True)\n",
        "\n",
        "def polygons_from_rle(rle_mask):\n",
        "    \"\"\"Decode RLE -> contours (list of Nx2 arrays).\"\"\"\n",
        "    m = maskUtils.decode(rle_mask).astype(np.uint8)  # HxW\n",
        "    cnts, _ = cv2.findContours(m, cv2.RETR_EXTERNAL, cv2.CHAIN_APPROX_SIMPLE)\n",
        "    polys = []\n",
        "    for c in cnts:\n",
        "        if len(c) < 3:\n",
        "            continue\n",
        "        c = c.squeeze(1)  # Nx2\n",
        "        polys.append(c)\n",
        "    return polys\n",
        "\n",
        "def write_yolo_seg_txt(txt_path, instances, W, H):\n",
        "    \"\"\"instances: list of polygons (each as Nx2) with class id 0.\"\"\"\n",
        "    lines = []\n",
        "    for poly in instances:\n",
        "        if poly.shape[0] < 3:\n",
        "            continue\n",
        "        # normalize to [0,1]\n",
        "        x = np.clip(poly[:,0] / W, 0, 1)\n",
        "        y = np.clip(poly[:,1] / H, 0, 1)\n",
        "        # YOLO line: <cls> x1 y1 x2 y2 ...\n",
        "        coords = \" \".join([f\"{a:.6f} {b:.6f}\" for a,b in zip(x, y)])\n",
        "        lines.append(f\"0 {coords}\")\n",
        "    if lines:\n",
        "        with open(txt_path, \"w\") as f:\n",
        "            f.write(\"\\n\".join(lines))\n",
        "    else:\n",
        "        # If no instances, create empty file to avoid dataloader crashes\n",
        "        open(txt_path, \"w\").close()\n",
        "\n",
        "def convert_split(split_json_path, split):\n",
        "    data = json.load(open(split_json_path))\n",
        "    anns_by_img = {}\n",
        "    for a in data[\"annotations\"]:\n",
        "        anns_by_img.setdefault(a[\"image_id\"], []).append(a)\n",
        "\n",
        "    for im in data[\"images\"]:\n",
        "        img_id   = im[\"id\"]\n",
        "        file_name= im[\"file_name\"]\n",
        "        W, H     = im[\"width\"], im[\"height\"]\n",
        "\n",
        "        src = os.path.join(IMAGES_DIR, file_name)\n",
        "        dst = os.path.join(DATA_ROOT, \"images\", split, file_name)\n",
        "        os.makedirs(os.path.dirname(dst), exist_ok=True)\n",
        "        shutil.copy2(src, dst)\n",
        "\n",
        "        polys_all = []\n",
        "        for a in anns_by_img.get(img_id, []):\n",
        "            # (Optional) if you later add more classes, map to 0-based index here.\n",
        "            seg = a.get(\"segmentation\", None)\n",
        "            if seg is None:\n",
        "                # fall back: build polygon from bbox (very coarse)\n",
        "                x,y,w,h = a[\"bbox\"]\n",
        "                poly = np.array([[x,y],[x+w,y],[x+w,y+h],[x,y+h]], dtype=np.float32)\n",
        "                polys_all.append(poly)\n",
        "                continue\n",
        "\n",
        "            # COCO segmentation can be polygon (list of lists) or RLE (dict)\n",
        "            if isinstance(seg, list):\n",
        "                # multiple polygons possible for one instance\n",
        "                for s in seg:\n",
        "                    if len(s) < 6:  # need at least 3 points\n",
        "                        continue\n",
        "                    arr = np.array(s, dtype=np.float32).reshape(-1,2)\n",
        "                    polys_all.append(arr)\n",
        "            elif isinstance(seg, dict) and {\"size\",\"counts\"} <= set(seg.keys()):\n",
        "                for poly in polygons_from_rle(seg):\n",
        "                    polys_all.append(poly.astype(np.float32))\n",
        "            else:\n",
        "                # unknown format; skip this instance gracefully\n",
        "                continue\n",
        "\n",
        "        label_path = os.path.join(DATA_ROOT, \"labels\", split, os.path.splitext(file_name)[0] + \".txt\")\n",
        "        write_yolo_seg_txt(label_path, polys_all, W, H)\n",
        "\n",
        "convert_split(TRAIN_JSON, \"train\")\n",
        "convert_split(VAL_JSON,   \"val\")\n",
        "\n",
        "print(\"Done converting. Example label file:\")\n",
        "sample_lbls = os.listdir(f\"{DATA_ROOT}/labels/train\")[:3]\n",
        "print(sample_lbls)\n",
        "print(open(os.path.join(f\"{DATA_ROOT}/labels/train\", sample_lbls[0])).read()[:200])\n"
      ],
      "metadata": {
        "colab": {
          "base_uri": "https://localhost:8080/"
        },
        "id": "BsXFoJx_nzIV",
        "outputId": "b57fae99-39d8-43a9-8c45-2b97636514b8"
      },
      "execution_count": null,
      "outputs": [
        {
          "output_type": "stream",
          "name": "stdout",
          "text": [
            "Done converting. Example label file:\n",
            "['73611d76-bin4.txt', '4191e48f-bin7.txt', '69d671f5-bin10.txt']\n",
            "0 0.323367 0.241206 0.159799 0.260302 0.161307 0.275377 0.171859 0.279397 0.186181 0.417085 0.198995 0.437186 0.206533 0.522613 0.238945 0.787940 0.242714 0.827136 0.266080 0.855276 0.293216 0.862312 \n"
          ]
        }
      ]
    },
    {
      "cell_type": "code",
      "source": [
        "DATA_YAML = f\"{DATA_ROOT}/data.yaml\"\n",
        "open(DATA_YAML, \"w\").write(f\"\"\"# YOLOv8 Segmentation dataset\n",
        "path: {DATA_ROOT}\n",
        "train: images/train\n",
        "val: images/val\n",
        "names: [\"Trash\"]  # one class\n",
        "\"\"\")\n",
        "print(\"Wrote:\", DATA_YAML)\n"
      ],
      "metadata": {
        "colab": {
          "base_uri": "https://localhost:8080/"
        },
        "id": "vGrzAvxPn15l",
        "outputId": "4341dcd8-3faa-4acb-e82d-6d293fddabbf"
      },
      "execution_count": null,
      "outputs": [
        {
          "output_type": "stream",
          "name": "stdout",
          "text": [
            "Wrote: /content/drive/MyDrive/Archive/yolo/data.yaml\n"
          ]
        }
      ]
    },
    {
      "cell_type": "code",
      "source": [
        "from ultralytics import YOLO\n",
        "model = YOLO(\"yolov8s-seg.pt\")  # try yolov8m-seg.pt later\n",
        "\n",
        "results = model.train(\n",
        "    data=DATA_YAML,\n",
        "    epochs=60,\n",
        "    imgsz=896,\n",
        "    batch=8,\n",
        "    lr0=1e-3,\n",
        "    cache=\"ram\",\n",
        "    hsv_h=0.015, hsv_s=0.7, hsv_v=0.4,\n",
        "    degrees=5, translate=0.05, scale=0.1, shear=2.0,\n",
        "    fliplr=0.5,\n",
        "    mosaic=0.5,\n",
        "    copy_paste=0.2,\n",
        "    project=f\"{BASE}/runs\",\n",
        "    name=\"yolov8s_seg_trash\"\n",
        ")\n"
      ],
      "metadata": {
        "colab": {
          "base_uri": "https://localhost:8080/"
        },
        "id": "PkKHOZQLn4D6",
        "outputId": "3bfd2ab1-15f0-4a84-8592-24d00130ad2e"
      },
      "execution_count": null,
      "outputs": [
        {
          "output_type": "stream",
          "name": "stdout",
          "text": [
            "New https://pypi.org/project/ultralytics/8.3.203 available 😃 Update with 'pip install -U ultralytics'\n",
            "Ultralytics 8.3.29 🚀 Python-3.12.11 torch-2.8.0+cu126 CUDA:0 (Tesla T4, 15095MiB)\n",
            "\u001b[34m\u001b[1mengine/trainer: \u001b[0mtask=segment, mode=train, model=yolov8s-seg.pt, data=/content/drive/MyDrive/Archive/yolo/data.yaml, epochs=60, time=None, patience=100, batch=8, imgsz=896, save=True, save_period=-1, cache=ram, device=None, workers=8, project=/content/drive/MyDrive/Archive/runs, name=yolov8s_seg_trash2, exist_ok=False, pretrained=True, optimizer=auto, verbose=True, seed=0, deterministic=True, single_cls=False, rect=False, cos_lr=False, close_mosaic=10, resume=False, amp=True, fraction=1.0, profile=False, freeze=None, multi_scale=False, overlap_mask=True, mask_ratio=4, dropout=0.0, val=True, split=val, save_json=False, save_hybrid=False, conf=None, iou=0.7, max_det=300, half=False, dnn=False, plots=True, source=None, vid_stride=1, stream_buffer=False, visualize=False, augment=False, agnostic_nms=False, classes=None, retina_masks=False, embed=None, show=False, save_frames=False, save_txt=False, save_conf=False, save_crop=False, show_labels=True, show_conf=True, show_boxes=True, line_width=None, format=torchscript, keras=False, optimize=False, int8=False, dynamic=False, simplify=True, opset=None, workspace=4, nms=False, lr0=0.001, lrf=0.01, momentum=0.937, weight_decay=0.0005, warmup_epochs=3.0, warmup_momentum=0.8, warmup_bias_lr=0.1, box=7.5, cls=0.5, dfl=1.5, pose=12.0, kobj=1.0, label_smoothing=0.0, nbs=64, hsv_h=0.015, hsv_s=0.7, hsv_v=0.4, degrees=5, translate=0.05, scale=0.1, shear=2.0, perspective=0.0, flipud=0.0, fliplr=0.5, bgr=0.0, mosaic=0.5, mixup=0.0, copy_paste=0.2, copy_paste_mode=flip, auto_augment=randaugment, erasing=0.4, crop_fraction=1.0, cfg=None, tracker=botsort.yaml, save_dir=/content/drive/MyDrive/Archive/runs/yolov8s_seg_trash2\n",
            "Overriding model.yaml nc=80 with nc=1\n",
            "\n",
            "                   from  n    params  module                                       arguments                     \n",
            "  0                  -1  1       928  ultralytics.nn.modules.conv.Conv             [3, 32, 3, 2]                 \n",
            "  1                  -1  1     18560  ultralytics.nn.modules.conv.Conv             [32, 64, 3, 2]                \n",
            "  2                  -1  1     29056  ultralytics.nn.modules.block.C2f             [64, 64, 1, True]             \n",
            "  3                  -1  1     73984  ultralytics.nn.modules.conv.Conv             [64, 128, 3, 2]               \n",
            "  4                  -1  2    197632  ultralytics.nn.modules.block.C2f             [128, 128, 2, True]           \n",
            "  5                  -1  1    295424  ultralytics.nn.modules.conv.Conv             [128, 256, 3, 2]              \n",
            "  6                  -1  2    788480  ultralytics.nn.modules.block.C2f             [256, 256, 2, True]           \n",
            "  7                  -1  1   1180672  ultralytics.nn.modules.conv.Conv             [256, 512, 3, 2]              \n",
            "  8                  -1  1   1838080  ultralytics.nn.modules.block.C2f             [512, 512, 1, True]           \n",
            "  9                  -1  1    656896  ultralytics.nn.modules.block.SPPF            [512, 512, 5]                 \n",
            " 10                  -1  1         0  torch.nn.modules.upsampling.Upsample         [None, 2, 'nearest']          \n",
            " 11             [-1, 6]  1         0  ultralytics.nn.modules.conv.Concat           [1]                           \n",
            " 12                  -1  1    591360  ultralytics.nn.modules.block.C2f             [768, 256, 1]                 \n",
            " 13                  -1  1         0  torch.nn.modules.upsampling.Upsample         [None, 2, 'nearest']          \n",
            " 14             [-1, 4]  1         0  ultralytics.nn.modules.conv.Concat           [1]                           \n",
            " 15                  -1  1    148224  ultralytics.nn.modules.block.C2f             [384, 128, 1]                 \n",
            " 16                  -1  1    147712  ultralytics.nn.modules.conv.Conv             [128, 128, 3, 2]              \n",
            " 17            [-1, 12]  1         0  ultralytics.nn.modules.conv.Concat           [1]                           \n",
            " 18                  -1  1    493056  ultralytics.nn.modules.block.C2f             [384, 256, 1]                 \n",
            " 19                  -1  1    590336  ultralytics.nn.modules.conv.Conv             [256, 256, 3, 2]              \n",
            " 20             [-1, 9]  1         0  ultralytics.nn.modules.conv.Concat           [1]                           \n",
            " 21                  -1  1   1969152  ultralytics.nn.modules.block.C2f             [768, 512, 1]                 \n",
            " 22        [15, 18, 21]  1   2770931  ultralytics.nn.modules.head.Segment          [1, 32, 128, [128, 256, 512]] \n",
            "YOLOv8s-seg summary: 261 layers, 11,790,483 parameters, 11,790,467 gradients, 40.2 GFLOPs\n",
            "\n",
            "Transferred 411/417 items from pretrained weights\n",
            "\u001b[34m\u001b[1mTensorBoard: \u001b[0mStart with 'tensorboard --logdir /content/drive/MyDrive/Archive/runs/yolov8s_seg_trash2', view at http://localhost:6006/\n",
            "Freezing layer 'model.22.dfl.conv.weight'\n",
            "\u001b[34m\u001b[1mAMP: \u001b[0mrunning Automatic Mixed Precision (AMP) checks...\n",
            "\u001b[34m\u001b[1mAMP: \u001b[0mchecks passed ✅\n"
          ]
        },
        {
          "output_type": "stream",
          "name": "stderr",
          "text": [
            "\u001b[34m\u001b[1mtrain: \u001b[0mScanning /content/drive/MyDrive/Archive/yolo/labels/train... 56 images, 0 backgrounds, 0 corrupt: 100%|██████████| 56/56 [00:00<00:00, 73.82it/s]"
          ]
        },
        {
          "output_type": "stream",
          "name": "stdout",
          "text": [
            "\u001b[34m\u001b[1mtrain: \u001b[0mNew cache created: /content/drive/MyDrive/Archive/yolo/labels/train.cache\n"
          ]
        },
        {
          "output_type": "stream",
          "name": "stderr",
          "text": [
            "\n"
          ]
        },
        {
          "output_type": "stream",
          "name": "stdout",
          "text": [
            "WARNING ⚠️ cache='ram' may produce non-deterministic training results. Consider cache='disk' as a deterministic alternative if your disk space allows.\n"
          ]
        },
        {
          "output_type": "stream",
          "name": "stderr",
          "text": [
            "\u001b[34m\u001b[1mtrain: \u001b[0mCaching images (0.1GB RAM): 100%|██████████| 56/56 [00:02<00:00, 20.43it/s]\n"
          ]
        },
        {
          "output_type": "stream",
          "name": "stdout",
          "text": [
            "\u001b[34m\u001b[1malbumentations: \u001b[0mBlur(p=0.01, blur_limit=(3, 7)), MedianBlur(p=0.01, blur_limit=(3, 7)), ToGray(p=0.01, method='weighted_average', num_output_channels=3), CLAHE(p=0.01, clip_limit=(1.0, 4.0), tile_grid_size=(8, 8))\n"
          ]
        },
        {
          "output_type": "stream",
          "name": "stderr",
          "text": [
            "/usr/local/lib/python3.12/dist-packages/ultralytics/data/augment.py:1850: UserWarning: Argument(s) 'quality_lower' are not valid for transform ImageCompression\n",
            "  A.ImageCompression(quality_lower=75, p=0.0),\n",
            "\u001b[34m\u001b[1mval: \u001b[0mScanning /content/drive/MyDrive/Archive/yolo/labels/val... 14 images, 0 backgrounds, 0 corrupt: 100%|██████████| 14/14 [00:00<00:00, 44.68it/s]"
          ]
        },
        {
          "output_type": "stream",
          "name": "stdout",
          "text": [
            "\u001b[34m\u001b[1mval: \u001b[0mNew cache created: /content/drive/MyDrive/Archive/yolo/labels/val.cache\n"
          ]
        },
        {
          "output_type": "stream",
          "name": "stderr",
          "text": [
            "\n"
          ]
        },
        {
          "output_type": "stream",
          "name": "stdout",
          "text": [
            "WARNING ⚠️ cache='ram' may produce non-deterministic training results. Consider cache='disk' as a deterministic alternative if your disk space allows.\n"
          ]
        },
        {
          "output_type": "stream",
          "name": "stderr",
          "text": [
            "\u001b[34m\u001b[1mval: \u001b[0mCaching images (0.0GB RAM): 100%|██████████| 14/14 [00:00<00:00, 24.91it/s]\n"
          ]
        },
        {
          "output_type": "stream",
          "name": "stdout",
          "text": [
            "Plotting labels to /content/drive/MyDrive/Archive/runs/yolov8s_seg_trash2/labels.jpg... \n",
            "\u001b[34m\u001b[1moptimizer:\u001b[0m 'optimizer=auto' found, ignoring 'lr0=0.001' and 'momentum=0.937' and determining best 'optimizer', 'lr0' and 'momentum' automatically... \n",
            "\u001b[34m\u001b[1moptimizer:\u001b[0m AdamW(lr=0.002, momentum=0.9) with parameter groups 66 weight(decay=0.0), 77 weight(decay=0.0005), 76 bias(decay=0.0)\n",
            "\u001b[34m\u001b[1mTensorBoard: \u001b[0mmodel graph visualization added ✅\n",
            "Image sizes 896 train, 896 val\n",
            "Using 2 dataloader workers\n",
            "Logging results to \u001b[1m/content/drive/MyDrive/Archive/runs/yolov8s_seg_trash2\u001b[0m\n",
            "Starting training for 60 epochs...\n",
            "\n",
            "      Epoch    GPU_mem   box_loss   seg_loss   cls_loss   dfl_loss  Instances       Size\n"
          ]
        },
        {
          "output_type": "stream",
          "name": "stderr",
          "text": [
            "       1/60      4.78G      1.092      2.683      6.328      1.177         39        896: 100%|██████████| 7/7 [00:05<00:00,  1.22it/s]\n",
            "                 Class     Images  Instances      Box(P          R      mAP50  mAP50-95)     Mask(P          R      mAP50  mAP50-95): 100%|██████████| 1/1 [00:00<00:00,  2.26it/s]"
          ]
        },
        {
          "output_type": "stream",
          "name": "stdout",
          "text": [
            "                   all         14         43     0.0651      0.233     0.0314     0.0187     0.0651      0.233     0.0337     0.0193\n"
          ]
        },
        {
          "output_type": "stream",
          "name": "stderr",
          "text": [
            "\n"
          ]
        },
        {
          "output_type": "stream",
          "name": "stdout",
          "text": [
            "\n",
            "      Epoch    GPU_mem   box_loss   seg_loss   cls_loss   dfl_loss  Instances       Size\n"
          ]
        },
        {
          "output_type": "stream",
          "name": "stderr",
          "text": [
            "       2/60       4.8G      1.035      1.904      4.326      1.142         30        896: 100%|██████████| 7/7 [00:03<00:00,  2.09it/s]\n",
            "                 Class     Images  Instances      Box(P          R      mAP50  mAP50-95)     Mask(P          R      mAP50  mAP50-95): 100%|██████████| 1/1 [00:00<00:00,  1.59it/s]"
          ]
        },
        {
          "output_type": "stream",
          "name": "stdout",
          "text": [
            "                   all         14         43      0.052      0.093     0.0725     0.0568       0.05      0.093     0.0732     0.0594\n"
          ]
        },
        {
          "output_type": "stream",
          "name": "stderr",
          "text": [
            "\n"
          ]
        },
        {
          "output_type": "stream",
          "name": "stdout",
          "text": [
            "\n",
            "      Epoch    GPU_mem   box_loss   seg_loss   cls_loss   dfl_loss  Instances       Size\n"
          ]
        },
        {
          "output_type": "stream",
          "name": "stderr",
          "text": [
            "       3/60         5G     0.8336      1.379      2.179      1.028         32        896: 100%|██████████| 7/7 [00:03<00:00,  2.24it/s]\n",
            "                 Class     Images  Instances      Box(P          R      mAP50  mAP50-95)     Mask(P          R      mAP50  mAP50-95): 100%|██████████| 1/1 [00:00<00:00,  1.79it/s]"
          ]
        },
        {
          "output_type": "stream",
          "name": "stdout",
          "text": [
            "                   all         14         43     0.0619      0.233      0.064     0.0347     0.0592      0.391      0.064     0.0439\n"
          ]
        },
        {
          "output_type": "stream",
          "name": "stderr",
          "text": [
            "\n"
          ]
        },
        {
          "output_type": "stream",
          "name": "stdout",
          "text": [
            "\n",
            "      Epoch    GPU_mem   box_loss   seg_loss   cls_loss   dfl_loss  Instances       Size\n"
          ]
        },
        {
          "output_type": "stream",
          "name": "stderr",
          "text": [
            "       4/60      4.96G     0.9443      1.457      2.303      1.092         41        896: 100%|██████████| 7/7 [00:02<00:00,  2.83it/s]\n",
            "                 Class     Images  Instances      Box(P          R      mAP50  mAP50-95)     Mask(P          R      mAP50  mAP50-95): 100%|██████████| 1/1 [00:00<00:00,  2.58it/s]"
          ]
        },
        {
          "output_type": "stream",
          "name": "stdout",
          "text": [
            "                   all         14         43      0.215      0.256       0.19      0.126      0.281      0.209      0.175      0.123\n"
          ]
        },
        {
          "output_type": "stream",
          "name": "stderr",
          "text": [
            "\n"
          ]
        },
        {
          "output_type": "stream",
          "name": "stdout",
          "text": [
            "\n",
            "      Epoch    GPU_mem   box_loss   seg_loss   cls_loss   dfl_loss  Instances       Size\n"
          ]
        },
        {
          "output_type": "stream",
          "name": "stderr",
          "text": [
            "       5/60      4.83G     0.9155      1.384      1.741      1.093         33        896: 100%|██████████| 7/7 [00:03<00:00,  2.03it/s]\n",
            "                 Class     Images  Instances      Box(P          R      mAP50  mAP50-95)     Mask(P          R      mAP50  mAP50-95): 100%|██████████| 1/1 [00:00<00:00,  1.76it/s]"
          ]
        },
        {
          "output_type": "stream",
          "name": "stdout",
          "text": [
            "                   all         14         43      0.408      0.279      0.218      0.112      0.479      0.209      0.181      0.121\n"
          ]
        },
        {
          "output_type": "stream",
          "name": "stderr",
          "text": [
            "\n"
          ]
        },
        {
          "output_type": "stream",
          "name": "stdout",
          "text": [
            "\n",
            "      Epoch    GPU_mem   box_loss   seg_loss   cls_loss   dfl_loss  Instances       Size\n"
          ]
        },
        {
          "output_type": "stream",
          "name": "stderr",
          "text": [
            "       6/60      4.92G      1.042      1.448      1.811      1.185         41        896: 100%|██████████| 7/7 [00:03<00:00,  2.04it/s]\n",
            "                 Class     Images  Instances      Box(P          R      mAP50  mAP50-95)     Mask(P          R      mAP50  mAP50-95): 100%|██████████| 1/1 [00:00<00:00,  1.55it/s]"
          ]
        },
        {
          "output_type": "stream",
          "name": "stdout",
          "text": [
            "                   all         14         43      0.342      0.254      0.229      0.122      0.342      0.254       0.23      0.146\n"
          ]
        },
        {
          "output_type": "stream",
          "name": "stderr",
          "text": [
            "\n"
          ]
        },
        {
          "output_type": "stream",
          "name": "stdout",
          "text": [
            "\n",
            "      Epoch    GPU_mem   box_loss   seg_loss   cls_loss   dfl_loss  Instances       Size\n"
          ]
        },
        {
          "output_type": "stream",
          "name": "stderr",
          "text": [
            "       7/60      4.96G     0.9523      1.544      1.505      1.119         32        896: 100%|██████████| 7/7 [00:02<00:00,  2.89it/s]\n",
            "                 Class     Images  Instances      Box(P          R      mAP50  mAP50-95)     Mask(P          R      mAP50  mAP50-95): 100%|██████████| 1/1 [00:00<00:00,  2.82it/s]"
          ]
        },
        {
          "output_type": "stream",
          "name": "stdout",
          "text": [
            "                   all         14         43      0.273      0.302      0.218      0.126      0.294      0.326      0.234      0.134\n"
          ]
        },
        {
          "output_type": "stream",
          "name": "stderr",
          "text": [
            "\n"
          ]
        },
        {
          "output_type": "stream",
          "name": "stdout",
          "text": [
            "\n",
            "      Epoch    GPU_mem   box_loss   seg_loss   cls_loss   dfl_loss  Instances       Size\n"
          ]
        },
        {
          "output_type": "stream",
          "name": "stderr",
          "text": [
            "       8/60      4.98G      1.021      1.616      1.792      1.157         28        896: 100%|██████████| 7/7 [00:02<00:00,  2.92it/s]\n",
            "                 Class     Images  Instances      Box(P          R      mAP50  mAP50-95)     Mask(P          R      mAP50  mAP50-95): 100%|██████████| 1/1 [00:00<00:00,  3.09it/s]"
          ]
        },
        {
          "output_type": "stream",
          "name": "stdout",
          "text": [
            "                   all         14         43      0.611      0.163      0.191       0.12      0.701      0.186      0.205      0.104\n"
          ]
        },
        {
          "output_type": "stream",
          "name": "stderr",
          "text": [
            "\n"
          ]
        },
        {
          "output_type": "stream",
          "name": "stdout",
          "text": [
            "\n",
            "      Epoch    GPU_mem   box_loss   seg_loss   cls_loss   dfl_loss  Instances       Size\n"
          ]
        },
        {
          "output_type": "stream",
          "name": "stderr",
          "text": [
            "       9/60      4.96G      1.024      1.508      1.588      1.156         35        896: 100%|██████████| 7/7 [00:03<00:00,  2.33it/s]\n",
            "                 Class     Images  Instances      Box(P          R      mAP50  mAP50-95)     Mask(P          R      mAP50  mAP50-95): 100%|██████████| 1/1 [00:00<00:00,  3.19it/s]"
          ]
        },
        {
          "output_type": "stream",
          "name": "stdout",
          "text": [
            "                   all         14         43      0.174      0.302      0.191      0.112      0.402      0.163      0.165     0.0728\n"
          ]
        },
        {
          "output_type": "stream",
          "name": "stderr",
          "text": [
            "\n"
          ]
        },
        {
          "output_type": "stream",
          "name": "stdout",
          "text": [
            "\n",
            "      Epoch    GPU_mem   box_loss   seg_loss   cls_loss   dfl_loss  Instances       Size\n"
          ]
        },
        {
          "output_type": "stream",
          "name": "stderr",
          "text": [
            "      10/60      4.85G     0.9948      1.405      1.597      1.093         32        896: 100%|██████████| 7/7 [00:02<00:00,  2.72it/s]\n",
            "                 Class     Images  Instances      Box(P          R      mAP50  mAP50-95)     Mask(P          R      mAP50  mAP50-95): 100%|██████████| 1/1 [00:00<00:00,  2.60it/s]"
          ]
        },
        {
          "output_type": "stream",
          "name": "stdout",
          "text": [
            "                   all         14         43      0.261      0.186      0.172     0.0916      0.221      0.256      0.172     0.0809\n"
          ]
        },
        {
          "output_type": "stream",
          "name": "stderr",
          "text": [
            "\n"
          ]
        },
        {
          "output_type": "stream",
          "name": "stdout",
          "text": [
            "\n",
            "      Epoch    GPU_mem   box_loss   seg_loss   cls_loss   dfl_loss  Instances       Size\n"
          ]
        },
        {
          "output_type": "stream",
          "name": "stderr",
          "text": [
            "      11/60      4.92G      1.042      1.557      1.524      1.139         30        896: 100%|██████████| 7/7 [00:02<00:00,  2.75it/s]\n",
            "                 Class     Images  Instances      Box(P          R      mAP50  mAP50-95)     Mask(P          R      mAP50  mAP50-95): 100%|██████████| 1/1 [00:00<00:00,  3.35it/s]"
          ]
        },
        {
          "output_type": "stream",
          "name": "stdout",
          "text": [
            "                   all         14         43      0.207      0.209      0.177      0.111       0.23      0.233      0.202      0.132\n"
          ]
        },
        {
          "output_type": "stream",
          "name": "stderr",
          "text": [
            "\n"
          ]
        },
        {
          "output_type": "stream",
          "name": "stdout",
          "text": [
            "\n",
            "      Epoch    GPU_mem   box_loss   seg_loss   cls_loss   dfl_loss  Instances       Size\n"
          ]
        },
        {
          "output_type": "stream",
          "name": "stderr",
          "text": [
            "      12/60      4.88G     0.9133      1.392      1.302      1.042         41        896: 100%|██████████| 7/7 [00:03<00:00,  2.31it/s]\n",
            "                 Class     Images  Instances      Box(P          R      mAP50  mAP50-95)     Mask(P          R      mAP50  mAP50-95): 100%|██████████| 1/1 [00:00<00:00,  1.90it/s]"
          ]
        },
        {
          "output_type": "stream",
          "name": "stdout",
          "text": [
            "                   all         14         43      0.216      0.256      0.145     0.0851      0.236      0.279      0.147     0.0681\n"
          ]
        },
        {
          "output_type": "stream",
          "name": "stderr",
          "text": [
            "\n"
          ]
        },
        {
          "output_type": "stream",
          "name": "stdout",
          "text": [
            "\n",
            "      Epoch    GPU_mem   box_loss   seg_loss   cls_loss   dfl_loss  Instances       Size\n"
          ]
        },
        {
          "output_type": "stream",
          "name": "stderr",
          "text": [
            "      13/60      4.84G     0.9653      1.783      1.581      1.113         50        896: 100%|██████████| 7/7 [00:02<00:00,  2.86it/s]\n",
            "                 Class     Images  Instances      Box(P          R      mAP50  mAP50-95)     Mask(P          R      mAP50  mAP50-95): 100%|██████████| 1/1 [00:00<00:00,  3.33it/s]"
          ]
        },
        {
          "output_type": "stream",
          "name": "stdout",
          "text": [
            "                   all         14         43      0.123      0.326     0.0809     0.0431      0.112      0.302     0.0802     0.0528\n"
          ]
        },
        {
          "output_type": "stream",
          "name": "stderr",
          "text": [
            "\n"
          ]
        },
        {
          "output_type": "stream",
          "name": "stdout",
          "text": [
            "\n",
            "      Epoch    GPU_mem   box_loss   seg_loss   cls_loss   dfl_loss  Instances       Size\n"
          ]
        },
        {
          "output_type": "stream",
          "name": "stderr",
          "text": [
            "      14/60      4.85G     0.9831      1.457      1.193      1.132         27        896: 100%|██████████| 7/7 [00:02<00:00,  2.94it/s]\n",
            "                 Class     Images  Instances      Box(P          R      mAP50  mAP50-95)     Mask(P          R      mAP50  mAP50-95): 100%|██████████| 1/1 [00:00<00:00,  2.93it/s]"
          ]
        },
        {
          "output_type": "stream",
          "name": "stdout",
          "text": [
            "                   all         14         43      0.123      0.326     0.0809     0.0431      0.112      0.302     0.0802     0.0528\n"
          ]
        },
        {
          "output_type": "stream",
          "name": "stderr",
          "text": [
            "\n"
          ]
        },
        {
          "output_type": "stream",
          "name": "stdout",
          "text": [
            "\n",
            "      Epoch    GPU_mem   box_loss   seg_loss   cls_loss   dfl_loss  Instances       Size\n"
          ]
        },
        {
          "output_type": "stream",
          "name": "stderr",
          "text": [
            "      15/60      4.92G     0.9878      1.555      1.215      1.094         36        896: 100%|██████████| 7/7 [00:02<00:00,  2.85it/s]\n",
            "                 Class     Images  Instances      Box(P          R      mAP50  mAP50-95)     Mask(P          R      mAP50  mAP50-95): 100%|██████████| 1/1 [00:00<00:00,  2.13it/s]"
          ]
        },
        {
          "output_type": "stream",
          "name": "stdout",
          "text": [
            "                   all         14         43      0.429       0.14      0.156     0.0596      0.429       0.14      0.157     0.0913\n"
          ]
        },
        {
          "output_type": "stream",
          "name": "stderr",
          "text": [
            "\n"
          ]
        },
        {
          "output_type": "stream",
          "name": "stdout",
          "text": [
            "\n",
            "      Epoch    GPU_mem   box_loss   seg_loss   cls_loss   dfl_loss  Instances       Size\n"
          ]
        },
        {
          "output_type": "stream",
          "name": "stderr",
          "text": [
            "      16/60      4.89G     0.9644      1.378      1.211      1.099         40        896: 100%|██████████| 7/7 [00:03<00:00,  2.32it/s]\n",
            "                 Class     Images  Instances      Box(P          R      mAP50  mAP50-95)     Mask(P          R      mAP50  mAP50-95): 100%|██████████| 1/1 [00:00<00:00,  2.39it/s]"
          ]
        },
        {
          "output_type": "stream",
          "name": "stdout",
          "text": [
            "                   all         14         43      0.175      0.209     0.0948     0.0535      0.161      0.209     0.0937     0.0522\n"
          ]
        },
        {
          "output_type": "stream",
          "name": "stderr",
          "text": [
            "\n"
          ]
        },
        {
          "output_type": "stream",
          "name": "stdout",
          "text": [
            "\n",
            "      Epoch    GPU_mem   box_loss   seg_loss   cls_loss   dfl_loss  Instances       Size\n"
          ]
        },
        {
          "output_type": "stream",
          "name": "stderr",
          "text": [
            "      17/60      4.99G     0.9272      1.414      1.214       1.08         44        896: 100%|██████████| 7/7 [00:02<00:00,  2.84it/s]\n",
            "                 Class     Images  Instances      Box(P          R      mAP50  mAP50-95)     Mask(P          R      mAP50  mAP50-95): 100%|██████████| 1/1 [00:00<00:00,  2.73it/s]"
          ]
        },
        {
          "output_type": "stream",
          "name": "stdout",
          "text": [
            "                   all         14         43      0.132      0.279      0.114     0.0747      0.132      0.279      0.113     0.0723\n"
          ]
        },
        {
          "output_type": "stream",
          "name": "stderr",
          "text": [
            "\n"
          ]
        },
        {
          "output_type": "stream",
          "name": "stdout",
          "text": [
            "\n",
            "      Epoch    GPU_mem   box_loss   seg_loss   cls_loss   dfl_loss  Instances       Size\n"
          ]
        },
        {
          "output_type": "stream",
          "name": "stderr",
          "text": [
            "      18/60      4.88G     0.9557      1.502      1.193      1.096         25        896: 100%|██████████| 7/7 [00:02<00:00,  2.90it/s]\n",
            "                 Class     Images  Instances      Box(P          R      mAP50  mAP50-95)     Mask(P          R      mAP50  mAP50-95): 100%|██████████| 1/1 [00:00<00:00,  3.27it/s]"
          ]
        },
        {
          "output_type": "stream",
          "name": "stdout",
          "text": [
            "                   all         14         43      0.833      0.116      0.169      0.101      0.833      0.116      0.151     0.0907\n"
          ]
        },
        {
          "output_type": "stream",
          "name": "stderr",
          "text": [
            "\n"
          ]
        },
        {
          "output_type": "stream",
          "name": "stdout",
          "text": [
            "\n",
            "      Epoch    GPU_mem   box_loss   seg_loss   cls_loss   dfl_loss  Instances       Size\n"
          ]
        },
        {
          "output_type": "stream",
          "name": "stderr",
          "text": [
            "      19/60      4.95G     0.9331      1.192      1.091      1.074         41        896: 100%|██████████| 7/7 [00:02<00:00,  2.41it/s]\n",
            "                 Class     Images  Instances      Box(P          R      mAP50  mAP50-95)     Mask(P          R      mAP50  mAP50-95): 100%|██████████| 1/1 [00:00<00:00,  1.62it/s]"
          ]
        },
        {
          "output_type": "stream",
          "name": "stdout",
          "text": [
            "                   all         14         43      0.171      0.116      0.114     0.0836      0.206       0.14      0.138     0.0759\n"
          ]
        },
        {
          "output_type": "stream",
          "name": "stderr",
          "text": [
            "\n"
          ]
        },
        {
          "output_type": "stream",
          "name": "stdout",
          "text": [
            "\n",
            "      Epoch    GPU_mem   box_loss   seg_loss   cls_loss   dfl_loss  Instances       Size\n"
          ]
        },
        {
          "output_type": "stream",
          "name": "stderr",
          "text": [
            "      20/60       4.9G     0.9318      1.212      1.072      1.068         37        896: 100%|██████████| 7/7 [00:02<00:00,  2.83it/s]\n",
            "                 Class     Images  Instances      Box(P          R      mAP50  mAP50-95)     Mask(P          R      mAP50  mAP50-95): 100%|██████████| 1/1 [00:00<00:00,  3.20it/s]"
          ]
        },
        {
          "output_type": "stream",
          "name": "stdout",
          "text": [
            "                   all         14         43      0.325      0.256      0.216      0.135      0.274      0.193      0.169     0.0983\n"
          ]
        },
        {
          "output_type": "stream",
          "name": "stderr",
          "text": [
            "\n"
          ]
        },
        {
          "output_type": "stream",
          "name": "stdout",
          "text": [
            "\n",
            "      Epoch    GPU_mem   box_loss   seg_loss   cls_loss   dfl_loss  Instances       Size\n"
          ]
        },
        {
          "output_type": "stream",
          "name": "stderr",
          "text": [
            "      21/60       4.8G     0.8616      1.297      0.984      1.073         36        896: 100%|██████████| 7/7 [00:02<00:00,  2.75it/s]\n",
            "                 Class     Images  Instances      Box(P          R      mAP50  mAP50-95)     Mask(P          R      mAP50  mAP50-95): 100%|██████████| 1/1 [00:00<00:00,  3.30it/s]"
          ]
        },
        {
          "output_type": "stream",
          "name": "stdout",
          "text": [
            "                   all         14         43      0.475      0.116      0.141      0.096       0.38      0.093      0.101     0.0542\n"
          ]
        },
        {
          "output_type": "stream",
          "name": "stderr",
          "text": [
            "\n"
          ]
        },
        {
          "output_type": "stream",
          "name": "stdout",
          "text": [
            "\n",
            "      Epoch    GPU_mem   box_loss   seg_loss   cls_loss   dfl_loss  Instances       Size\n"
          ]
        },
        {
          "output_type": "stream",
          "name": "stderr",
          "text": [
            "      22/60      4.89G     0.8127      1.165     0.8564     0.9998         21        896: 100%|██████████| 7/7 [00:02<00:00,  2.95it/s]\n",
            "                 Class     Images  Instances      Box(P          R      mAP50  mAP50-95)     Mask(P          R      mAP50  mAP50-95): 100%|██████████| 1/1 [00:00<00:00,  3.30it/s]"
          ]
        },
        {
          "output_type": "stream",
          "name": "stdout",
          "text": [
            "                   all         14         43      0.475      0.116      0.141      0.096       0.38      0.093      0.101     0.0542\n"
          ]
        },
        {
          "output_type": "stream",
          "name": "stderr",
          "text": [
            "\n"
          ]
        },
        {
          "output_type": "stream",
          "name": "stdout",
          "text": [
            "\n",
            "      Epoch    GPU_mem   box_loss   seg_loss   cls_loss   dfl_loss  Instances       Size\n"
          ]
        },
        {
          "output_type": "stream",
          "name": "stderr",
          "text": [
            "      23/60      4.85G     0.7987      1.128     0.8999     0.9761         26        896: 100%|██████████| 7/7 [00:03<00:00,  2.30it/s]\n",
            "                 Class     Images  Instances      Box(P          R      mAP50  mAP50-95)     Mask(P          R      mAP50  mAP50-95): 100%|██████████| 1/1 [00:00<00:00,  1.69it/s]"
          ]
        },
        {
          "output_type": "stream",
          "name": "stdout",
          "text": [
            "                   all         14         43      0.405      0.186      0.185     0.0997      0.345      0.209       0.17      0.076\n"
          ]
        },
        {
          "output_type": "stream",
          "name": "stderr",
          "text": [
            "\n"
          ]
        },
        {
          "output_type": "stream",
          "name": "stdout",
          "text": [
            "\n",
            "      Epoch    GPU_mem   box_loss   seg_loss   cls_loss   dfl_loss  Instances       Size\n"
          ]
        },
        {
          "output_type": "stream",
          "name": "stderr",
          "text": [
            "      24/60      4.95G     0.7678      1.134     0.9088     0.9903         39        896: 100%|██████████| 7/7 [00:02<00:00,  2.94it/s]\n",
            "                 Class     Images  Instances      Box(P          R      mAP50  mAP50-95)     Mask(P          R      mAP50  mAP50-95): 100%|██████████| 1/1 [00:00<00:00,  3.33it/s]"
          ]
        },
        {
          "output_type": "stream",
          "name": "stdout",
          "text": [
            "                   all         14         43      0.598      0.186      0.226       0.11      0.598      0.186      0.224      0.123\n"
          ]
        },
        {
          "output_type": "stream",
          "name": "stderr",
          "text": [
            "\n"
          ]
        },
        {
          "output_type": "stream",
          "name": "stdout",
          "text": [
            "\n",
            "      Epoch    GPU_mem   box_loss   seg_loss   cls_loss   dfl_loss  Instances       Size\n"
          ]
        },
        {
          "output_type": "stream",
          "name": "stderr",
          "text": [
            "      25/60      4.78G     0.8177      1.153     0.8708      1.091         36        896: 100%|██████████| 7/7 [00:02<00:00,  2.90it/s]\n",
            "                 Class     Images  Instances      Box(P          R      mAP50  mAP50-95)     Mask(P          R      mAP50  mAP50-95): 100%|██████████| 1/1 [00:00<00:00,  3.05it/s]"
          ]
        },
        {
          "output_type": "stream",
          "name": "stdout",
          "text": [
            "                   all         14         43      0.493      0.233       0.24      0.124      0.594      0.279      0.274      0.143\n"
          ]
        },
        {
          "output_type": "stream",
          "name": "stderr",
          "text": [
            "\n"
          ]
        },
        {
          "output_type": "stream",
          "name": "stdout",
          "text": [
            "\n",
            "      Epoch    GPU_mem   box_loss   seg_loss   cls_loss   dfl_loss  Instances       Size\n"
          ]
        },
        {
          "output_type": "stream",
          "name": "stderr",
          "text": [
            "      26/60      4.84G     0.8186       1.16     0.8728      1.062         22        896: 100%|██████████| 7/7 [00:02<00:00,  2.80it/s]\n",
            "                 Class     Images  Instances      Box(P          R      mAP50  mAP50-95)     Mask(P          R      mAP50  mAP50-95): 100%|██████████| 1/1 [00:00<00:00,  1.77it/s]"
          ]
        },
        {
          "output_type": "stream",
          "name": "stdout",
          "text": [
            "                   all         14         43      0.361      0.302      0.249      0.141       0.42      0.349      0.289       0.16\n"
          ]
        },
        {
          "output_type": "stream",
          "name": "stderr",
          "text": [
            "\n"
          ]
        },
        {
          "output_type": "stream",
          "name": "stdout",
          "text": [
            "\n",
            "      Epoch    GPU_mem   box_loss   seg_loss   cls_loss   dfl_loss  Instances       Size\n"
          ]
        },
        {
          "output_type": "stream",
          "name": "stderr",
          "text": [
            "      27/60      4.76G     0.8125      1.236     0.9313      1.037         38        896: 100%|██████████| 7/7 [00:03<00:00,  2.10it/s]\n",
            "                 Class     Images  Instances      Box(P          R      mAP50  mAP50-95)     Mask(P          R      mAP50  mAP50-95): 100%|██████████| 1/1 [00:00<00:00,  2.82it/s]"
          ]
        },
        {
          "output_type": "stream",
          "name": "stdout",
          "text": [
            "                   all         14         43      0.365      0.279      0.222      0.137      0.353      0.302      0.257      0.143\n"
          ]
        },
        {
          "output_type": "stream",
          "name": "stderr",
          "text": [
            "\n"
          ]
        },
        {
          "output_type": "stream",
          "name": "stdout",
          "text": [
            "\n",
            "      Epoch    GPU_mem   box_loss   seg_loss   cls_loss   dfl_loss  Instances       Size\n"
          ]
        },
        {
          "output_type": "stream",
          "name": "stderr",
          "text": [
            "      28/60         5G     0.7752      1.247      0.869     0.9891         44        896: 100%|██████████| 7/7 [00:02<00:00,  2.94it/s]\n",
            "                 Class     Images  Instances      Box(P          R      mAP50  mAP50-95)     Mask(P          R      mAP50  mAP50-95): 100%|██████████| 1/1 [00:00<00:00,  2.90it/s]"
          ]
        },
        {
          "output_type": "stream",
          "name": "stdout",
          "text": [
            "                   all         14         43      0.263      0.326      0.205      0.126      0.263      0.326      0.206      0.124\n"
          ]
        },
        {
          "output_type": "stream",
          "name": "stderr",
          "text": [
            "\n"
          ]
        },
        {
          "output_type": "stream",
          "name": "stdout",
          "text": [
            "\n",
            "      Epoch    GPU_mem   box_loss   seg_loss   cls_loss   dfl_loss  Instances       Size\n"
          ]
        },
        {
          "output_type": "stream",
          "name": "stderr",
          "text": [
            "      29/60      4.95G       0.77      1.145     0.7925      1.022         23        896: 100%|██████████| 7/7 [00:02<00:00,  2.72it/s]\n",
            "                 Class     Images  Instances      Box(P          R      mAP50  mAP50-95)     Mask(P          R      mAP50  mAP50-95): 100%|██████████| 1/1 [00:00<00:00,  2.17it/s]"
          ]
        },
        {
          "output_type": "stream",
          "name": "stdout",
          "text": [
            "                   all         14         43      0.317      0.349      0.224      0.133      0.327      0.349      0.229      0.135\n"
          ]
        },
        {
          "output_type": "stream",
          "name": "stderr",
          "text": [
            "\n"
          ]
        },
        {
          "output_type": "stream",
          "name": "stdout",
          "text": [
            "\n",
            "      Epoch    GPU_mem   box_loss   seg_loss   cls_loss   dfl_loss  Instances       Size\n"
          ]
        },
        {
          "output_type": "stream",
          "name": "stderr",
          "text": [
            "      30/60      4.94G     0.8042      1.284     0.7627      1.023         37        896: 100%|██████████| 7/7 [00:02<00:00,  2.47it/s]\n",
            "                 Class     Images  Instances      Box(P          R      mAP50  mAP50-95)     Mask(P          R      mAP50  mAP50-95): 100%|██████████| 1/1 [00:00<00:00,  3.04it/s]"
          ]
        },
        {
          "output_type": "stream",
          "name": "stdout",
          "text": [
            "                   all         14         43      0.317      0.349      0.224      0.133      0.327      0.349      0.229      0.135\n"
          ]
        },
        {
          "output_type": "stream",
          "name": "stderr",
          "text": [
            "\n"
          ]
        },
        {
          "output_type": "stream",
          "name": "stdout",
          "text": [
            "\n",
            "      Epoch    GPU_mem   box_loss   seg_loss   cls_loss   dfl_loss  Instances       Size\n"
          ]
        },
        {
          "output_type": "stream",
          "name": "stderr",
          "text": [
            "      31/60       4.9G     0.7875      1.128      0.808      1.025         46        896: 100%|██████████| 7/7 [00:02<00:00,  2.86it/s]\n",
            "                 Class     Images  Instances      Box(P          R      mAP50  mAP50-95)     Mask(P          R      mAP50  mAP50-95): 100%|██████████| 1/1 [00:00<00:00,  3.35it/s]"
          ]
        },
        {
          "output_type": "stream",
          "name": "stdout",
          "text": [
            "                   all         14         43      0.308      0.395      0.243      0.139      0.296      0.349      0.238      0.145\n"
          ]
        },
        {
          "output_type": "stream",
          "name": "stderr",
          "text": [
            "\n"
          ]
        },
        {
          "output_type": "stream",
          "name": "stdout",
          "text": [
            "\n",
            "      Epoch    GPU_mem   box_loss   seg_loss   cls_loss   dfl_loss  Instances       Size\n"
          ]
        },
        {
          "output_type": "stream",
          "name": "stderr",
          "text": [
            "      32/60       4.9G     0.7392      1.108     0.7904     0.9948         25        896: 100%|██████████| 7/7 [00:02<00:00,  2.93it/s]\n",
            "                 Class     Images  Instances      Box(P          R      mAP50  mAP50-95)     Mask(P          R      mAP50  mAP50-95): 100%|██████████| 1/1 [00:00<00:00,  3.03it/s]"
          ]
        },
        {
          "output_type": "stream",
          "name": "stdout",
          "text": [
            "                   all         14         43      0.292      0.349      0.256      0.149      0.292      0.349      0.258      0.148\n"
          ]
        },
        {
          "output_type": "stream",
          "name": "stderr",
          "text": [
            "\n"
          ]
        },
        {
          "output_type": "stream",
          "name": "stdout",
          "text": [
            "\n",
            "      Epoch    GPU_mem   box_loss   seg_loss   cls_loss   dfl_loss  Instances       Size\n"
          ]
        },
        {
          "output_type": "stream",
          "name": "stderr",
          "text": [
            "      33/60      4.84G     0.7659      1.107     0.7964      0.986         31        896: 100%|██████████| 7/7 [00:02<00:00,  2.37it/s]\n",
            "                 Class     Images  Instances      Box(P          R      mAP50  mAP50-95)     Mask(P          R      mAP50  mAP50-95): 100%|██████████| 1/1 [00:00<00:00,  2.13it/s]"
          ]
        },
        {
          "output_type": "stream",
          "name": "stdout",
          "text": [
            "                   all         14         43      0.386      0.302      0.267      0.155      0.386      0.302      0.261      0.154\n"
          ]
        },
        {
          "output_type": "stream",
          "name": "stderr",
          "text": [
            "\n"
          ]
        },
        {
          "output_type": "stream",
          "name": "stdout",
          "text": [
            "\n",
            "      Epoch    GPU_mem   box_loss   seg_loss   cls_loss   dfl_loss  Instances       Size\n"
          ]
        },
        {
          "output_type": "stream",
          "name": "stderr",
          "text": [
            "      34/60      4.95G     0.6944      1.055     0.6735     0.9315         35        896: 100%|██████████| 7/7 [00:02<00:00,  2.90it/s]\n",
            "                 Class     Images  Instances      Box(P          R      mAP50  mAP50-95)     Mask(P          R      mAP50  mAP50-95): 100%|██████████| 1/1 [00:00<00:00,  3.31it/s]"
          ]
        },
        {
          "output_type": "stream",
          "name": "stdout",
          "text": [
            "                   all         14         43      0.354      0.349      0.275      0.171      0.354      0.349      0.278      0.161\n"
          ]
        },
        {
          "output_type": "stream",
          "name": "stderr",
          "text": [
            "\n"
          ]
        },
        {
          "output_type": "stream",
          "name": "stdout",
          "text": [
            "\n",
            "      Epoch    GPU_mem   box_loss   seg_loss   cls_loss   dfl_loss  Instances       Size\n"
          ]
        },
        {
          "output_type": "stream",
          "name": "stderr",
          "text": [
            "      35/60      4.89G     0.6982      1.032     0.7322     0.9622         30        896: 100%|██████████| 7/7 [00:02<00:00,  2.75it/s]\n",
            "                 Class     Images  Instances      Box(P          R      mAP50  mAP50-95)     Mask(P          R      mAP50  mAP50-95): 100%|██████████| 1/1 [00:00<00:00,  3.67it/s]"
          ]
        },
        {
          "output_type": "stream",
          "name": "stdout",
          "text": [
            "                   all         14         43      0.327      0.349      0.283      0.179      0.319      0.395      0.284      0.165\n"
          ]
        },
        {
          "output_type": "stream",
          "name": "stderr",
          "text": [
            "\n"
          ]
        },
        {
          "output_type": "stream",
          "name": "stdout",
          "text": [
            "\n",
            "      Epoch    GPU_mem   box_loss   seg_loss   cls_loss   dfl_loss  Instances       Size\n"
          ]
        },
        {
          "output_type": "stream",
          "name": "stderr",
          "text": [
            "      36/60      4.91G     0.6784     0.9754     0.6519     0.9449         35        896: 100%|██████████| 7/7 [00:02<00:00,  2.86it/s]\n",
            "                 Class     Images  Instances      Box(P          R      mAP50  mAP50-95)     Mask(P          R      mAP50  mAP50-95): 100%|██████████| 1/1 [00:00<00:00,  2.46it/s]"
          ]
        },
        {
          "output_type": "stream",
          "name": "stdout",
          "text": [
            "                   all         14         43      0.314      0.395      0.288      0.182      0.309      0.419      0.284      0.184\n"
          ]
        },
        {
          "output_type": "stream",
          "name": "stderr",
          "text": [
            "\n"
          ]
        },
        {
          "output_type": "stream",
          "name": "stdout",
          "text": [
            "\n",
            "      Epoch    GPU_mem   box_loss   seg_loss   cls_loss   dfl_loss  Instances       Size\n"
          ]
        },
        {
          "output_type": "stream",
          "name": "stderr",
          "text": [
            "      37/60      4.92G     0.7148      1.058     0.6534     0.9877         31        896: 100%|██████████| 7/7 [00:02<00:00,  2.46it/s]\n",
            "                 Class     Images  Instances      Box(P          R      mAP50  mAP50-95)     Mask(P          R      mAP50  mAP50-95): 100%|██████████| 1/1 [00:00<00:00,  3.38it/s]"
          ]
        },
        {
          "output_type": "stream",
          "name": "stdout",
          "text": [
            "                   all         14         43      0.396       0.32      0.297      0.188       0.36      0.349      0.303      0.185\n"
          ]
        },
        {
          "output_type": "stream",
          "name": "stderr",
          "text": [
            "\n"
          ]
        },
        {
          "output_type": "stream",
          "name": "stdout",
          "text": [
            "\n",
            "      Epoch    GPU_mem   box_loss   seg_loss   cls_loss   dfl_loss  Instances       Size\n"
          ]
        },
        {
          "output_type": "stream",
          "name": "stderr",
          "text": [
            "      38/60      4.87G     0.6245     0.8854     0.6376     0.9465         25        896: 100%|██████████| 7/7 [00:02<00:00,  2.97it/s]\n",
            "                 Class     Images  Instances      Box(P          R      mAP50  mAP50-95)     Mask(P          R      mAP50  mAP50-95): 100%|██████████| 1/1 [00:00<00:00,  3.84it/s]"
          ]
        },
        {
          "output_type": "stream",
          "name": "stdout",
          "text": [
            "                   all         14         43      0.396       0.32      0.297      0.188       0.36      0.349      0.303      0.185\n"
          ]
        },
        {
          "output_type": "stream",
          "name": "stderr",
          "text": [
            "\n"
          ]
        },
        {
          "output_type": "stream",
          "name": "stdout",
          "text": [
            "\n",
            "      Epoch    GPU_mem   box_loss   seg_loss   cls_loss   dfl_loss  Instances       Size\n"
          ]
        },
        {
          "output_type": "stream",
          "name": "stderr",
          "text": [
            "      39/60      4.86G     0.6404     0.9462     0.6469     0.9388         39        896: 100%|██████████| 7/7 [00:02<00:00,  2.93it/s]\n",
            "                 Class     Images  Instances      Box(P          R      mAP50  mAP50-95)     Mask(P          R      mAP50  mAP50-95): 100%|██████████| 1/1 [00:00<00:00,  3.49it/s]"
          ]
        },
        {
          "output_type": "stream",
          "name": "stdout",
          "text": [
            "                   all         14         43      0.485      0.326      0.304      0.207      0.485      0.326      0.306      0.195\n"
          ]
        },
        {
          "output_type": "stream",
          "name": "stderr",
          "text": [
            "\n"
          ]
        },
        {
          "output_type": "stream",
          "name": "stdout",
          "text": [
            "\n",
            "      Epoch    GPU_mem   box_loss   seg_loss   cls_loss   dfl_loss  Instances       Size\n"
          ]
        },
        {
          "output_type": "stream",
          "name": "stderr",
          "text": [
            "      40/60       4.8G     0.6221     0.8675     0.6112     0.9559         39        896: 100%|██████████| 7/7 [00:02<00:00,  2.48it/s]\n",
            "                 Class     Images  Instances      Box(P          R      mAP50  mAP50-95)     Mask(P          R      mAP50  mAP50-95): 100%|██████████| 1/1 [00:00<00:00,  1.93it/s]"
          ]
        },
        {
          "output_type": "stream",
          "name": "stdout",
          "text": [
            "                   all         14         43      0.422      0.326      0.288      0.203      0.421      0.349      0.296      0.192\n"
          ]
        },
        {
          "output_type": "stream",
          "name": "stderr",
          "text": [
            "\n"
          ]
        },
        {
          "output_type": "stream",
          "name": "stdout",
          "text": [
            "\n",
            "      Epoch    GPU_mem   box_loss   seg_loss   cls_loss   dfl_loss  Instances       Size\n"
          ]
        },
        {
          "output_type": "stream",
          "name": "stderr",
          "text": [
            "      41/60      5.01G     0.6449     0.9351     0.6457     0.9518         33        896: 100%|██████████| 7/7 [00:02<00:00,  2.88it/s]\n",
            "                 Class     Images  Instances      Box(P          R      mAP50  mAP50-95)     Mask(P          R      mAP50  mAP50-95): 100%|██████████| 1/1 [00:00<00:00,  3.60it/s]"
          ]
        },
        {
          "output_type": "stream",
          "name": "stdout",
          "text": [
            "                   all         14         43      0.373      0.419      0.317      0.202      0.373      0.419      0.315      0.202\n"
          ]
        },
        {
          "output_type": "stream",
          "name": "stderr",
          "text": [
            "\n"
          ]
        },
        {
          "output_type": "stream",
          "name": "stdout",
          "text": [
            "\n",
            "      Epoch    GPU_mem   box_loss   seg_loss   cls_loss   dfl_loss  Instances       Size\n"
          ]
        },
        {
          "output_type": "stream",
          "name": "stderr",
          "text": [
            "      42/60      4.93G     0.6542     0.8721     0.6593     0.9563         37        896: 100%|██████████| 7/7 [00:02<00:00,  2.75it/s]\n",
            "                 Class     Images  Instances      Box(P          R      mAP50  mAP50-95)     Mask(P          R      mAP50  mAP50-95): 100%|██████████| 1/1 [00:00<00:00,  3.53it/s]"
          ]
        },
        {
          "output_type": "stream",
          "name": "stdout",
          "text": [
            "                   all         14         43      0.412      0.395      0.314      0.199      0.388      0.372      0.291      0.189\n"
          ]
        },
        {
          "output_type": "stream",
          "name": "stderr",
          "text": [
            "\n"
          ]
        },
        {
          "output_type": "stream",
          "name": "stdout",
          "text": [
            "\n",
            "      Epoch    GPU_mem   box_loss   seg_loss   cls_loss   dfl_loss  Instances       Size\n"
          ]
        },
        {
          "output_type": "stream",
          "name": "stderr",
          "text": [
            "      43/60      4.91G     0.6362      0.915     0.6129     0.9464         41        896: 100%|██████████| 7/7 [00:02<00:00,  2.67it/s]\n",
            "                 Class     Images  Instances      Box(P          R      mAP50  mAP50-95)     Mask(P          R      mAP50  mAP50-95): 100%|██████████| 1/1 [00:00<00:00,  1.51it/s]"
          ]
        },
        {
          "output_type": "stream",
          "name": "stdout",
          "text": [
            "                   all         14         43      0.394      0.326      0.267      0.177      0.394      0.326       0.26      0.166\n"
          ]
        },
        {
          "output_type": "stream",
          "name": "stderr",
          "text": [
            "\n"
          ]
        },
        {
          "output_type": "stream",
          "name": "stdout",
          "text": [
            "\n",
            "      Epoch    GPU_mem   box_loss   seg_loss   cls_loss   dfl_loss  Instances       Size\n"
          ]
        },
        {
          "output_type": "stream",
          "name": "stderr",
          "text": [
            "      44/60      4.96G     0.6447     0.9438      0.634     0.9443         53        896: 100%|██████████| 7/7 [00:02<00:00,  2.69it/s]\n",
            "                 Class     Images  Instances      Box(P          R      mAP50  mAP50-95)     Mask(P          R      mAP50  mAP50-95): 100%|██████████| 1/1 [00:00<00:00,  3.62it/s]"
          ]
        },
        {
          "output_type": "stream",
          "name": "stdout",
          "text": [
            "                   all         14         43      0.367      0.337      0.267       0.17      0.392       0.36      0.275      0.161\n"
          ]
        },
        {
          "output_type": "stream",
          "name": "stderr",
          "text": [
            "\n"
          ]
        },
        {
          "output_type": "stream",
          "name": "stdout",
          "text": [
            "\n",
            "      Epoch    GPU_mem   box_loss   seg_loss   cls_loss   dfl_loss  Instances       Size\n"
          ]
        },
        {
          "output_type": "stream",
          "name": "stderr",
          "text": [
            "      45/60      4.86G     0.6307     0.9538     0.6157     0.9598         36        896: 100%|██████████| 7/7 [00:02<00:00,  2.86it/s]\n",
            "                 Class     Images  Instances      Box(P          R      mAP50  mAP50-95)     Mask(P          R      mAP50  mAP50-95): 100%|██████████| 1/1 [00:00<00:00,  2.65it/s]"
          ]
        },
        {
          "output_type": "stream",
          "name": "stdout",
          "text": [
            "                   all         14         43      0.379      0.326      0.297      0.184      0.401      0.395      0.303      0.183\n"
          ]
        },
        {
          "output_type": "stream",
          "name": "stderr",
          "text": [
            "\n"
          ]
        },
        {
          "output_type": "stream",
          "name": "stdout",
          "text": [
            "\n",
            "      Epoch    GPU_mem   box_loss   seg_loss   cls_loss   dfl_loss  Instances       Size\n"
          ]
        },
        {
          "output_type": "stream",
          "name": "stderr",
          "text": [
            "      46/60      4.83G     0.5488     0.8616     0.5736     0.9046         36        896: 100%|██████████| 7/7 [00:02<00:00,  2.93it/s]\n",
            "                 Class     Images  Instances      Box(P          R      mAP50  mAP50-95)     Mask(P          R      mAP50  mAP50-95): 100%|██████████| 1/1 [00:00<00:00,  2.83it/s]"
          ]
        },
        {
          "output_type": "stream",
          "name": "stdout",
          "text": [
            "                   all         14         43      0.379      0.326      0.297      0.184      0.401      0.395      0.303      0.183\n"
          ]
        },
        {
          "output_type": "stream",
          "name": "stderr",
          "text": [
            "\n"
          ]
        },
        {
          "output_type": "stream",
          "name": "stdout",
          "text": [
            "\n",
            "      Epoch    GPU_mem   box_loss   seg_loss   cls_loss   dfl_loss  Instances       Size\n"
          ]
        },
        {
          "output_type": "stream",
          "name": "stderr",
          "text": [
            "      47/60      4.86G     0.6102     0.8801     0.5744     0.9249         48        896: 100%|██████████| 7/7 [00:02<00:00,  2.34it/s]\n",
            "                 Class     Images  Instances      Box(P          R      mAP50  mAP50-95)     Mask(P          R      mAP50  mAP50-95): 100%|██████████| 1/1 [00:00<00:00,  3.16it/s]"
          ]
        },
        {
          "output_type": "stream",
          "name": "stdout",
          "text": [
            "                   all         14         43       0.44      0.302      0.294      0.189      0.411      0.395      0.315      0.192\n"
          ]
        },
        {
          "output_type": "stream",
          "name": "stderr",
          "text": [
            "\n"
          ]
        },
        {
          "output_type": "stream",
          "name": "stdout",
          "text": [
            "\n",
            "      Epoch    GPU_mem   box_loss   seg_loss   cls_loss   dfl_loss  Instances       Size\n"
          ]
        },
        {
          "output_type": "stream",
          "name": "stderr",
          "text": [
            "      48/60       4.9G     0.5579     0.8302     0.5631     0.9304         36        896: 100%|██████████| 7/7 [00:02<00:00,  2.91it/s]\n",
            "                 Class     Images  Instances      Box(P          R      mAP50  mAP50-95)     Mask(P          R      mAP50  mAP50-95): 100%|██████████| 1/1 [00:00<00:00,  3.74it/s]"
          ]
        },
        {
          "output_type": "stream",
          "name": "stdout",
          "text": [
            "                   all         14         43       0.54      0.302      0.311      0.187       0.54      0.302      0.306      0.184\n"
          ]
        },
        {
          "output_type": "stream",
          "name": "stderr",
          "text": [
            "\n"
          ]
        },
        {
          "output_type": "stream",
          "name": "stdout",
          "text": [
            "\n",
            "      Epoch    GPU_mem   box_loss   seg_loss   cls_loss   dfl_loss  Instances       Size\n"
          ]
        },
        {
          "output_type": "stream",
          "name": "stderr",
          "text": [
            "      49/60      4.81G     0.5487     0.7855     0.5325     0.9113         32        896: 100%|██████████| 7/7 [00:02<00:00,  2.90it/s]\n",
            "                 Class     Images  Instances      Box(P          R      mAP50  mAP50-95)     Mask(P          R      mAP50  mAP50-95): 100%|██████████| 1/1 [00:00<00:00,  2.86it/s]"
          ]
        },
        {
          "output_type": "stream",
          "name": "stdout",
          "text": [
            "                   all         14         43      0.554      0.279      0.324      0.181      0.598      0.302      0.311      0.184\n"
          ]
        },
        {
          "output_type": "stream",
          "name": "stderr",
          "text": [
            "\n"
          ]
        },
        {
          "output_type": "stream",
          "name": "stdout",
          "text": [
            "\n",
            "      Epoch    GPU_mem   box_loss   seg_loss   cls_loss   dfl_loss  Instances       Size\n"
          ]
        },
        {
          "output_type": "stream",
          "name": "stderr",
          "text": [
            "      50/60      4.93G     0.5543      0.847     0.5551     0.8819         22        896: 100%|██████████| 7/7 [00:02<00:00,  2.73it/s]\n",
            "                 Class     Images  Instances      Box(P          R      mAP50  mAP50-95)     Mask(P          R      mAP50  mAP50-95): 100%|██████████| 1/1 [00:00<00:00,  1.94it/s]"
          ]
        },
        {
          "output_type": "stream",
          "name": "stdout",
          "text": [
            "                   all         14         43      0.479      0.279      0.322      0.182      0.408      0.326      0.293      0.175\n"
          ]
        },
        {
          "output_type": "stream",
          "name": "stderr",
          "text": [
            "\n"
          ]
        },
        {
          "output_type": "stream",
          "name": "stdout",
          "text": [
            "Closing dataloader mosaic\n",
            "\u001b[34m\u001b[1malbumentations: \u001b[0mBlur(p=0.01, blur_limit=(3, 7)), MedianBlur(p=0.01, blur_limit=(3, 7)), ToGray(p=0.01, method='weighted_average', num_output_channels=3), CLAHE(p=0.01, clip_limit=(1.0, 4.0), tile_grid_size=(8, 8))\n"
          ]
        },
        {
          "output_type": "stream",
          "name": "stderr",
          "text": [
            "/usr/local/lib/python3.12/dist-packages/ultralytics/data/augment.py:1850: UserWarning: Argument(s) 'quality_lower' are not valid for transform ImageCompression\n",
            "  A.ImageCompression(quality_lower=75, p=0.0),\n"
          ]
        },
        {
          "output_type": "stream",
          "name": "stdout",
          "text": [
            "\n",
            "      Epoch    GPU_mem   box_loss   seg_loss   cls_loss   dfl_loss  Instances       Size\n"
          ]
        },
        {
          "output_type": "stream",
          "name": "stderr",
          "text": [
            "      51/60      4.75G     0.5072     0.7463     0.4533     0.8825         31        896: 100%|██████████| 7/7 [00:03<00:00,  1.89it/s]\n",
            "                 Class     Images  Instances      Box(P          R      mAP50  mAP50-95)     Mask(P          R      mAP50  mAP50-95): 100%|██████████| 1/1 [00:00<00:00,  3.80it/s]"
          ]
        },
        {
          "output_type": "stream",
          "name": "stdout",
          "text": [
            "                   all         14         43      0.522      0.256       0.31      0.188       0.38      0.349      0.318      0.174\n"
          ]
        },
        {
          "output_type": "stream",
          "name": "stderr",
          "text": [
            "\n"
          ]
        },
        {
          "output_type": "stream",
          "name": "stdout",
          "text": [
            "\n",
            "      Epoch    GPU_mem   box_loss   seg_loss   cls_loss   dfl_loss  Instances       Size\n"
          ]
        },
        {
          "output_type": "stream",
          "name": "stderr",
          "text": [
            "      52/60      4.88G     0.4999     0.7739     0.4503     0.8824         24        896: 100%|██████████| 7/7 [00:02<00:00,  2.82it/s]\n",
            "                 Class     Images  Instances      Box(P          R      mAP50  mAP50-95)     Mask(P          R      mAP50  mAP50-95): 100%|██████████| 1/1 [00:00<00:00,  3.89it/s]"
          ]
        },
        {
          "output_type": "stream",
          "name": "stdout",
          "text": [
            "                   all         14         43      0.536      0.279      0.309       0.18      0.387      0.372      0.319      0.179\n"
          ]
        },
        {
          "output_type": "stream",
          "name": "stderr",
          "text": [
            "\n"
          ]
        },
        {
          "output_type": "stream",
          "name": "stdout",
          "text": [
            "\n",
            "      Epoch    GPU_mem   box_loss   seg_loss   cls_loss   dfl_loss  Instances       Size\n"
          ]
        },
        {
          "output_type": "stream",
          "name": "stderr",
          "text": [
            "      53/60      4.84G     0.4791     0.7328     0.4222     0.8682         25        896: 100%|██████████| 7/7 [00:02<00:00,  3.06it/s]\n",
            "                 Class     Images  Instances      Box(P          R      mAP50  mAP50-95)     Mask(P          R      mAP50  mAP50-95): 100%|██████████| 1/1 [00:00<00:00,  3.45it/s]"
          ]
        },
        {
          "output_type": "stream",
          "name": "stdout",
          "text": [
            "                   all         14         43      0.475      0.349      0.323      0.192      0.475      0.349      0.344      0.195\n"
          ]
        },
        {
          "output_type": "stream",
          "name": "stderr",
          "text": [
            "\n"
          ]
        },
        {
          "output_type": "stream",
          "name": "stdout",
          "text": [
            "\n",
            "      Epoch    GPU_mem   box_loss   seg_loss   cls_loss   dfl_loss  Instances       Size\n"
          ]
        },
        {
          "output_type": "stream",
          "name": "stderr",
          "text": [
            "      54/60       4.8G     0.5015     0.7743     0.4324     0.8949         27        896: 100%|██████████| 7/7 [00:02<00:00,  2.44it/s]\n",
            "                 Class     Images  Instances      Box(P          R      mAP50  mAP50-95)     Mask(P          R      mAP50  mAP50-95): 100%|██████████| 1/1 [00:00<00:00,  3.54it/s]"
          ]
        },
        {
          "output_type": "stream",
          "name": "stdout",
          "text": [
            "                   all         14         43      0.475      0.349      0.323      0.192      0.475      0.349      0.344      0.195\n"
          ]
        },
        {
          "output_type": "stream",
          "name": "stderr",
          "text": [
            "\n"
          ]
        },
        {
          "output_type": "stream",
          "name": "stdout",
          "text": [
            "\n",
            "      Epoch    GPU_mem   box_loss   seg_loss   cls_loss   dfl_loss  Instances       Size\n"
          ]
        },
        {
          "output_type": "stream",
          "name": "stderr",
          "text": [
            "      55/60      4.85G     0.4894      0.709     0.4178      0.874         17        896: 100%|██████████| 7/7 [00:02<00:00,  3.01it/s]\n",
            "                 Class     Images  Instances      Box(P          R      mAP50  mAP50-95)     Mask(P          R      mAP50  mAP50-95): 100%|██████████| 1/1 [00:00<00:00,  3.69it/s]"
          ]
        },
        {
          "output_type": "stream",
          "name": "stdout",
          "text": [
            "                   all         14         43      0.471      0.349      0.322      0.196       0.46      0.349      0.345      0.203\n"
          ]
        },
        {
          "output_type": "stream",
          "name": "stderr",
          "text": [
            "\n"
          ]
        },
        {
          "output_type": "stream",
          "name": "stdout",
          "text": [
            "\n",
            "      Epoch    GPU_mem   box_loss   seg_loss   cls_loss   dfl_loss  Instances       Size\n"
          ]
        },
        {
          "output_type": "stream",
          "name": "stderr",
          "text": [
            "      56/60      4.79G     0.4882     0.6992     0.4167     0.8802         34        896: 100%|██████████| 7/7 [00:02<00:00,  3.06it/s]\n",
            "                 Class     Images  Instances      Box(P          R      mAP50  mAP50-95)     Mask(P          R      mAP50  mAP50-95): 100%|██████████| 1/1 [00:00<00:00,  3.73it/s]"
          ]
        },
        {
          "output_type": "stream",
          "name": "stdout",
          "text": [
            "                   all         14         43      0.499      0.349      0.334      0.204      0.467      0.372      0.351      0.212\n"
          ]
        },
        {
          "output_type": "stream",
          "name": "stderr",
          "text": [
            "\n"
          ]
        },
        {
          "output_type": "stream",
          "name": "stdout",
          "text": [
            "\n",
            "      Epoch    GPU_mem   box_loss   seg_loss   cls_loss   dfl_loss  Instances       Size\n"
          ]
        },
        {
          "output_type": "stream",
          "name": "stderr",
          "text": [
            "      57/60      4.83G     0.4834     0.6834     0.4073     0.8654         20        896: 100%|██████████| 7/7 [00:02<00:00,  2.95it/s]\n",
            "                 Class     Images  Instances      Box(P          R      mAP50  mAP50-95)     Mask(P          R      mAP50  mAP50-95): 100%|██████████| 1/1 [00:00<00:00,  2.63it/s]"
          ]
        },
        {
          "output_type": "stream",
          "name": "stdout",
          "text": [
            "                   all         14         43      0.496      0.372      0.347      0.211      0.516      0.395      0.364      0.219\n"
          ]
        },
        {
          "output_type": "stream",
          "name": "stderr",
          "text": [
            "\n"
          ]
        },
        {
          "output_type": "stream",
          "name": "stdout",
          "text": [
            "\n",
            "      Epoch    GPU_mem   box_loss   seg_loss   cls_loss   dfl_loss  Instances       Size\n"
          ]
        },
        {
          "output_type": "stream",
          "name": "stderr",
          "text": [
            "      58/60      4.87G     0.4623      0.697     0.4186     0.8669         23        896: 100%|██████████| 7/7 [00:02<00:00,  2.68it/s]\n",
            "                 Class     Images  Instances      Box(P          R      mAP50  mAP50-95)     Mask(P          R      mAP50  mAP50-95): 100%|██████████| 1/1 [00:00<00:00,  3.86it/s]"
          ]
        },
        {
          "output_type": "stream",
          "name": "stdout",
          "text": [
            "                   all         14         43      0.517      0.326      0.335      0.214       0.52      0.378      0.368      0.224\n"
          ]
        },
        {
          "output_type": "stream",
          "name": "stderr",
          "text": [
            "\n"
          ]
        },
        {
          "output_type": "stream",
          "name": "stdout",
          "text": [
            "\n",
            "      Epoch    GPU_mem   box_loss   seg_loss   cls_loss   dfl_loss  Instances       Size\n"
          ]
        },
        {
          "output_type": "stream",
          "name": "stderr",
          "text": [
            "      59/60      4.79G       0.47     0.7252     0.4025     0.8567         20        896: 100%|██████████| 7/7 [00:02<00:00,  3.07it/s]\n",
            "                 Class     Images  Instances      Box(P          R      mAP50  mAP50-95)     Mask(P          R      mAP50  mAP50-95): 100%|██████████| 1/1 [00:00<00:00,  3.70it/s]"
          ]
        },
        {
          "output_type": "stream",
          "name": "stdout",
          "text": [
            "                   all         14         43      0.571      0.326       0.34      0.214      0.474      0.395      0.373      0.229\n"
          ]
        },
        {
          "output_type": "stream",
          "name": "stderr",
          "text": [
            "\n"
          ]
        },
        {
          "output_type": "stream",
          "name": "stdout",
          "text": [
            "\n",
            "      Epoch    GPU_mem   box_loss   seg_loss   cls_loss   dfl_loss  Instances       Size\n"
          ]
        },
        {
          "output_type": "stream",
          "name": "stderr",
          "text": [
            "      60/60      4.82G     0.4445     0.6983     0.3881     0.8445         25        896: 100%|██████████| 7/7 [00:02<00:00,  3.06it/s]\n",
            "                 Class     Images  Instances      Box(P          R      mAP50  mAP50-95)     Mask(P          R      mAP50  mAP50-95): 100%|██████████| 1/1 [00:00<00:00,  3.54it/s]"
          ]
        },
        {
          "output_type": "stream",
          "name": "stdout",
          "text": [
            "                   all         14         43      0.484      0.349      0.347      0.217      0.529      0.393      0.364      0.232\n"
          ]
        },
        {
          "output_type": "stream",
          "name": "stderr",
          "text": [
            "\n"
          ]
        },
        {
          "output_type": "stream",
          "name": "stdout",
          "text": [
            "\n",
            "60 epochs completed in 0.071 hours.\n",
            "Optimizer stripped from /content/drive/MyDrive/Archive/runs/yolov8s_seg_trash2/weights/last.pt, 23.9MB\n",
            "Optimizer stripped from /content/drive/MyDrive/Archive/runs/yolov8s_seg_trash2/weights/best.pt, 23.9MB\n",
            "\n",
            "Validating /content/drive/MyDrive/Archive/runs/yolov8s_seg_trash2/weights/best.pt...\n",
            "Ultralytics 8.3.29 🚀 Python-3.12.11 torch-2.8.0+cu126 CUDA:0 (Tesla T4, 15095MiB)\n",
            "YOLOv8s-seg summary (fused): 195 layers, 11,779,987 parameters, 0 gradients, 39.9 GFLOPs\n"
          ]
        },
        {
          "output_type": "stream",
          "name": "stderr",
          "text": [
            "                 Class     Images  Instances      Box(P          R      mAP50  mAP50-95)     Mask(P          R      mAP50  mAP50-95): 100%|██████████| 1/1 [00:00<00:00,  3.33it/s]\n"
          ]
        },
        {
          "output_type": "stream",
          "name": "stdout",
          "text": [
            "                   all         14         43      0.489      0.356      0.348      0.217       0.53      0.393      0.366      0.232\n",
            "Speed: 0.4ms preprocess, 10.9ms inference, 0.0ms loss, 0.9ms postprocess per image\n",
            "Results saved to \u001b[1m/content/drive/MyDrive/Archive/runs/yolov8s_seg_trash2\u001b[0m\n"
          ]
        }
      ]
    },
    {
      "cell_type": "code",
      "source": [
        "from google.colab import drive\n",
        "drive.mount('/content/drive')"
      ],
      "metadata": {
        "id": "VQSG1fRVrdur"
      },
      "execution_count": null,
      "outputs": []
    },
    {
      "cell_type": "code",
      "source": [
        "metrics = model.val(data=DATA_YAML, imgsz=896, iou=0.50, conf=0.001, plots=True)\n",
        "print(metrics)\n"
      ],
      "metadata": {
        "colab": {
          "base_uri": "https://localhost:8080/"
        },
        "id": "zm8bbP5vn5h1",
        "outputId": "dd800b56-7639-47e7-a88d-b6c48aacc6a7"
      },
      "execution_count": null,
      "outputs": [
        {
          "output_type": "stream",
          "name": "stdout",
          "text": [
            "Ultralytics 8.3.29 🚀 Python-3.12.11 torch-2.8.0+cu126 CUDA:0 (Tesla T4, 15095MiB)\n",
            "YOLOv8s-seg summary (fused): 195 layers, 11,779,987 parameters, 0 gradients, 39.9 GFLOPs\n"
          ]
        },
        {
          "output_type": "stream",
          "name": "stderr",
          "text": [
            "\u001b[34m\u001b[1mval: \u001b[0mScanning /content/drive/MyDrive/Archive/yolo/labels/val.cache... 14 images, 0 backgrounds, 0 corrupt: 100%|██████████| 14/14 [00:00<?, ?it/s]\n"
          ]
        },
        {
          "output_type": "stream",
          "name": "stdout",
          "text": [
            "WARNING ⚠️ cache='ram' may produce non-deterministic training results. Consider cache='disk' as a deterministic alternative if your disk space allows.\n"
          ]
        },
        {
          "output_type": "stream",
          "name": "stderr",
          "text": [
            "\u001b[34m\u001b[1mval: \u001b[0mCaching images (0.0GB RAM): 100%|██████████| 14/14 [00:00<00:00, 25.04it/s]\n",
            "                 Class     Images  Instances      Box(P          R      mAP50  mAP50-95)     Mask(P          R      mAP50  mAP50-95): 100%|██████████| 2/2 [00:00<00:00,  2.14it/s]\n"
          ]
        },
        {
          "output_type": "stream",
          "name": "stdout",
          "text": [
            "                   all         14         43      0.654      0.326      0.371      0.228      0.547      0.395      0.402      0.247\n",
            "Speed: 0.7ms preprocess, 39.9ms inference, 0.0ms loss, 1.5ms postprocess per image\n",
            "Results saved to \u001b[1m/content/drive/MyDrive/Archive/runs/yolov8s_seg_trash22\u001b[0m\n",
            "ultralytics.utils.metrics.SegmentMetrics object with attributes:\n",
            "\n",
            "ap_class_index: array([0])\n",
            "box: ultralytics.utils.metrics.Metric object\n",
            "confusion_matrix: <ultralytics.utils.metrics.ConfusionMatrix object at 0x7f709c9e4860>\n",
            "curves: ['Precision-Recall(B)', 'F1-Confidence(B)', 'Precision-Confidence(B)', 'Recall-Confidence(B)', 'Precision-Recall(M)', 'F1-Confidence(M)', 'Precision-Confidence(M)', 'Recall-Confidence(M)']\n",
            "curves_results: [[array([          0,    0.001001,    0.002002,    0.003003,    0.004004,    0.005005,    0.006006,    0.007007,    0.008008,    0.009009,     0.01001,    0.011011,    0.012012,    0.013013,    0.014014,    0.015015,    0.016016,    0.017017,    0.018018,    0.019019,     0.02002,    0.021021,    0.022022,    0.023023,\n",
            "          0.024024,    0.025025,    0.026026,    0.027027,    0.028028,    0.029029,     0.03003,    0.031031,    0.032032,    0.033033,    0.034034,    0.035035,    0.036036,    0.037037,    0.038038,    0.039039,     0.04004,    0.041041,    0.042042,    0.043043,    0.044044,    0.045045,    0.046046,    0.047047,\n",
            "          0.048048,    0.049049,     0.05005,    0.051051,    0.052052,    0.053053,    0.054054,    0.055055,    0.056056,    0.057057,    0.058058,    0.059059,     0.06006,    0.061061,    0.062062,    0.063063,    0.064064,    0.065065,    0.066066,    0.067067,    0.068068,    0.069069,     0.07007,    0.071071,\n",
            "          0.072072,    0.073073,    0.074074,    0.075075,    0.076076,    0.077077,    0.078078,    0.079079,     0.08008,    0.081081,    0.082082,    0.083083,    0.084084,    0.085085,    0.086086,    0.087087,    0.088088,    0.089089,     0.09009,    0.091091,    0.092092,    0.093093,    0.094094,    0.095095,\n",
            "          0.096096,    0.097097,    0.098098,    0.099099,      0.1001,      0.1011,      0.1021,      0.1031,      0.1041,     0.10511,     0.10611,     0.10711,     0.10811,     0.10911,     0.11011,     0.11111,     0.11211,     0.11311,     0.11411,     0.11512,     0.11612,     0.11712,     0.11812,     0.11912,\n",
            "           0.12012,     0.12112,     0.12212,     0.12312,     0.12412,     0.12513,     0.12613,     0.12713,     0.12813,     0.12913,     0.13013,     0.13113,     0.13213,     0.13313,     0.13413,     0.13514,     0.13614,     0.13714,     0.13814,     0.13914,     0.14014,     0.14114,     0.14214,     0.14314,\n",
            "           0.14414,     0.14515,     0.14615,     0.14715,     0.14815,     0.14915,     0.15015,     0.15115,     0.15215,     0.15315,     0.15415,     0.15516,     0.15616,     0.15716,     0.15816,     0.15916,     0.16016,     0.16116,     0.16216,     0.16316,     0.16416,     0.16517,     0.16617,     0.16717,\n",
            "           0.16817,     0.16917,     0.17017,     0.17117,     0.17217,     0.17317,     0.17417,     0.17518,     0.17618,     0.17718,     0.17818,     0.17918,     0.18018,     0.18118,     0.18218,     0.18318,     0.18418,     0.18519,     0.18619,     0.18719,     0.18819,     0.18919,     0.19019,     0.19119,\n",
            "           0.19219,     0.19319,     0.19419,      0.1952,      0.1962,      0.1972,      0.1982,      0.1992,      0.2002,      0.2012,      0.2022,      0.2032,      0.2042,     0.20521,     0.20621,     0.20721,     0.20821,     0.20921,     0.21021,     0.21121,     0.21221,     0.21321,     0.21421,     0.21522,\n",
            "           0.21622,     0.21722,     0.21822,     0.21922,     0.22022,     0.22122,     0.22222,     0.22322,     0.22422,     0.22523,     0.22623,     0.22723,     0.22823,     0.22923,     0.23023,     0.23123,     0.23223,     0.23323,     0.23423,     0.23524,     0.23624,     0.23724,     0.23824,     0.23924,\n",
            "           0.24024,     0.24124,     0.24224,     0.24324,     0.24424,     0.24525,     0.24625,     0.24725,     0.24825,     0.24925,     0.25025,     0.25125,     0.25225,     0.25325,     0.25425,     0.25526,     0.25626,     0.25726,     0.25826,     0.25926,     0.26026,     0.26126,     0.26226,     0.26326,\n",
            "           0.26426,     0.26527,     0.26627,     0.26727,     0.26827,     0.26927,     0.27027,     0.27127,     0.27227,     0.27327,     0.27427,     0.27528,     0.27628,     0.27728,     0.27828,     0.27928,     0.28028,     0.28128,     0.28228,     0.28328,     0.28428,     0.28529,     0.28629,     0.28729,\n",
            "           0.28829,     0.28929,     0.29029,     0.29129,     0.29229,     0.29329,     0.29429,      0.2953,      0.2963,      0.2973,      0.2983,      0.2993,      0.3003,      0.3013,      0.3023,      0.3033,      0.3043,     0.30531,     0.30631,     0.30731,     0.30831,     0.30931,     0.31031,     0.31131,\n",
            "           0.31231,     0.31331,     0.31431,     0.31532,     0.31632,     0.31732,     0.31832,     0.31932,     0.32032,     0.32132,     0.32232,     0.32332,     0.32432,     0.32533,     0.32633,     0.32733,     0.32833,     0.32933,     0.33033,     0.33133,     0.33233,     0.33333,     0.33433,     0.33534,\n",
            "           0.33634,     0.33734,     0.33834,     0.33934,     0.34034,     0.34134,     0.34234,     0.34334,     0.34434,     0.34535,     0.34635,     0.34735,     0.34835,     0.34935,     0.35035,     0.35135,     0.35235,     0.35335,     0.35435,     0.35536,     0.35636,     0.35736,     0.35836,     0.35936,\n",
            "           0.36036,     0.36136,     0.36236,     0.36336,     0.36436,     0.36537,     0.36637,     0.36737,     0.36837,     0.36937,     0.37037,     0.37137,     0.37237,     0.37337,     0.37437,     0.37538,     0.37638,     0.37738,     0.37838,     0.37938,     0.38038,     0.38138,     0.38238,     0.38338,\n",
            "           0.38438,     0.38539,     0.38639,     0.38739,     0.38839,     0.38939,     0.39039,     0.39139,     0.39239,     0.39339,     0.39439,      0.3954,      0.3964,      0.3974,      0.3984,      0.3994,      0.4004,      0.4014,      0.4024,      0.4034,      0.4044,     0.40541,     0.40641,     0.40741,\n",
            "           0.40841,     0.40941,     0.41041,     0.41141,     0.41241,     0.41341,     0.41441,     0.41542,     0.41642,     0.41742,     0.41842,     0.41942,     0.42042,     0.42142,     0.42242,     0.42342,     0.42442,     0.42543,     0.42643,     0.42743,     0.42843,     0.42943,     0.43043,     0.43143,\n",
            "           0.43243,     0.43343,     0.43443,     0.43544,     0.43644,     0.43744,     0.43844,     0.43944,     0.44044,     0.44144,     0.44244,     0.44344,     0.44444,     0.44545,     0.44645,     0.44745,     0.44845,     0.44945,     0.45045,     0.45145,     0.45245,     0.45345,     0.45445,     0.45546,\n",
            "           0.45646,     0.45746,     0.45846,     0.45946,     0.46046,     0.46146,     0.46246,     0.46346,     0.46446,     0.46547,     0.46647,     0.46747,     0.46847,     0.46947,     0.47047,     0.47147,     0.47247,     0.47347,     0.47447,     0.47548,     0.47648,     0.47748,     0.47848,     0.47948,\n",
            "           0.48048,     0.48148,     0.48248,     0.48348,     0.48448,     0.48549,     0.48649,     0.48749,     0.48849,     0.48949,     0.49049,     0.49149,     0.49249,     0.49349,     0.49449,      0.4955,      0.4965,      0.4975,      0.4985,      0.4995,      0.5005,      0.5015,      0.5025,      0.5035,\n",
            "            0.5045,     0.50551,     0.50651,     0.50751,     0.50851,     0.50951,     0.51051,     0.51151,     0.51251,     0.51351,     0.51451,     0.51552,     0.51652,     0.51752,     0.51852,     0.51952,     0.52052,     0.52152,     0.52252,     0.52352,     0.52452,     0.52553,     0.52653,     0.52753,\n",
            "           0.52853,     0.52953,     0.53053,     0.53153,     0.53253,     0.53353,     0.53453,     0.53554,     0.53654,     0.53754,     0.53854,     0.53954,     0.54054,     0.54154,     0.54254,     0.54354,     0.54454,     0.54555,     0.54655,     0.54755,     0.54855,     0.54955,     0.55055,     0.55155,\n",
            "           0.55255,     0.55355,     0.55455,     0.55556,     0.55656,     0.55756,     0.55856,     0.55956,     0.56056,     0.56156,     0.56256,     0.56356,     0.56456,     0.56557,     0.56657,     0.56757,     0.56857,     0.56957,     0.57057,     0.57157,     0.57257,     0.57357,     0.57457,     0.57558,\n",
            "           0.57658,     0.57758,     0.57858,     0.57958,     0.58058,     0.58158,     0.58258,     0.58358,     0.58458,     0.58559,     0.58659,     0.58759,     0.58859,     0.58959,     0.59059,     0.59159,     0.59259,     0.59359,     0.59459,      0.5956,      0.5966,      0.5976,      0.5986,      0.5996,\n",
            "            0.6006,      0.6016,      0.6026,      0.6036,      0.6046,     0.60561,     0.60661,     0.60761,     0.60861,     0.60961,     0.61061,     0.61161,     0.61261,     0.61361,     0.61461,     0.61562,     0.61662,     0.61762,     0.61862,     0.61962,     0.62062,     0.62162,     0.62262,     0.62362,\n",
            "           0.62462,     0.62563,     0.62663,     0.62763,     0.62863,     0.62963,     0.63063,     0.63163,     0.63263,     0.63363,     0.63463,     0.63564,     0.63664,     0.63764,     0.63864,     0.63964,     0.64064,     0.64164,     0.64264,     0.64364,     0.64464,     0.64565,     0.64665,     0.64765,\n",
            "           0.64865,     0.64965,     0.65065,     0.65165,     0.65265,     0.65365,     0.65465,     0.65566,     0.65666,     0.65766,     0.65866,     0.65966,     0.66066,     0.66166,     0.66266,     0.66366,     0.66466,     0.66567,     0.66667,     0.66767,     0.66867,     0.66967,     0.67067,     0.67167,\n",
            "           0.67267,     0.67367,     0.67467,     0.67568,     0.67668,     0.67768,     0.67868,     0.67968,     0.68068,     0.68168,     0.68268,     0.68368,     0.68468,     0.68569,     0.68669,     0.68769,     0.68869,     0.68969,     0.69069,     0.69169,     0.69269,     0.69369,     0.69469,      0.6957,\n",
            "            0.6967,      0.6977,      0.6987,      0.6997,      0.7007,      0.7017,      0.7027,      0.7037,      0.7047,     0.70571,     0.70671,     0.70771,     0.70871,     0.70971,     0.71071,     0.71171,     0.71271,     0.71371,     0.71471,     0.71572,     0.71672,     0.71772,     0.71872,     0.71972,\n",
            "           0.72072,     0.72172,     0.72272,     0.72372,     0.72472,     0.72573,     0.72673,     0.72773,     0.72873,     0.72973,     0.73073,     0.73173,     0.73273,     0.73373,     0.73473,     0.73574,     0.73674,     0.73774,     0.73874,     0.73974,     0.74074,     0.74174,     0.74274,     0.74374,\n",
            "           0.74474,     0.74575,     0.74675,     0.74775,     0.74875,     0.74975,     0.75075,     0.75175,     0.75275,     0.75375,     0.75475,     0.75576,     0.75676,     0.75776,     0.75876,     0.75976,     0.76076,     0.76176,     0.76276,     0.76376,     0.76476,     0.76577,     0.76677,     0.76777,\n",
            "           0.76877,     0.76977,     0.77077,     0.77177,     0.77277,     0.77377,     0.77477,     0.77578,     0.77678,     0.77778,     0.77878,     0.77978,     0.78078,     0.78178,     0.78278,     0.78378,     0.78478,     0.78579,     0.78679,     0.78779,     0.78879,     0.78979,     0.79079,     0.79179,\n",
            "           0.79279,     0.79379,     0.79479,      0.7958,      0.7968,      0.7978,      0.7988,      0.7998,      0.8008,      0.8018,      0.8028,      0.8038,      0.8048,     0.80581,     0.80681,     0.80781,     0.80881,     0.80981,     0.81081,     0.81181,     0.81281,     0.81381,     0.81481,     0.81582,\n",
            "           0.81682,     0.81782,     0.81882,     0.81982,     0.82082,     0.82182,     0.82282,     0.82382,     0.82482,     0.82583,     0.82683,     0.82783,     0.82883,     0.82983,     0.83083,     0.83183,     0.83283,     0.83383,     0.83483,     0.83584,     0.83684,     0.83784,     0.83884,     0.83984,\n",
            "           0.84084,     0.84184,     0.84284,     0.84384,     0.84484,     0.84585,     0.84685,     0.84785,     0.84885,     0.84985,     0.85085,     0.85185,     0.85285,     0.85385,     0.85485,     0.85586,     0.85686,     0.85786,     0.85886,     0.85986,     0.86086,     0.86186,     0.86286,     0.86386,\n",
            "           0.86486,     0.86587,     0.86687,     0.86787,     0.86887,     0.86987,     0.87087,     0.87187,     0.87287,     0.87387,     0.87487,     0.87588,     0.87688,     0.87788,     0.87888,     0.87988,     0.88088,     0.88188,     0.88288,     0.88388,     0.88488,     0.88589,     0.88689,     0.88789,\n",
            "           0.88889,     0.88989,     0.89089,     0.89189,     0.89289,     0.89389,     0.89489,      0.8959,      0.8969,      0.8979,      0.8989,      0.8999,      0.9009,      0.9019,      0.9029,      0.9039,      0.9049,     0.90591,     0.90691,     0.90791,     0.90891,     0.90991,     0.91091,     0.91191,\n",
            "           0.91291,     0.91391,     0.91491,     0.91592,     0.91692,     0.91792,     0.91892,     0.91992,     0.92092,     0.92192,     0.92292,     0.92392,     0.92492,     0.92593,     0.92693,     0.92793,     0.92893,     0.92993,     0.93093,     0.93193,     0.93293,     0.93393,     0.93493,     0.93594,\n",
            "           0.93694,     0.93794,     0.93894,     0.93994,     0.94094,     0.94194,     0.94294,     0.94394,     0.94494,     0.94595,     0.94695,     0.94795,     0.94895,     0.94995,     0.95095,     0.95195,     0.95295,     0.95395,     0.95495,     0.95596,     0.95696,     0.95796,     0.95896,     0.95996,\n",
            "           0.96096,     0.96196,     0.96296,     0.96396,     0.96496,     0.96597,     0.96697,     0.96797,     0.96897,     0.96997,     0.97097,     0.97197,     0.97297,     0.97397,     0.97497,     0.97598,     0.97698,     0.97798,     0.97898,     0.97998,     0.98098,     0.98198,     0.98298,     0.98398,\n",
            "           0.98498,     0.98599,     0.98699,     0.98799,     0.98899,     0.98999,     0.99099,     0.99199,     0.99299,     0.99399,     0.99499,       0.996,       0.997,       0.998,       0.999,           1]), array([[          1,           1,           1,           1,           1,           1,           1,           1,           1,           1,           1,           1,           1,           1,           1,           1,           1,           1,           1,           1,           1,           1,           1,\n",
            "                  1,           1,           1,           1,           1,           1,           1,           1,           1,           1,           1,           1,           1,           1,           1,           1,           1,           1,           1,           1,           1,           1,           1,\n",
            "                  1,         0.8,         0.8,         0.8,         0.8,         0.8,         0.8,         0.8,         0.8,         0.8,         0.8,         0.8,         0.8,         0.8,         0.8,         0.8,         0.8,         0.8,         0.8,         0.8,         0.8,         0.8,         0.8,\n",
            "                0.8,         0.8,         0.8,         0.8,         0.8,         0.8,         0.8,         0.8,         0.8,         0.8,         0.8,         0.8,         0.8,         0.8,         0.8,         0.8,         0.8,         0.8,         0.8,         0.8,         0.8,         0.8,         0.8,\n",
            "                0.8,         0.8,         0.8,         0.8,         0.8,         0.8,         0.8,         0.8,         0.8,         0.8,         0.8,         0.8,         0.8,         0.8,         0.8,         0.8,         0.8,         0.8,         0.8,         0.8,         0.8,         0.8,         0.8,\n",
            "                0.8,         0.8,         0.8,         0.8,         0.8,         0.8,         0.8,         0.8,         0.8,         0.8,         0.8,         0.8,         0.8,         0.8,         0.8,         0.8,         0.8,         0.8,         0.8,         0.8,         0.8,         0.8,         0.8,\n",
            "                0.8,         0.8,         0.8,         0.8,         0.8,         0.8,         0.8,         0.8,         0.8,         0.8,         0.8,         0.8,         0.8,         0.8,         0.8,         0.8,         0.8,         0.8,         0.8,         0.8,         0.8,         0.8,         0.8,\n",
            "                0.8,         0.8,         0.8,         0.8,         0.8,         0.8,         0.8,         0.8,         0.8,         0.8,         0.8,         0.8,         0.8,         0.8,         0.8,         0.8,         0.8,         0.8,         0.8,         0.8,         0.8,         0.8,         0.8,\n",
            "                0.8,         0.8,        0.75,        0.75,        0.75,        0.75,        0.75,        0.75,        0.75,        0.75,        0.75,        0.75,        0.75,        0.75,        0.75,        0.75,        0.75,        0.75,        0.75,        0.75,        0.75,        0.75,        0.75,\n",
            "               0.75,        0.75,        0.75,        0.75,        0.75,        0.75,        0.75,        0.75,        0.75,        0.75,        0.75,        0.75,        0.75,        0.75,        0.75,        0.75,        0.75,        0.75,        0.75,        0.75,        0.75,        0.75,        0.75,\n",
            "               0.75,        0.75,        0.75,        0.75,        0.75,        0.75,        0.75,        0.75,        0.75,        0.75,        0.75,        0.75,        0.75,        0.75,        0.75,        0.75,        0.75,        0.75,        0.75,        0.75,        0.75,        0.75,        0.75,\n",
            "               0.75,        0.75,        0.75,        0.75,        0.75,        0.75,        0.75,        0.75,        0.75,        0.75,        0.75,        0.75,        0.75,        0.75,        0.75,        0.75,        0.75,        0.75,        0.75,        0.75,        0.75,        0.75,        0.75,\n",
            "               0.75,        0.75,        0.75,     0.73684,     0.73684,     0.73684,     0.73684,     0.73684,     0.73684,     0.73684,     0.73684,     0.73684,     0.73684,     0.73684,     0.73684,     0.73684,     0.73684,     0.73684,     0.73684,     0.73684,     0.73684,     0.73684,     0.73684,\n",
            "            0.73684,     0.73684,     0.73684,     0.73684,     0.73684,     0.73684,     0.73684,     0.73684,     0.73684,     0.73684,     0.73684,     0.73684,     0.73684,     0.73684,     0.73684,     0.73684,     0.73684,     0.73684,     0.73684,     0.73684,     0.73684,     0.73684,     0.73684,\n",
            "            0.73684,     0.73684,     0.73684,     0.73684,     0.55556,     0.55556,     0.55556,     0.55556,     0.55556,     0.55556,     0.55556,     0.55556,     0.55556,     0.55556,     0.55556,     0.55556,     0.55556,     0.55556,     0.55556,     0.55556,     0.55556,     0.55556,     0.55556,\n",
            "            0.55556,     0.55556,     0.55556,     0.55556,     0.53333,     0.53333,     0.53333,     0.53333,     0.53333,     0.53333,     0.53333,     0.53333,     0.53333,     0.53333,     0.53333,     0.53333,     0.53333,     0.53333,     0.53333,     0.53333,     0.53333,     0.53333,     0.53333,\n",
            "            0.53333,     0.53333,     0.53333,     0.53333,     0.40909,     0.40909,     0.40909,     0.40909,     0.40909,     0.40909,     0.40909,     0.40909,     0.40909,     0.40909,     0.40909,     0.40909,     0.40909,     0.40909,     0.40909,     0.40909,     0.40909,     0.40909,     0.40909,\n",
            "            0.40909,     0.40909,     0.40909,     0.40909,     0.40909,     0.40909,     0.40909,     0.40909,     0.40909,     0.40909,     0.40909,     0.40909,     0.40909,     0.40909,     0.40909,     0.40909,     0.40909,     0.40909,     0.40909,     0.40909,     0.40909,     0.40909,     0.40909,\n",
            "            0.40909,     0.40909,     0.40909,     0.40909,     0.40909,     0.35185,     0.35185,     0.35185,     0.35185,     0.35185,     0.35185,     0.35185,     0.35185,     0.35185,     0.35185,     0.35185,     0.35185,     0.35185,     0.35185,     0.35185,     0.35185,     0.35185,     0.35185,\n",
            "            0.35185,     0.35185,     0.35185,     0.35185,     0.35185,     0.32258,     0.32258,     0.32258,     0.32258,     0.32258,     0.32258,     0.32258,     0.32258,     0.32258,     0.32258,     0.32258,     0.32258,     0.32258,     0.32258,     0.32258,     0.32258,     0.32258,     0.32258,\n",
            "            0.32258,     0.32258,     0.32258,     0.32258,     0.32258,        0.25,        0.25,        0.25,        0.25,        0.25,        0.25,        0.25,        0.25,        0.25,        0.25,        0.25,        0.25,        0.25,        0.25,        0.25,        0.25,        0.25,        0.25,\n",
            "               0.25,        0.25,        0.25,        0.25,        0.25,     0.24719,     0.24719,     0.24719,     0.24719,     0.24719,     0.24719,     0.24719,     0.24719,     0.24719,     0.24719,     0.24719,     0.24719,     0.24719,     0.24719,     0.24719,     0.24719,     0.24719,     0.24719,\n",
            "            0.24719,     0.24719,     0.24719,     0.24719,     0.24719,     0.24719,        0.23,        0.23,        0.23,        0.23,        0.23,        0.23,        0.23,        0.23,        0.23,        0.23,        0.23,        0.23,        0.23,        0.23,        0.23,        0.23,        0.23,\n",
            "               0.23,        0.23,        0.23,        0.23,        0.23,        0.23,      0.2243,      0.2243,      0.2243,      0.2243,      0.2243,      0.2243,      0.2243,      0.2243,      0.2243,      0.2243,      0.2243,      0.2243,      0.2243,      0.2243,      0.2243,      0.2243,      0.2243,\n",
            "             0.2243,      0.2243,      0.2243,      0.2243,      0.2243,      0.2243,     0.21008,     0.21008,     0.21008,     0.21008,     0.21008,     0.21008,     0.21008,     0.21008,     0.21008,     0.21008,     0.21008,     0.21008,     0.21008,     0.21008,     0.21008,     0.21008,     0.21008,\n",
            "            0.21008,     0.21008,     0.21008,     0.21008,     0.21008,     0.21008,     0.13684,     0.13684,     0.13684,     0.13684,     0.13684,     0.13684,     0.13684,     0.13684,     0.13684,     0.13684,     0.13684,     0.13684,     0.13684,     0.13684,     0.13684,     0.13684,     0.13684,\n",
            "            0.13684,     0.13684,     0.13684,     0.13684,     0.13684,     0.13684,     0.13684,    0.095008,    0.094767,    0.094526,    0.094285,    0.094044,    0.093802,    0.093561,     0.09332,    0.093079,    0.092838,    0.092597,    0.092356,    0.092115,    0.091873,    0.091632,    0.091391,\n",
            "            0.09115,    0.090909,    0.090668,    0.090427,    0.090185,    0.089944,    0.089703,    0.089462,    0.089221,     0.08898,    0.088739,    0.088497,    0.088256,    0.088015,    0.087774,    0.087533,    0.087292,    0.087051,    0.086809,    0.086568,    0.086327,    0.086086,    0.085845,\n",
            "           0.085604,    0.085363,    0.085122,     0.08488,    0.084639,    0.084398,    0.084157,    0.083916,    0.083675,    0.083434,    0.083192,    0.082951,     0.08271,    0.082469,    0.082228,    0.081987,    0.081746,    0.081504,    0.081263,    0.081022,    0.080781,     0.08054,    0.080299,\n",
            "           0.080058,    0.079817,    0.079575,    0.079334,    0.079093,    0.078852,    0.078611,     0.07837,    0.078129,    0.077887,    0.077646,    0.077405,    0.077164,    0.076923,    0.076682,    0.076441,    0.076199,    0.075958,    0.075717,    0.075476,    0.075235,    0.074994,    0.074753,\n",
            "           0.074511,     0.07427,    0.074029,    0.073788,    0.073547,    0.073306,    0.073065,    0.072824,    0.072582,    0.072341,      0.0721,    0.071859,    0.071618,    0.071377,    0.071136,    0.070894,    0.070653,    0.070412,    0.070171,     0.06993,    0.069689,    0.069448,    0.069206,\n",
            "           0.068965,    0.068724,    0.068483,    0.068242,    0.068001,     0.06776,    0.067518,    0.067277,    0.067036,    0.066795,    0.066554,    0.066313,    0.066072,    0.065831,    0.065589,    0.065348,    0.065107,    0.064866,    0.064625,    0.064384,    0.064143,    0.063901,     0.06366,\n",
            "           0.063419,    0.063178,    0.062937,    0.062696,    0.062455,    0.062213,    0.061972,    0.061731,     0.06149,    0.061249,    0.061008,    0.060767,    0.060526,    0.060284,    0.060043,    0.059802,    0.059561,     0.05932,    0.059079,    0.058838,    0.058596,    0.058355,    0.058114,\n",
            "           0.057873,    0.057632,    0.057391,     0.05715,    0.056908,    0.056667,    0.056426,    0.056185,    0.055944,    0.055703,    0.055462,     0.05522,    0.054979,    0.054738,    0.054497,    0.054256,    0.054015,    0.053774,    0.053533,    0.053291,     0.05305,    0.052809,    0.052568,\n",
            "           0.052327,    0.052086,    0.051845,    0.051603,    0.051362,    0.051121,     0.05088,    0.050639,    0.050398,    0.050157,    0.049915,    0.049674,    0.049433,    0.049192,    0.048951,     0.04871,    0.048469,    0.048227,    0.047986,    0.047745,    0.047504,    0.047263,    0.047022,\n",
            "           0.046781,     0.04654,    0.046298,    0.046057,    0.045816,    0.045575,    0.045334,    0.045093,    0.044852,     0.04461,    0.044369,    0.044128,    0.043887,    0.043646,    0.043405,    0.043164,    0.042922,    0.042681,     0.04244,    0.042199,    0.041958,    0.041717,    0.041476,\n",
            "           0.041235,    0.040993,    0.040752,    0.040511,     0.04027,    0.040029,    0.039788,    0.039547,    0.039305,    0.039064,    0.038823,    0.038582,    0.038341,      0.0381,    0.037859,    0.037617,    0.037376,    0.037135,    0.036894,    0.036653,    0.036412,    0.036171,    0.035929,\n",
            "           0.035688,    0.035447,    0.035206,    0.034965,    0.034724,    0.034483,    0.034242,       0.034,    0.033759,    0.033518,    0.033277,    0.033036,    0.032795,    0.032554,    0.032312,    0.032071,     0.03183,    0.031589,    0.031348,    0.031107,    0.030866,    0.030624,    0.030383,\n",
            "           0.030142,    0.029901,     0.02966,    0.029419,    0.029178,    0.028936,    0.028695,    0.028454,    0.028213,    0.027972,    0.027731,     0.02749,    0.027249,    0.027007,    0.026766,    0.026525,    0.026284,    0.026043,    0.025802,    0.025561,    0.025319,    0.025078,    0.024837,\n",
            "           0.024596,    0.024355,    0.024114,    0.023873,    0.023631,     0.02339,    0.023149,    0.022908,    0.022667,    0.022426,    0.022185,    0.021944,    0.021702,    0.021461,     0.02122,    0.020979,    0.020738,    0.020497,    0.020256,    0.020014,    0.019773,    0.019532,    0.019291,\n",
            "            0.01905,    0.018809,    0.018568,    0.018326,    0.018085,    0.017844,    0.017603,    0.017362,    0.017121,     0.01688,    0.016638,    0.016397,    0.016156,    0.015915,    0.015674,    0.015433,    0.015192,    0.014951,    0.014709,    0.014468,    0.014227,    0.013986,    0.013745,\n",
            "           0.013504,    0.013263,    0.013021,     0.01278,    0.012539,    0.012298,    0.012057,    0.011816,    0.011575,    0.011333,    0.011092,    0.010851,     0.01061,    0.010369,    0.010128,   0.0098866,   0.0096455,   0.0094044,   0.0091632,   0.0089221,   0.0086809,   0.0084398,   0.0081987,\n",
            "          0.0079575,   0.0077164,   0.0074753,   0.0072341,    0.006993,   0.0067518,   0.0065107,   0.0062696,   0.0060284,   0.0057873,   0.0055462,    0.005305,   0.0050639,   0.0048227,   0.0045816,   0.0043405,   0.0040993,   0.0038582,   0.0036171,   0.0033759,   0.0031348,   0.0028936,   0.0026525,\n",
            "          0.0024114,   0.0021702,   0.0019291,    0.001688,   0.0014468,   0.0012057,  0.00096455,  0.00072341,  0.00048227,  0.00024114,           0]]), 'Recall', 'Precision'], [array([          0,    0.001001,    0.002002,    0.003003,    0.004004,    0.005005,    0.006006,    0.007007,    0.008008,    0.009009,     0.01001,    0.011011,    0.012012,    0.013013,    0.014014,    0.015015,    0.016016,    0.017017,    0.018018,    0.019019,     0.02002,    0.021021,    0.022022,    0.023023,\n",
            "          0.024024,    0.025025,    0.026026,    0.027027,    0.028028,    0.029029,     0.03003,    0.031031,    0.032032,    0.033033,    0.034034,    0.035035,    0.036036,    0.037037,    0.038038,    0.039039,     0.04004,    0.041041,    0.042042,    0.043043,    0.044044,    0.045045,    0.046046,    0.047047,\n",
            "          0.048048,    0.049049,     0.05005,    0.051051,    0.052052,    0.053053,    0.054054,    0.055055,    0.056056,    0.057057,    0.058058,    0.059059,     0.06006,    0.061061,    0.062062,    0.063063,    0.064064,    0.065065,    0.066066,    0.067067,    0.068068,    0.069069,     0.07007,    0.071071,\n",
            "          0.072072,    0.073073,    0.074074,    0.075075,    0.076076,    0.077077,    0.078078,    0.079079,     0.08008,    0.081081,    0.082082,    0.083083,    0.084084,    0.085085,    0.086086,    0.087087,    0.088088,    0.089089,     0.09009,    0.091091,    0.092092,    0.093093,    0.094094,    0.095095,\n",
            "          0.096096,    0.097097,    0.098098,    0.099099,      0.1001,      0.1011,      0.1021,      0.1031,      0.1041,     0.10511,     0.10611,     0.10711,     0.10811,     0.10911,     0.11011,     0.11111,     0.11211,     0.11311,     0.11411,     0.11512,     0.11612,     0.11712,     0.11812,     0.11912,\n",
            "           0.12012,     0.12112,     0.12212,     0.12312,     0.12412,     0.12513,     0.12613,     0.12713,     0.12813,     0.12913,     0.13013,     0.13113,     0.13213,     0.13313,     0.13413,     0.13514,     0.13614,     0.13714,     0.13814,     0.13914,     0.14014,     0.14114,     0.14214,     0.14314,\n",
            "           0.14414,     0.14515,     0.14615,     0.14715,     0.14815,     0.14915,     0.15015,     0.15115,     0.15215,     0.15315,     0.15415,     0.15516,     0.15616,     0.15716,     0.15816,     0.15916,     0.16016,     0.16116,     0.16216,     0.16316,     0.16416,     0.16517,     0.16617,     0.16717,\n",
            "           0.16817,     0.16917,     0.17017,     0.17117,     0.17217,     0.17317,     0.17417,     0.17518,     0.17618,     0.17718,     0.17818,     0.17918,     0.18018,     0.18118,     0.18218,     0.18318,     0.18418,     0.18519,     0.18619,     0.18719,     0.18819,     0.18919,     0.19019,     0.19119,\n",
            "           0.19219,     0.19319,     0.19419,      0.1952,      0.1962,      0.1972,      0.1982,      0.1992,      0.2002,      0.2012,      0.2022,      0.2032,      0.2042,     0.20521,     0.20621,     0.20721,     0.20821,     0.20921,     0.21021,     0.21121,     0.21221,     0.21321,     0.21421,     0.21522,\n",
            "           0.21622,     0.21722,     0.21822,     0.21922,     0.22022,     0.22122,     0.22222,     0.22322,     0.22422,     0.22523,     0.22623,     0.22723,     0.22823,     0.22923,     0.23023,     0.23123,     0.23223,     0.23323,     0.23423,     0.23524,     0.23624,     0.23724,     0.23824,     0.23924,\n",
            "           0.24024,     0.24124,     0.24224,     0.24324,     0.24424,     0.24525,     0.24625,     0.24725,     0.24825,     0.24925,     0.25025,     0.25125,     0.25225,     0.25325,     0.25425,     0.25526,     0.25626,     0.25726,     0.25826,     0.25926,     0.26026,     0.26126,     0.26226,     0.26326,\n",
            "           0.26426,     0.26527,     0.26627,     0.26727,     0.26827,     0.26927,     0.27027,     0.27127,     0.27227,     0.27327,     0.27427,     0.27528,     0.27628,     0.27728,     0.27828,     0.27928,     0.28028,     0.28128,     0.28228,     0.28328,     0.28428,     0.28529,     0.28629,     0.28729,\n",
            "           0.28829,     0.28929,     0.29029,     0.29129,     0.29229,     0.29329,     0.29429,      0.2953,      0.2963,      0.2973,      0.2983,      0.2993,      0.3003,      0.3013,      0.3023,      0.3033,      0.3043,     0.30531,     0.30631,     0.30731,     0.30831,     0.30931,     0.31031,     0.31131,\n",
            "           0.31231,     0.31331,     0.31431,     0.31532,     0.31632,     0.31732,     0.31832,     0.31932,     0.32032,     0.32132,     0.32232,     0.32332,     0.32432,     0.32533,     0.32633,     0.32733,     0.32833,     0.32933,     0.33033,     0.33133,     0.33233,     0.33333,     0.33433,     0.33534,\n",
            "           0.33634,     0.33734,     0.33834,     0.33934,     0.34034,     0.34134,     0.34234,     0.34334,     0.34434,     0.34535,     0.34635,     0.34735,     0.34835,     0.34935,     0.35035,     0.35135,     0.35235,     0.35335,     0.35435,     0.35536,     0.35636,     0.35736,     0.35836,     0.35936,\n",
            "           0.36036,     0.36136,     0.36236,     0.36336,     0.36436,     0.36537,     0.36637,     0.36737,     0.36837,     0.36937,     0.37037,     0.37137,     0.37237,     0.37337,     0.37437,     0.37538,     0.37638,     0.37738,     0.37838,     0.37938,     0.38038,     0.38138,     0.38238,     0.38338,\n",
            "           0.38438,     0.38539,     0.38639,     0.38739,     0.38839,     0.38939,     0.39039,     0.39139,     0.39239,     0.39339,     0.39439,      0.3954,      0.3964,      0.3974,      0.3984,      0.3994,      0.4004,      0.4014,      0.4024,      0.4034,      0.4044,     0.40541,     0.40641,     0.40741,\n",
            "           0.40841,     0.40941,     0.41041,     0.41141,     0.41241,     0.41341,     0.41441,     0.41542,     0.41642,     0.41742,     0.41842,     0.41942,     0.42042,     0.42142,     0.42242,     0.42342,     0.42442,     0.42543,     0.42643,     0.42743,     0.42843,     0.42943,     0.43043,     0.43143,\n",
            "           0.43243,     0.43343,     0.43443,     0.43544,     0.43644,     0.43744,     0.43844,     0.43944,     0.44044,     0.44144,     0.44244,     0.44344,     0.44444,     0.44545,     0.44645,     0.44745,     0.44845,     0.44945,     0.45045,     0.45145,     0.45245,     0.45345,     0.45445,     0.45546,\n",
            "           0.45646,     0.45746,     0.45846,     0.45946,     0.46046,     0.46146,     0.46246,     0.46346,     0.46446,     0.46547,     0.46647,     0.46747,     0.46847,     0.46947,     0.47047,     0.47147,     0.47247,     0.47347,     0.47447,     0.47548,     0.47648,     0.47748,     0.47848,     0.47948,\n",
            "           0.48048,     0.48148,     0.48248,     0.48348,     0.48448,     0.48549,     0.48649,     0.48749,     0.48849,     0.48949,     0.49049,     0.49149,     0.49249,     0.49349,     0.49449,      0.4955,      0.4965,      0.4975,      0.4985,      0.4995,      0.5005,      0.5015,      0.5025,      0.5035,\n",
            "            0.5045,     0.50551,     0.50651,     0.50751,     0.50851,     0.50951,     0.51051,     0.51151,     0.51251,     0.51351,     0.51451,     0.51552,     0.51652,     0.51752,     0.51852,     0.51952,     0.52052,     0.52152,     0.52252,     0.52352,     0.52452,     0.52553,     0.52653,     0.52753,\n",
            "           0.52853,     0.52953,     0.53053,     0.53153,     0.53253,     0.53353,     0.53453,     0.53554,     0.53654,     0.53754,     0.53854,     0.53954,     0.54054,     0.54154,     0.54254,     0.54354,     0.54454,     0.54555,     0.54655,     0.54755,     0.54855,     0.54955,     0.55055,     0.55155,\n",
            "           0.55255,     0.55355,     0.55455,     0.55556,     0.55656,     0.55756,     0.55856,     0.55956,     0.56056,     0.56156,     0.56256,     0.56356,     0.56456,     0.56557,     0.56657,     0.56757,     0.56857,     0.56957,     0.57057,     0.57157,     0.57257,     0.57357,     0.57457,     0.57558,\n",
            "           0.57658,     0.57758,     0.57858,     0.57958,     0.58058,     0.58158,     0.58258,     0.58358,     0.58458,     0.58559,     0.58659,     0.58759,     0.58859,     0.58959,     0.59059,     0.59159,     0.59259,     0.59359,     0.59459,      0.5956,      0.5966,      0.5976,      0.5986,      0.5996,\n",
            "            0.6006,      0.6016,      0.6026,      0.6036,      0.6046,     0.60561,     0.60661,     0.60761,     0.60861,     0.60961,     0.61061,     0.61161,     0.61261,     0.61361,     0.61461,     0.61562,     0.61662,     0.61762,     0.61862,     0.61962,     0.62062,     0.62162,     0.62262,     0.62362,\n",
            "           0.62462,     0.62563,     0.62663,     0.62763,     0.62863,     0.62963,     0.63063,     0.63163,     0.63263,     0.63363,     0.63463,     0.63564,     0.63664,     0.63764,     0.63864,     0.63964,     0.64064,     0.64164,     0.64264,     0.64364,     0.64464,     0.64565,     0.64665,     0.64765,\n",
            "           0.64865,     0.64965,     0.65065,     0.65165,     0.65265,     0.65365,     0.65465,     0.65566,     0.65666,     0.65766,     0.65866,     0.65966,     0.66066,     0.66166,     0.66266,     0.66366,     0.66466,     0.66567,     0.66667,     0.66767,     0.66867,     0.66967,     0.67067,     0.67167,\n",
            "           0.67267,     0.67367,     0.67467,     0.67568,     0.67668,     0.67768,     0.67868,     0.67968,     0.68068,     0.68168,     0.68268,     0.68368,     0.68468,     0.68569,     0.68669,     0.68769,     0.68869,     0.68969,     0.69069,     0.69169,     0.69269,     0.69369,     0.69469,      0.6957,\n",
            "            0.6967,      0.6977,      0.6987,      0.6997,      0.7007,      0.7017,      0.7027,      0.7037,      0.7047,     0.70571,     0.70671,     0.70771,     0.70871,     0.70971,     0.71071,     0.71171,     0.71271,     0.71371,     0.71471,     0.71572,     0.71672,     0.71772,     0.71872,     0.71972,\n",
            "           0.72072,     0.72172,     0.72272,     0.72372,     0.72472,     0.72573,     0.72673,     0.72773,     0.72873,     0.72973,     0.73073,     0.73173,     0.73273,     0.73373,     0.73473,     0.73574,     0.73674,     0.73774,     0.73874,     0.73974,     0.74074,     0.74174,     0.74274,     0.74374,\n",
            "           0.74474,     0.74575,     0.74675,     0.74775,     0.74875,     0.74975,     0.75075,     0.75175,     0.75275,     0.75375,     0.75475,     0.75576,     0.75676,     0.75776,     0.75876,     0.75976,     0.76076,     0.76176,     0.76276,     0.76376,     0.76476,     0.76577,     0.76677,     0.76777,\n",
            "           0.76877,     0.76977,     0.77077,     0.77177,     0.77277,     0.77377,     0.77477,     0.77578,     0.77678,     0.77778,     0.77878,     0.77978,     0.78078,     0.78178,     0.78278,     0.78378,     0.78478,     0.78579,     0.78679,     0.78779,     0.78879,     0.78979,     0.79079,     0.79179,\n",
            "           0.79279,     0.79379,     0.79479,      0.7958,      0.7968,      0.7978,      0.7988,      0.7998,      0.8008,      0.8018,      0.8028,      0.8038,      0.8048,     0.80581,     0.80681,     0.80781,     0.80881,     0.80981,     0.81081,     0.81181,     0.81281,     0.81381,     0.81481,     0.81582,\n",
            "           0.81682,     0.81782,     0.81882,     0.81982,     0.82082,     0.82182,     0.82282,     0.82382,     0.82482,     0.82583,     0.82683,     0.82783,     0.82883,     0.82983,     0.83083,     0.83183,     0.83283,     0.83383,     0.83483,     0.83584,     0.83684,     0.83784,     0.83884,     0.83984,\n",
            "           0.84084,     0.84184,     0.84284,     0.84384,     0.84484,     0.84585,     0.84685,     0.84785,     0.84885,     0.84985,     0.85085,     0.85185,     0.85285,     0.85385,     0.85485,     0.85586,     0.85686,     0.85786,     0.85886,     0.85986,     0.86086,     0.86186,     0.86286,     0.86386,\n",
            "           0.86486,     0.86587,     0.86687,     0.86787,     0.86887,     0.86987,     0.87087,     0.87187,     0.87287,     0.87387,     0.87487,     0.87588,     0.87688,     0.87788,     0.87888,     0.87988,     0.88088,     0.88188,     0.88288,     0.88388,     0.88488,     0.88589,     0.88689,     0.88789,\n",
            "           0.88889,     0.88989,     0.89089,     0.89189,     0.89289,     0.89389,     0.89489,      0.8959,      0.8969,      0.8979,      0.8989,      0.8999,      0.9009,      0.9019,      0.9029,      0.9039,      0.9049,     0.90591,     0.90691,     0.90791,     0.90891,     0.90991,     0.91091,     0.91191,\n",
            "           0.91291,     0.91391,     0.91491,     0.91592,     0.91692,     0.91792,     0.91892,     0.91992,     0.92092,     0.92192,     0.92292,     0.92392,     0.92492,     0.92593,     0.92693,     0.92793,     0.92893,     0.92993,     0.93093,     0.93193,     0.93293,     0.93393,     0.93493,     0.93594,\n",
            "           0.93694,     0.93794,     0.93894,     0.93994,     0.94094,     0.94194,     0.94294,     0.94394,     0.94494,     0.94595,     0.94695,     0.94795,     0.94895,     0.94995,     0.95095,     0.95195,     0.95295,     0.95395,     0.95495,     0.95596,     0.95696,     0.95796,     0.95896,     0.95996,\n",
            "           0.96096,     0.96196,     0.96296,     0.96396,     0.96496,     0.96597,     0.96697,     0.96797,     0.96897,     0.96997,     0.97097,     0.97197,     0.97297,     0.97397,     0.97497,     0.97598,     0.97698,     0.97798,     0.97898,     0.97998,     0.98098,     0.98198,     0.98298,     0.98398,\n",
            "           0.98498,     0.98599,     0.98699,     0.98799,     0.98899,     0.98999,     0.99099,     0.99199,     0.99299,     0.99399,     0.99499,       0.996,       0.997,       0.998,       0.999,           1]), array([[    0.16456,     0.16456,     0.24702,     0.29968,     0.30756,     0.32059,     0.32606,     0.32369,     0.32938,     0.31948,     0.32751,     0.33561,     0.33875,     0.34224,     0.34311,     0.34398,     0.34493,     0.34812,     0.35068,     0.35498,     0.35821,     0.36069,     0.36488,\n",
            "            0.36679,     0.37032,     0.37537,     0.37726,      0.3797,     0.36586,     0.36783,      0.3695,     0.37079,     0.37208,     0.37399,     0.37627,     0.37916,     0.38392,     0.38434,     0.38475,     0.38517,     0.38559,       0.386,     0.38642,     0.38683,     0.38724,     0.38765,\n",
            "            0.38206,     0.37712,     0.37929,      0.3805,      0.3817,      0.3829,     0.38352,      0.3841,     0.38467,     0.38525,     0.38582,     0.38639,     0.38696,     0.38764,     0.38836,     0.38907,     0.38978,     0.39049,      0.3912,     0.39322,     0.39545,     0.39628,     0.39701,\n",
            "            0.39773,     0.39845,     0.39917,     0.39989,     0.40021,     0.40046,     0.40071,     0.40096,     0.40121,     0.40146,     0.40171,     0.40196,     0.40221,     0.40246,     0.40271,     0.40295,      0.4032,     0.40345,     0.40369,     0.40394,     0.40419,     0.40443,     0.40553,\n",
            "             0.4069,     0.40826,     0.41146,     0.41276,     0.41108,     0.40939,      0.4077,     0.40601,     0.40432,     0.40263,     0.40094,     0.39925,     0.39755,     0.39586,     0.39413,      0.3924,     0.39066,     0.38891,     0.38717,     0.38543,     0.38369,     0.38194,     0.38019,\n",
            "            0.37845,      0.3767,     0.37674,     0.37704,     0.37734,     0.37765,     0.37795,     0.37825,     0.37855,     0.37885,     0.37915,     0.37945,     0.37975,     0.38005,     0.38035,     0.38065,     0.38095,     0.38168,     0.38243,     0.38317,     0.38391,     0.38464,     0.38538,\n",
            "            0.38586,     0.38628,     0.38669,      0.3871,     0.38751,     0.38792,     0.38833,     0.38873,     0.38914,     0.38954,     0.38995,     0.39033,     0.39067,     0.39101,     0.39134,     0.39168,     0.39201,     0.39235,     0.39268,     0.39301,     0.39334,     0.39367,       0.394,\n",
            "            0.39433,     0.39466,     0.39499,     0.39574,     0.39659,     0.39743,     0.39828,     0.39912,     0.39995,     0.40041,     0.40084,     0.40127,     0.40169,     0.40212,     0.40255,     0.40297,      0.4034,     0.40382,     0.40424,     0.40466,     0.40508,     0.40536,     0.40565,\n",
            "            0.40593,     0.40621,      0.4065,     0.40678,     0.40706,     0.40735,     0.40763,     0.40791,     0.40819,     0.40847,     0.40875,     0.40903,     0.40931,     0.40958,     0.40986,     0.41014,     0.41071,     0.41151,     0.41229,     0.41308,     0.41386,     0.41464,     0.41541,\n",
            "            0.41595,     0.41641,     0.41688,     0.41734,      0.4178,     0.41826,     0.41872,     0.41918,     0.41964,     0.42009,     0.42055,       0.421,     0.42177,     0.42257,     0.42337,     0.42417,     0.42496,     0.42575,     0.42654,     0.42678,     0.42692,     0.42705,     0.42719,\n",
            "            0.42732,     0.42746,     0.42759,     0.42773,     0.42786,     0.42799,     0.42813,     0.42826,      0.4284,     0.42853,     0.42867,      0.4288,     0.42893,     0.42907,      0.4292,     0.42933,     0.42947,      0.4296,     0.42973,     0.42987,        0.43,     0.43013,     0.43026,\n",
            "             0.4304,     0.43053,     0.43066,     0.43079,     0.43093,     0.43106,     0.43119,     0.43132,     0.43145,     0.43158,     0.43172,     0.43185,     0.43198,     0.43211,     0.43224,     0.43237,     0.43256,     0.43281,     0.43305,     0.43329,     0.43354,     0.43378,     0.43402,\n",
            "            0.43426,     0.43451,     0.43475,     0.43499,     0.43523,     0.43547,     0.43571,     0.43595,     0.43619,     0.43643,     0.43667,      0.4369,     0.43714,     0.43738,     0.43762,     0.43785,     0.43809,     0.43833,     0.43756,     0.43664,     0.43572,      0.4348,     0.43388,\n",
            "            0.43296,     0.43204,     0.43112,      0.4302,     0.42927,     0.42835,     0.42743,     0.42651,     0.42558,     0.42466,     0.42373,     0.42281,     0.42188,     0.42096,     0.42003,      0.4191,     0.41818,     0.41725,     0.41685,     0.41735,     0.41784,     0.41833,     0.41882,\n",
            "            0.41931,      0.4198,     0.42028,     0.42076,     0.42125,     0.42173,      0.4222,     0.42322,     0.42543,     0.42761,     0.42264,     0.41183,     0.40609,     0.40675,      0.4074,     0.40805,      0.4087,     0.40934,     0.40998,     0.41062,     0.41125,     0.41191,      0.4127,\n",
            "            0.41349,     0.41428,     0.41506,     0.41583,      0.4166,     0.41736,     0.41799,     0.41826,     0.41852,     0.41879,     0.41906,     0.41933,     0.41959,     0.41986,     0.42013,     0.42039,     0.42066,     0.42092,     0.42118,     0.42144,     0.42171,     0.42197,     0.42223,\n",
            "            0.42249,     0.42275,     0.42301,     0.42326,     0.42352,     0.42378,     0.42404,     0.42429,     0.42455,      0.4248,     0.42505,      0.4253,     0.42555,      0.4258,     0.42605,      0.4263,     0.42655,      0.4268,     0.42705,      0.4273,     0.42754,     0.42779,     0.42803,\n",
            "            0.42828,     0.42852,     0.42877,     0.42901,     0.42926,      0.4295,     0.42974,     0.42998,     0.43022,     0.43046,      0.4307,     0.43093,     0.43114,     0.43136,     0.43157,     0.43179,       0.432,     0.43222,     0.43243,     0.43265,     0.43286,     0.43307,     0.43328,\n",
            "             0.4335,     0.43371,     0.43392,     0.43413,     0.43434,     0.43455,     0.43476,     0.43497,     0.43518,     0.43539,     0.43559,      0.4358,     0.43601,     0.43621,     0.43642,     0.43663,     0.43683,     0.43704,     0.43724,     0.43745,     0.43776,     0.43812,     0.43847,\n",
            "            0.43883,     0.43918,     0.43953,     0.43988,     0.44023,     0.44058,     0.44093,     0.44127,     0.44162,     0.44196,     0.44231,     0.44265,     0.44299,     0.44333,     0.44367,       0.444,     0.44434,     0.44541,     0.44681,     0.44818,     0.44954,     0.45088,     0.44882,\n",
            "            0.44258,      0.4363,     0.42999,     0.42605,     0.42561,     0.42518,     0.42474,      0.4243,     0.42386,     0.42342,     0.42299,     0.42255,     0.42211,     0.42167,     0.42123,     0.42079,     0.42035,     0.41991,     0.41947,     0.41903,     0.41859,     0.41815,     0.41771,\n",
            "            0.41727,     0.41683,     0.41639,     0.41595,     0.41551,     0.41507,     0.41462,     0.41418,     0.41374,      0.4133,     0.41286,     0.41241,     0.41197,     0.41153,     0.41109,     0.41064,      0.4102,     0.40976,     0.40931,     0.40887,     0.40843,     0.40798,     0.40754,\n",
            "             0.4071,     0.40665,     0.40621,     0.40576,     0.40532,     0.40487,     0.40443,     0.40398,     0.40354,     0.40309,     0.40265,      0.4022,     0.40175,     0.40131,     0.40086,     0.40041,     0.40002,     0.40027,     0.40052,     0.40077,     0.40102,     0.40127,     0.40151,\n",
            "            0.40176,     0.40201,     0.40225,      0.4025,     0.40274,     0.40298,     0.40322,     0.40347,     0.40371,     0.40395,     0.40419,     0.40442,     0.40466,      0.4049,     0.40513,     0.40537,      0.4056,     0.40584,     0.40607,      0.4063,     0.40654,     0.40677,     0.40627,\n",
            "            0.40573,     0.40519,     0.40465,     0.40411,     0.40357,     0.40302,     0.40248,     0.40194,      0.4014,     0.40086,     0.40031,     0.39977,     0.39923,     0.39868,     0.39814,      0.3976,     0.39705,     0.39651,     0.39596,     0.39542,     0.39487,     0.39433,     0.39378,\n",
            "            0.39323,     0.39269,     0.39214,     0.39159,     0.39105,      0.3905,     0.38995,      0.3894,     0.38886,     0.38831,     0.38776,     0.38721,     0.38666,     0.38611,     0.38556,     0.38501,     0.38446,     0.38391,     0.38336,     0.38281,     0.38226,     0.38171,     0.38115,\n",
            "             0.3806,     0.38005,      0.3795,     0.37824,     0.37661,     0.37498,     0.37335,     0.37172,     0.37009,     0.36845,     0.36681,     0.36517,     0.36353,     0.36188,     0.36024,     0.35859,     0.35694,     0.35528,     0.35363,     0.35197,      0.3443,     0.32497,     0.31996,\n",
            "            0.31815,     0.31635,     0.31454,     0.31273,     0.31092,     0.30911,     0.30729,     0.30547,     0.30365,     0.30183,         0.3,     0.29818,     0.29634,     0.29451,     0.29267,     0.29091,     0.29102,     0.29114,     0.29125,     0.29136,     0.29147,     0.29158,     0.29169,\n",
            "            0.29179,      0.2919,     0.29201,     0.29212,     0.29223,     0.29234,     0.29244,     0.29255,     0.29266,     0.29276,     0.29287,     0.29298,     0.29308,     0.29319,     0.29329,      0.2934,      0.2935,     0.29361,     0.29371,     0.29381,     0.29392,     0.29402,     0.29412,\n",
            "            0.29423,     0.29433,     0.29443,     0.29453,     0.29463,     0.29473,     0.29484,     0.29494,     0.29504,     0.29514,     0.29524,     0.29534,     0.29544,     0.29554,     0.29563,     0.29573,     0.29583,     0.29593,     0.29603,     0.29613,     0.29622,     0.29631,     0.29637,\n",
            "            0.29643,     0.29648,     0.29654,      0.2966,     0.29666,     0.29671,     0.29677,     0.29683,     0.29689,     0.29694,       0.297,     0.29706,     0.29711,     0.29717,     0.29723,     0.29728,     0.29734,      0.2974,     0.29745,     0.29751,     0.29757,     0.29762,     0.29768,\n",
            "            0.29773,     0.29779,     0.29785,      0.2979,     0.29796,     0.29801,     0.29807,     0.29812,     0.29818,     0.29823,     0.29829,     0.29834,      0.2984,     0.29845,     0.29851,     0.29856,     0.29862,     0.29867,     0.29873,     0.29878,     0.29883,     0.29889,     0.29894,\n",
            "              0.299,     0.29905,      0.2991,     0.29916,     0.29921,     0.29927,     0.29932,     0.29937,     0.29943,     0.29948,     0.29953,     0.29959,     0.29964,     0.29969,     0.29974,      0.2998,     0.29985,      0.2999,     0.29996,     0.30001,     0.30006,     0.30011,     0.30017,\n",
            "            0.30022,     0.30027,     0.30032,     0.30037,     0.30043,     0.30048,     0.30053,     0.30058,     0.30063,     0.30068,     0.30074,     0.30079,     0.30084,     0.30089,     0.30094,     0.30099,     0.30104,     0.30109,     0.30114,      0.3012,     0.30125,      0.3013,     0.30135,\n",
            "             0.3014,     0.30145,      0.3015,     0.30155,      0.3016,     0.30165,      0.3017,     0.30175,      0.3018,     0.30185,      0.2943,     0.26909,     0.26828,     0.26746,     0.26664,     0.26582,       0.265,     0.26418,     0.26336,     0.26254,     0.26172,      0.2609,     0.26007,\n",
            "            0.25925,     0.25843,      0.2576,     0.25678,     0.25595,     0.25512,      0.2543,     0.25347,     0.25264,     0.25181,     0.25098,     0.25015,     0.24932,     0.24849,     0.24766,     0.24683,       0.246,     0.24516,     0.24433,      0.2435,     0.24266,     0.24183,     0.24099,\n",
            "            0.24015,     0.23931,     0.23848,     0.23764,      0.2368,     0.23596,     0.23482,     0.23256,      0.2303,     0.22803,     0.22576,     0.22349,     0.22121,     0.21892,     0.21663,     0.21434,     0.21205,     0.20975,     0.20744,     0.20513,     0.20282,      0.2005,     0.19896,\n",
            "            0.19763,      0.1963,     0.19497,     0.19363,      0.1923,     0.19096,     0.18963,     0.18829,     0.18695,     0.18561,     0.18426,     0.18292,     0.18158,     0.18023,     0.17888,     0.17753,     0.17618,     0.17483,     0.17348,     0.17213,     0.17077,     0.16941,     0.16806,\n",
            "             0.1667,     0.16533,     0.16397,     0.16343,     0.16378,     0.16411,     0.16443,     0.16474,     0.16505,     0.16534,     0.16563,     0.16591,     0.16618,     0.16645,     0.16639,     0.16445,     0.16252,     0.16057,     0.15863,     0.15668,     0.15473,     0.15278,     0.15082,\n",
            "            0.14886,      0.1469,     0.14493,     0.14296,     0.14099,     0.13902,     0.13704,     0.13505,     0.13307,     0.13108,     0.12909,     0.12717,     0.12545,     0.12372,     0.12199,     0.12026,     0.11853,      0.1168,     0.11506,     0.11332,     0.11158,     0.10984,      0.1081,\n",
            "            0.10635,      0.1046,     0.10285,      0.1011,    0.099341,    0.097583,    0.095822,    0.094059,    0.092294,    0.090526,    0.088755,    0.086981,      0.0872,    0.087429,     0.08764,    0.087835,    0.088017,    0.088187,    0.088345,    0.088494,    0.088633,    0.088764,    0.088887,\n",
            "           0.086665,    0.084409,    0.082147,    0.079879,    0.077606,    0.075328,    0.073044,    0.070755,    0.068461,    0.066161,    0.063855,    0.061545,    0.059228,    0.056906,    0.054578,    0.052245,    0.049907,    0.047562,           0,           0,           0,           0,           0,\n",
            "                  0,           0,           0,           0,           0,           0,           0,           0,           0,           0,           0,           0,           0,           0,           0,           0,           0,           0,           0,           0,           0,           0,           0,\n",
            "                  0,           0,           0,           0,           0,           0,           0,           0,           0,           0,           0]]), 'Confidence', 'F1'], [array([          0,    0.001001,    0.002002,    0.003003,    0.004004,    0.005005,    0.006006,    0.007007,    0.008008,    0.009009,     0.01001,    0.011011,    0.012012,    0.013013,    0.014014,    0.015015,    0.016016,    0.017017,    0.018018,    0.019019,     0.02002,    0.021021,    0.022022,    0.023023,\n",
            "          0.024024,    0.025025,    0.026026,    0.027027,    0.028028,    0.029029,     0.03003,    0.031031,    0.032032,    0.033033,    0.034034,    0.035035,    0.036036,    0.037037,    0.038038,    0.039039,     0.04004,    0.041041,    0.042042,    0.043043,    0.044044,    0.045045,    0.046046,    0.047047,\n",
            "          0.048048,    0.049049,     0.05005,    0.051051,    0.052052,    0.053053,    0.054054,    0.055055,    0.056056,    0.057057,    0.058058,    0.059059,     0.06006,    0.061061,    0.062062,    0.063063,    0.064064,    0.065065,    0.066066,    0.067067,    0.068068,    0.069069,     0.07007,    0.071071,\n",
            "          0.072072,    0.073073,    0.074074,    0.075075,    0.076076,    0.077077,    0.078078,    0.079079,     0.08008,    0.081081,    0.082082,    0.083083,    0.084084,    0.085085,    0.086086,    0.087087,    0.088088,    0.089089,     0.09009,    0.091091,    0.092092,    0.093093,    0.094094,    0.095095,\n",
            "          0.096096,    0.097097,    0.098098,    0.099099,      0.1001,      0.1011,      0.1021,      0.1031,      0.1041,     0.10511,     0.10611,     0.10711,     0.10811,     0.10911,     0.11011,     0.11111,     0.11211,     0.11311,     0.11411,     0.11512,     0.11612,     0.11712,     0.11812,     0.11912,\n",
            "           0.12012,     0.12112,     0.12212,     0.12312,     0.12412,     0.12513,     0.12613,     0.12713,     0.12813,     0.12913,     0.13013,     0.13113,     0.13213,     0.13313,     0.13413,     0.13514,     0.13614,     0.13714,     0.13814,     0.13914,     0.14014,     0.14114,     0.14214,     0.14314,\n",
            "           0.14414,     0.14515,     0.14615,     0.14715,     0.14815,     0.14915,     0.15015,     0.15115,     0.15215,     0.15315,     0.15415,     0.15516,     0.15616,     0.15716,     0.15816,     0.15916,     0.16016,     0.16116,     0.16216,     0.16316,     0.16416,     0.16517,     0.16617,     0.16717,\n",
            "           0.16817,     0.16917,     0.17017,     0.17117,     0.17217,     0.17317,     0.17417,     0.17518,     0.17618,     0.17718,     0.17818,     0.17918,     0.18018,     0.18118,     0.18218,     0.18318,     0.18418,     0.18519,     0.18619,     0.18719,     0.18819,     0.18919,     0.19019,     0.19119,\n",
            "           0.19219,     0.19319,     0.19419,      0.1952,      0.1962,      0.1972,      0.1982,      0.1992,      0.2002,      0.2012,      0.2022,      0.2032,      0.2042,     0.20521,     0.20621,     0.20721,     0.20821,     0.20921,     0.21021,     0.21121,     0.21221,     0.21321,     0.21421,     0.21522,\n",
            "           0.21622,     0.21722,     0.21822,     0.21922,     0.22022,     0.22122,     0.22222,     0.22322,     0.22422,     0.22523,     0.22623,     0.22723,     0.22823,     0.22923,     0.23023,     0.23123,     0.23223,     0.23323,     0.23423,     0.23524,     0.23624,     0.23724,     0.23824,     0.23924,\n",
            "           0.24024,     0.24124,     0.24224,     0.24324,     0.24424,     0.24525,     0.24625,     0.24725,     0.24825,     0.24925,     0.25025,     0.25125,     0.25225,     0.25325,     0.25425,     0.25526,     0.25626,     0.25726,     0.25826,     0.25926,     0.26026,     0.26126,     0.26226,     0.26326,\n",
            "           0.26426,     0.26527,     0.26627,     0.26727,     0.26827,     0.26927,     0.27027,     0.27127,     0.27227,     0.27327,     0.27427,     0.27528,     0.27628,     0.27728,     0.27828,     0.27928,     0.28028,     0.28128,     0.28228,     0.28328,     0.28428,     0.28529,     0.28629,     0.28729,\n",
            "           0.28829,     0.28929,     0.29029,     0.29129,     0.29229,     0.29329,     0.29429,      0.2953,      0.2963,      0.2973,      0.2983,      0.2993,      0.3003,      0.3013,      0.3023,      0.3033,      0.3043,     0.30531,     0.30631,     0.30731,     0.30831,     0.30931,     0.31031,     0.31131,\n",
            "           0.31231,     0.31331,     0.31431,     0.31532,     0.31632,     0.31732,     0.31832,     0.31932,     0.32032,     0.32132,     0.32232,     0.32332,     0.32432,     0.32533,     0.32633,     0.32733,     0.32833,     0.32933,     0.33033,     0.33133,     0.33233,     0.33333,     0.33433,     0.33534,\n",
            "           0.33634,     0.33734,     0.33834,     0.33934,     0.34034,     0.34134,     0.34234,     0.34334,     0.34434,     0.34535,     0.34635,     0.34735,     0.34835,     0.34935,     0.35035,     0.35135,     0.35235,     0.35335,     0.35435,     0.35536,     0.35636,     0.35736,     0.35836,     0.35936,\n",
            "           0.36036,     0.36136,     0.36236,     0.36336,     0.36436,     0.36537,     0.36637,     0.36737,     0.36837,     0.36937,     0.37037,     0.37137,     0.37237,     0.37337,     0.37437,     0.37538,     0.37638,     0.37738,     0.37838,     0.37938,     0.38038,     0.38138,     0.38238,     0.38338,\n",
            "           0.38438,     0.38539,     0.38639,     0.38739,     0.38839,     0.38939,     0.39039,     0.39139,     0.39239,     0.39339,     0.39439,      0.3954,      0.3964,      0.3974,      0.3984,      0.3994,      0.4004,      0.4014,      0.4024,      0.4034,      0.4044,     0.40541,     0.40641,     0.40741,\n",
            "           0.40841,     0.40941,     0.41041,     0.41141,     0.41241,     0.41341,     0.41441,     0.41542,     0.41642,     0.41742,     0.41842,     0.41942,     0.42042,     0.42142,     0.42242,     0.42342,     0.42442,     0.42543,     0.42643,     0.42743,     0.42843,     0.42943,     0.43043,     0.43143,\n",
            "           0.43243,     0.43343,     0.43443,     0.43544,     0.43644,     0.43744,     0.43844,     0.43944,     0.44044,     0.44144,     0.44244,     0.44344,     0.44444,     0.44545,     0.44645,     0.44745,     0.44845,     0.44945,     0.45045,     0.45145,     0.45245,     0.45345,     0.45445,     0.45546,\n",
            "           0.45646,     0.45746,     0.45846,     0.45946,     0.46046,     0.46146,     0.46246,     0.46346,     0.46446,     0.46547,     0.46647,     0.46747,     0.46847,     0.46947,     0.47047,     0.47147,     0.47247,     0.47347,     0.47447,     0.47548,     0.47648,     0.47748,     0.47848,     0.47948,\n",
            "           0.48048,     0.48148,     0.48248,     0.48348,     0.48448,     0.48549,     0.48649,     0.48749,     0.48849,     0.48949,     0.49049,     0.49149,     0.49249,     0.49349,     0.49449,      0.4955,      0.4965,      0.4975,      0.4985,      0.4995,      0.5005,      0.5015,      0.5025,      0.5035,\n",
            "            0.5045,     0.50551,     0.50651,     0.50751,     0.50851,     0.50951,     0.51051,     0.51151,     0.51251,     0.51351,     0.51451,     0.51552,     0.51652,     0.51752,     0.51852,     0.51952,     0.52052,     0.52152,     0.52252,     0.52352,     0.52452,     0.52553,     0.52653,     0.52753,\n",
            "           0.52853,     0.52953,     0.53053,     0.53153,     0.53253,     0.53353,     0.53453,     0.53554,     0.53654,     0.53754,     0.53854,     0.53954,     0.54054,     0.54154,     0.54254,     0.54354,     0.54454,     0.54555,     0.54655,     0.54755,     0.54855,     0.54955,     0.55055,     0.55155,\n",
            "           0.55255,     0.55355,     0.55455,     0.55556,     0.55656,     0.55756,     0.55856,     0.55956,     0.56056,     0.56156,     0.56256,     0.56356,     0.56456,     0.56557,     0.56657,     0.56757,     0.56857,     0.56957,     0.57057,     0.57157,     0.57257,     0.57357,     0.57457,     0.57558,\n",
            "           0.57658,     0.57758,     0.57858,     0.57958,     0.58058,     0.58158,     0.58258,     0.58358,     0.58458,     0.58559,     0.58659,     0.58759,     0.58859,     0.58959,     0.59059,     0.59159,     0.59259,     0.59359,     0.59459,      0.5956,      0.5966,      0.5976,      0.5986,      0.5996,\n",
            "            0.6006,      0.6016,      0.6026,      0.6036,      0.6046,     0.60561,     0.60661,     0.60761,     0.60861,     0.60961,     0.61061,     0.61161,     0.61261,     0.61361,     0.61461,     0.61562,     0.61662,     0.61762,     0.61862,     0.61962,     0.62062,     0.62162,     0.62262,     0.62362,\n",
            "           0.62462,     0.62563,     0.62663,     0.62763,     0.62863,     0.62963,     0.63063,     0.63163,     0.63263,     0.63363,     0.63463,     0.63564,     0.63664,     0.63764,     0.63864,     0.63964,     0.64064,     0.64164,     0.64264,     0.64364,     0.64464,     0.64565,     0.64665,     0.64765,\n",
            "           0.64865,     0.64965,     0.65065,     0.65165,     0.65265,     0.65365,     0.65465,     0.65566,     0.65666,     0.65766,     0.65866,     0.65966,     0.66066,     0.66166,     0.66266,     0.66366,     0.66466,     0.66567,     0.66667,     0.66767,     0.66867,     0.66967,     0.67067,     0.67167,\n",
            "           0.67267,     0.67367,     0.67467,     0.67568,     0.67668,     0.67768,     0.67868,     0.67968,     0.68068,     0.68168,     0.68268,     0.68368,     0.68468,     0.68569,     0.68669,     0.68769,     0.68869,     0.68969,     0.69069,     0.69169,     0.69269,     0.69369,     0.69469,      0.6957,\n",
            "            0.6967,      0.6977,      0.6987,      0.6997,      0.7007,      0.7017,      0.7027,      0.7037,      0.7047,     0.70571,     0.70671,     0.70771,     0.70871,     0.70971,     0.71071,     0.71171,     0.71271,     0.71371,     0.71471,     0.71572,     0.71672,     0.71772,     0.71872,     0.71972,\n",
            "           0.72072,     0.72172,     0.72272,     0.72372,     0.72472,     0.72573,     0.72673,     0.72773,     0.72873,     0.72973,     0.73073,     0.73173,     0.73273,     0.73373,     0.73473,     0.73574,     0.73674,     0.73774,     0.73874,     0.73974,     0.74074,     0.74174,     0.74274,     0.74374,\n",
            "           0.74474,     0.74575,     0.74675,     0.74775,     0.74875,     0.74975,     0.75075,     0.75175,     0.75275,     0.75375,     0.75475,     0.75576,     0.75676,     0.75776,     0.75876,     0.75976,     0.76076,     0.76176,     0.76276,     0.76376,     0.76476,     0.76577,     0.76677,     0.76777,\n",
            "           0.76877,     0.76977,     0.77077,     0.77177,     0.77277,     0.77377,     0.77477,     0.77578,     0.77678,     0.77778,     0.77878,     0.77978,     0.78078,     0.78178,     0.78278,     0.78378,     0.78478,     0.78579,     0.78679,     0.78779,     0.78879,     0.78979,     0.79079,     0.79179,\n",
            "           0.79279,     0.79379,     0.79479,      0.7958,      0.7968,      0.7978,      0.7988,      0.7998,      0.8008,      0.8018,      0.8028,      0.8038,      0.8048,     0.80581,     0.80681,     0.80781,     0.80881,     0.80981,     0.81081,     0.81181,     0.81281,     0.81381,     0.81481,     0.81582,\n",
            "           0.81682,     0.81782,     0.81882,     0.81982,     0.82082,     0.82182,     0.82282,     0.82382,     0.82482,     0.82583,     0.82683,     0.82783,     0.82883,     0.82983,     0.83083,     0.83183,     0.83283,     0.83383,     0.83483,     0.83584,     0.83684,     0.83784,     0.83884,     0.83984,\n",
            "           0.84084,     0.84184,     0.84284,     0.84384,     0.84484,     0.84585,     0.84685,     0.84785,     0.84885,     0.84985,     0.85085,     0.85185,     0.85285,     0.85385,     0.85485,     0.85586,     0.85686,     0.85786,     0.85886,     0.85986,     0.86086,     0.86186,     0.86286,     0.86386,\n",
            "           0.86486,     0.86587,     0.86687,     0.86787,     0.86887,     0.86987,     0.87087,     0.87187,     0.87287,     0.87387,     0.87487,     0.87588,     0.87688,     0.87788,     0.87888,     0.87988,     0.88088,     0.88188,     0.88288,     0.88388,     0.88488,     0.88589,     0.88689,     0.88789,\n",
            "           0.88889,     0.88989,     0.89089,     0.89189,     0.89289,     0.89389,     0.89489,      0.8959,      0.8969,      0.8979,      0.8989,      0.8999,      0.9009,      0.9019,      0.9029,      0.9039,      0.9049,     0.90591,     0.90691,     0.90791,     0.90891,     0.90991,     0.91091,     0.91191,\n",
            "           0.91291,     0.91391,     0.91491,     0.91592,     0.91692,     0.91792,     0.91892,     0.91992,     0.92092,     0.92192,     0.92292,     0.92392,     0.92492,     0.92593,     0.92693,     0.92793,     0.92893,     0.92993,     0.93093,     0.93193,     0.93293,     0.93393,     0.93493,     0.93594,\n",
            "           0.93694,     0.93794,     0.93894,     0.93994,     0.94094,     0.94194,     0.94294,     0.94394,     0.94494,     0.94595,     0.94695,     0.94795,     0.94895,     0.94995,     0.95095,     0.95195,     0.95295,     0.95395,     0.95495,     0.95596,     0.95696,     0.95796,     0.95896,     0.95996,\n",
            "           0.96096,     0.96196,     0.96296,     0.96396,     0.96496,     0.96597,     0.96697,     0.96797,     0.96897,     0.96997,     0.97097,     0.97197,     0.97297,     0.97397,     0.97497,     0.97598,     0.97698,     0.97798,     0.97898,     0.97998,     0.98098,     0.98198,     0.98298,     0.98398,\n",
            "           0.98498,     0.98599,     0.98699,     0.98799,     0.98899,     0.98999,     0.99099,     0.99199,     0.99299,     0.99399,     0.99499,       0.996,       0.997,       0.998,       0.999,           1]), array([[   0.095238,    0.095238,     0.15683,     0.20187,     0.21226,     0.22889,     0.23927,     0.24206,     0.24909,      0.2433,     0.25274,     0.26252,     0.26637,     0.27072,     0.27181,     0.27291,      0.2741,     0.27815,     0.28144,     0.28701,     0.29127,     0.29455,     0.30019,\n",
            "            0.30279,     0.30763,     0.31466,     0.31732,     0.32079,     0.31217,     0.31505,     0.31751,     0.31942,     0.32133,      0.3242,     0.32763,     0.33205,     0.33941,     0.34007,     0.34072,     0.34137,     0.34203,     0.34268,     0.34333,     0.34399,     0.34464,     0.34529,\n",
            "            0.34477,     0.34312,     0.34672,     0.34875,     0.35078,     0.35281,     0.35386,     0.35485,     0.35583,     0.35681,      0.3578,     0.35878,     0.35977,     0.36095,     0.36219,     0.36343,     0.36468,     0.36592,     0.36716,     0.37074,     0.37473,     0.37622,     0.37753,\n",
            "            0.37884,     0.38015,     0.38147,     0.38278,     0.38337,     0.38383,     0.38429,     0.38475,     0.38521,     0.38567,     0.38613,     0.38659,     0.38705,     0.38751,     0.38797,     0.38843,     0.38889,     0.38935,     0.38981,     0.39027,     0.39073,     0.39119,     0.39325,\n",
            "            0.39583,     0.39842,     0.40455,     0.40832,     0.40706,      0.4058,     0.40454,     0.40328,     0.40202,     0.40077,     0.39951,     0.39825,     0.39699,     0.39573,     0.39442,     0.39309,     0.39176,     0.39043,      0.3891,     0.38777,     0.38644,     0.38512,     0.38379,\n",
            "            0.38246,     0.38113,     0.38149,     0.38212,     0.38274,     0.38337,     0.38399,     0.38461,     0.38524,     0.38586,     0.38649,     0.38711,     0.38773,     0.38836,     0.38898,      0.3896,     0.39023,     0.39178,     0.39335,     0.39493,      0.3965,     0.39807,     0.39964,\n",
            "            0.40069,     0.40158,     0.40247,     0.40336,     0.40426,     0.40515,     0.40604,     0.40693,     0.40782,     0.40871,      0.4096,     0.41046,      0.4112,     0.41195,     0.41269,     0.41344,     0.41418,     0.41493,     0.41568,     0.41642,     0.41717,     0.41791,     0.41866,\n",
            "             0.4194,     0.42015,     0.42089,     0.42259,     0.42453,     0.42648,     0.42843,     0.43037,     0.43232,     0.43338,     0.43439,      0.4354,     0.43641,     0.43742,     0.43843,     0.43944,     0.44045,     0.44146,     0.44247,     0.44348,     0.44447,     0.44516,     0.44585,\n",
            "            0.44654,     0.44723,     0.44791,      0.4486,     0.44929,     0.44998,     0.45066,     0.45135,     0.45204,     0.45273,     0.45341,      0.4541,     0.45479,     0.45548,     0.45616,     0.45685,     0.45828,     0.46026,     0.46223,     0.46421,     0.46619,     0.46816,     0.47014,\n",
            "            0.47152,     0.47272,     0.47391,     0.47511,     0.47631,     0.47751,     0.47871,     0.47991,     0.48111,     0.48231,     0.48351,     0.48471,     0.48675,      0.4889,     0.49105,      0.4932,     0.49535,      0.4975,     0.49965,     0.50031,     0.50068,     0.50106,     0.50143,\n",
            "             0.5018,     0.50217,     0.50255,     0.50292,     0.50329,     0.50366,     0.50404,     0.50441,     0.50478,     0.50515,     0.50553,      0.5059,     0.50627,     0.50664,     0.50701,     0.50739,     0.50776,     0.50813,      0.5085,     0.50888,     0.50925,     0.50962,     0.50999,\n",
            "            0.51037,     0.51074,     0.51111,     0.51148,     0.51186,     0.51223,      0.5126,     0.51297,     0.51335,     0.51372,     0.51409,     0.51446,     0.51483,     0.51521,     0.51558,     0.51595,      0.5165,     0.51719,     0.51789,     0.51859,     0.51929,     0.51998,     0.52068,\n",
            "            0.52138,     0.52208,     0.52278,     0.52347,     0.52417,     0.52487,     0.52557,     0.52626,     0.52696,     0.52766,     0.52836,     0.52906,     0.52975,     0.53045,     0.53115,     0.53185,     0.53255,     0.53324,     0.53274,     0.53205,     0.53137,     0.53068,        0.53,\n",
            "            0.52931,     0.52863,     0.52794,     0.52726,     0.52657,     0.52589,      0.5252,     0.52452,     0.52383,     0.52315,     0.52247,     0.52178,      0.5211,     0.52041,     0.51973,     0.51904,     0.51836,     0.51767,     0.51781,     0.51934,     0.52087,      0.5224,     0.52394,\n",
            "            0.52547,       0.527,     0.52853,     0.53006,     0.53159,     0.53312,     0.53465,     0.53792,     0.54512,     0.55232,     0.55108,     0.54297,     0.53949,     0.54182,     0.54414,     0.54647,      0.5488,     0.55112,     0.55345,     0.55577,      0.5581,     0.56054,     0.56349,\n",
            "            0.56644,     0.56939,     0.57235,      0.5753,     0.57825,      0.5812,     0.58363,     0.58468,     0.58573,     0.58679,     0.58784,     0.58889,     0.58994,       0.591,     0.59205,      0.5931,     0.59416,     0.59521,     0.59626,     0.59732,     0.59837,     0.59942,     0.60048,\n",
            "            0.60153,     0.60258,     0.60363,     0.60469,     0.60574,     0.60679,     0.60785,      0.6089,     0.60994,     0.61099,     0.61203,     0.61308,     0.61412,     0.61517,     0.61621,     0.61726,      0.6183,     0.61935,      0.6204,     0.62144,     0.62249,     0.62353,     0.62458,\n",
            "            0.62562,     0.62667,     0.62771,     0.62876,      0.6298,     0.63085,     0.63189,     0.63294,     0.63398,     0.63503,     0.63607,     0.63705,     0.63799,     0.63894,     0.63989,     0.64084,     0.64178,     0.64273,     0.64368,     0.64463,     0.64557,     0.64652,     0.64747,\n",
            "            0.64842,     0.64936,     0.65031,     0.65126,      0.6522,     0.65315,      0.6541,     0.65505,     0.65599,     0.65694,     0.65789,     0.65884,     0.65978,     0.66073,     0.66168,     0.66263,     0.66357,     0.66452,     0.66547,     0.66641,     0.66789,     0.66955,     0.67121,\n",
            "            0.67287,     0.67454,      0.6762,     0.67786,     0.67953,     0.68119,     0.68285,     0.68451,     0.68618,     0.68784,      0.6895,     0.69116,     0.69283,     0.69449,     0.69615,     0.69781,     0.69948,     0.70482,     0.71185,     0.71889,     0.72593,     0.73296,     0.73522,\n",
            "             0.7316,     0.72798,     0.72437,     0.72211,     0.72183,     0.72156,     0.72128,     0.72101,     0.72073,     0.72046,     0.72018,     0.71991,     0.71963,     0.71936,     0.71908,     0.71881,     0.71853,     0.71825,     0.71798,      0.7177,     0.71743,     0.71715,     0.71688,\n",
            "             0.7166,     0.71633,     0.71605,     0.71578,      0.7155,     0.71523,     0.71495,     0.71467,      0.7144,     0.71412,     0.71385,     0.71357,      0.7133,     0.71302,     0.71275,     0.71247,      0.7122,     0.71192,     0.71165,     0.71137,     0.71109,     0.71082,     0.71054,\n",
            "            0.71027,     0.70999,     0.70972,     0.70944,     0.70917,     0.70889,     0.70862,     0.70834,     0.70807,     0.70779,     0.70751,     0.70724,     0.70696,     0.70669,     0.70641,     0.70614,       0.706,     0.70757,     0.70913,      0.7107,     0.71227,     0.71384,     0.71541,\n",
            "            0.71698,     0.71854,     0.72011,     0.72168,     0.72325,     0.72482,     0.72638,     0.72795,     0.72952,     0.73109,     0.73266,     0.73423,     0.73579,     0.73736,     0.73893,      0.7405,     0.74207,     0.74363,      0.7452,     0.74677,     0.74834,     0.74991,     0.74969,\n",
            "            0.74936,     0.74903,     0.74869,     0.74836,     0.74803,      0.7477,     0.74737,     0.74704,      0.7467,     0.74637,     0.74604,     0.74571,     0.74538,     0.74505,     0.74472,     0.74438,     0.74405,     0.74372,     0.74339,     0.74306,     0.74273,      0.7424,     0.74206,\n",
            "            0.74173,      0.7414,     0.74107,     0.74074,     0.74041,     0.74008,     0.73974,     0.73941,     0.73908,     0.73875,     0.73842,     0.73809,     0.73775,     0.73742,     0.73709,     0.73676,     0.73643,      0.7361,     0.73577,     0.73543,      0.7351,     0.73477,     0.73444,\n",
            "            0.73411,     0.73378,     0.73345,     0.73261,     0.73151,     0.73041,     0.72931,     0.72821,     0.72711,     0.72601,     0.72491,     0.72381,     0.72271,     0.72161,     0.72051,     0.71941,     0.71831,     0.71721,     0.71611,     0.71501,     0.70933,     0.69492,     0.69106,\n",
            "            0.68953,       0.688,     0.68647,     0.68494,     0.68342,     0.68189,     0.68036,     0.67883,      0.6773,     0.67578,     0.67425,     0.67272,     0.67119,     0.66966,     0.66813,     0.66671,     0.66788,     0.66905,     0.67022,     0.67139,     0.67256,     0.67373,      0.6749,\n",
            "            0.67607,     0.67724,     0.67841,     0.67958,     0.68075,     0.68192,     0.68309,     0.68427,     0.68544,     0.68661,     0.68778,     0.68895,     0.69012,     0.69129,     0.69246,     0.69363,      0.6948,     0.69597,     0.69714,     0.69831,     0.69948,     0.70065,     0.70182,\n",
            "            0.70299,     0.70416,     0.70533,      0.7065,     0.70767,     0.70884,     0.71001,     0.71118,     0.71235,     0.71352,     0.71469,     0.71586,     0.71703,      0.7182,     0.71937,     0.72054,     0.72171,     0.72288,     0.72405,     0.72522,     0.72639,     0.72744,     0.72814,\n",
            "            0.72884,     0.72954,     0.73024,     0.73094,     0.73164,     0.73234,     0.73304,     0.73374,     0.73444,     0.73514,     0.73584,     0.73654,     0.73724,     0.73794,     0.73863,     0.73933,     0.74003,     0.74073,     0.74143,     0.74213,     0.74283,     0.74353,     0.74423,\n",
            "            0.74493,     0.74563,     0.74633,     0.74703,     0.74773,     0.74843,     0.74912,     0.74982,     0.75052,     0.75122,     0.75192,     0.75262,     0.75332,     0.75402,     0.75472,     0.75542,     0.75612,     0.75682,     0.75752,     0.75822,     0.75892,     0.75962,     0.76031,\n",
            "            0.76101,     0.76171,     0.76241,     0.76311,     0.76381,     0.76451,     0.76521,     0.76591,     0.76661,     0.76731,     0.76801,     0.76871,     0.76941,     0.77011,     0.77081,      0.7715,      0.7722,      0.7729,      0.7736,      0.7743,       0.775,      0.7757,      0.7764,\n",
            "             0.7771,      0.7778,      0.7785,      0.7792,      0.7799,      0.7806,      0.7813,       0.782,     0.78269,     0.78339,     0.78409,     0.78479,     0.78549,     0.78619,     0.78689,     0.78759,     0.78829,     0.78899,     0.78969,     0.79039,     0.79109,     0.79179,     0.79249,\n",
            "            0.79319,     0.79388,     0.79458,     0.79528,     0.79598,     0.79668,     0.79738,     0.79808,     0.79878,     0.79948,     0.79478,     0.77766,     0.77699,     0.77631,     0.77563,     0.77495,     0.77427,      0.7736,     0.77292,     0.77224,     0.77156,     0.77088,      0.7702,\n",
            "            0.76953,     0.76885,     0.76817,     0.76749,     0.76681,     0.76614,     0.76546,     0.76478,      0.7641,     0.76342,     0.76274,     0.76207,     0.76139,     0.76071,     0.76003,     0.75935,     0.75868,       0.758,     0.75732,     0.75664,     0.75596,     0.75528,     0.75461,\n",
            "            0.75393,     0.75325,     0.75257,     0.75189,     0.75121,     0.75054,     0.74952,      0.7472,     0.74489,     0.74257,     0.74026,     0.73794,     0.73563,     0.73331,       0.731,     0.72868,     0.72636,     0.72405,     0.72173,     0.71942,      0.7171,     0.71479,     0.71292,\n",
            "            0.71118,     0.70943,     0.70769,     0.70594,      0.7042,     0.70245,     0.70071,     0.69897,     0.69722,     0.69548,     0.69373,     0.69199,     0.69025,      0.6885,     0.68676,     0.68501,     0.68327,     0.68152,     0.67978,     0.67804,     0.67629,     0.67455,      0.6728,\n",
            "            0.67106,     0.66931,     0.66757,     0.67233,     0.68409,     0.69585,     0.70761,     0.71937,     0.73112,     0.74288,     0.75464,      0.7664,     0.77816,     0.78992,     0.79964,     0.79712,     0.79461,     0.79209,     0.78957,     0.78705,     0.78453,     0.78202,      0.7795,\n",
            "            0.77698,     0.77446,     0.77194,     0.76943,     0.76691,     0.76439,     0.76187,     0.75936,     0.75684,     0.75432,      0.7518,     0.74898,     0.74541,     0.74183,     0.73825,     0.73468,      0.7311,     0.72752,     0.72394,     0.72037,     0.71679,     0.71321,     0.70964,\n",
            "            0.70606,     0.70248,     0.69891,     0.69533,     0.69175,     0.68818,      0.6846,     0.68102,     0.67745,     0.67387,     0.67029,     0.66672,     0.69655,     0.72686,     0.75716,     0.78747,     0.81778,     0.84809,     0.87839,      0.9087,     0.93901,     0.96931,     0.99962,\n",
            "                  1,           1,           1,           1,           1,           1,           1,           1,           1,           1,           1,           1,           1,           1,           1,           1,           1,           1,           1,           1,           1,           1,           1,\n",
            "                  1,           1,           1,           1,           1,           1,           1,           1,           1,           1,           1,           1,           1,           1,           1,           1,           1,           1,           1,           1,           1,           1,           1,\n",
            "                  1,           1,           1,           1,           1,           1,           1,           1,           1,           1,           1]]), 'Confidence', 'Precision'], [array([          0,    0.001001,    0.002002,    0.003003,    0.004004,    0.005005,    0.006006,    0.007007,    0.008008,    0.009009,     0.01001,    0.011011,    0.012012,    0.013013,    0.014014,    0.015015,    0.016016,    0.017017,    0.018018,    0.019019,     0.02002,    0.021021,    0.022022,    0.023023,\n",
            "          0.024024,    0.025025,    0.026026,    0.027027,    0.028028,    0.029029,     0.03003,    0.031031,    0.032032,    0.033033,    0.034034,    0.035035,    0.036036,    0.037037,    0.038038,    0.039039,     0.04004,    0.041041,    0.042042,    0.043043,    0.044044,    0.045045,    0.046046,    0.047047,\n",
            "          0.048048,    0.049049,     0.05005,    0.051051,    0.052052,    0.053053,    0.054054,    0.055055,    0.056056,    0.057057,    0.058058,    0.059059,     0.06006,    0.061061,    0.062062,    0.063063,    0.064064,    0.065065,    0.066066,    0.067067,    0.068068,    0.069069,     0.07007,    0.071071,\n",
            "          0.072072,    0.073073,    0.074074,    0.075075,    0.076076,    0.077077,    0.078078,    0.079079,     0.08008,    0.081081,    0.082082,    0.083083,    0.084084,    0.085085,    0.086086,    0.087087,    0.088088,    0.089089,     0.09009,    0.091091,    0.092092,    0.093093,    0.094094,    0.095095,\n",
            "          0.096096,    0.097097,    0.098098,    0.099099,      0.1001,      0.1011,      0.1021,      0.1031,      0.1041,     0.10511,     0.10611,     0.10711,     0.10811,     0.10911,     0.11011,     0.11111,     0.11211,     0.11311,     0.11411,     0.11512,     0.11612,     0.11712,     0.11812,     0.11912,\n",
            "           0.12012,     0.12112,     0.12212,     0.12312,     0.12412,     0.12513,     0.12613,     0.12713,     0.12813,     0.12913,     0.13013,     0.13113,     0.13213,     0.13313,     0.13413,     0.13514,     0.13614,     0.13714,     0.13814,     0.13914,     0.14014,     0.14114,     0.14214,     0.14314,\n",
            "           0.14414,     0.14515,     0.14615,     0.14715,     0.14815,     0.14915,     0.15015,     0.15115,     0.15215,     0.15315,     0.15415,     0.15516,     0.15616,     0.15716,     0.15816,     0.15916,     0.16016,     0.16116,     0.16216,     0.16316,     0.16416,     0.16517,     0.16617,     0.16717,\n",
            "           0.16817,     0.16917,     0.17017,     0.17117,     0.17217,     0.17317,     0.17417,     0.17518,     0.17618,     0.17718,     0.17818,     0.17918,     0.18018,     0.18118,     0.18218,     0.18318,     0.18418,     0.18519,     0.18619,     0.18719,     0.18819,     0.18919,     0.19019,     0.19119,\n",
            "           0.19219,     0.19319,     0.19419,      0.1952,      0.1962,      0.1972,      0.1982,      0.1992,      0.2002,      0.2012,      0.2022,      0.2032,      0.2042,     0.20521,     0.20621,     0.20721,     0.20821,     0.20921,     0.21021,     0.21121,     0.21221,     0.21321,     0.21421,     0.21522,\n",
            "           0.21622,     0.21722,     0.21822,     0.21922,     0.22022,     0.22122,     0.22222,     0.22322,     0.22422,     0.22523,     0.22623,     0.22723,     0.22823,     0.22923,     0.23023,     0.23123,     0.23223,     0.23323,     0.23423,     0.23524,     0.23624,     0.23724,     0.23824,     0.23924,\n",
            "           0.24024,     0.24124,     0.24224,     0.24324,     0.24424,     0.24525,     0.24625,     0.24725,     0.24825,     0.24925,     0.25025,     0.25125,     0.25225,     0.25325,     0.25425,     0.25526,     0.25626,     0.25726,     0.25826,     0.25926,     0.26026,     0.26126,     0.26226,     0.26326,\n",
            "           0.26426,     0.26527,     0.26627,     0.26727,     0.26827,     0.26927,     0.27027,     0.27127,     0.27227,     0.27327,     0.27427,     0.27528,     0.27628,     0.27728,     0.27828,     0.27928,     0.28028,     0.28128,     0.28228,     0.28328,     0.28428,     0.28529,     0.28629,     0.28729,\n",
            "           0.28829,     0.28929,     0.29029,     0.29129,     0.29229,     0.29329,     0.29429,      0.2953,      0.2963,      0.2973,      0.2983,      0.2993,      0.3003,      0.3013,      0.3023,      0.3033,      0.3043,     0.30531,     0.30631,     0.30731,     0.30831,     0.30931,     0.31031,     0.31131,\n",
            "           0.31231,     0.31331,     0.31431,     0.31532,     0.31632,     0.31732,     0.31832,     0.31932,     0.32032,     0.32132,     0.32232,     0.32332,     0.32432,     0.32533,     0.32633,     0.32733,     0.32833,     0.32933,     0.33033,     0.33133,     0.33233,     0.33333,     0.33433,     0.33534,\n",
            "           0.33634,     0.33734,     0.33834,     0.33934,     0.34034,     0.34134,     0.34234,     0.34334,     0.34434,     0.34535,     0.34635,     0.34735,     0.34835,     0.34935,     0.35035,     0.35135,     0.35235,     0.35335,     0.35435,     0.35536,     0.35636,     0.35736,     0.35836,     0.35936,\n",
            "           0.36036,     0.36136,     0.36236,     0.36336,     0.36436,     0.36537,     0.36637,     0.36737,     0.36837,     0.36937,     0.37037,     0.37137,     0.37237,     0.37337,     0.37437,     0.37538,     0.37638,     0.37738,     0.37838,     0.37938,     0.38038,     0.38138,     0.38238,     0.38338,\n",
            "           0.38438,     0.38539,     0.38639,     0.38739,     0.38839,     0.38939,     0.39039,     0.39139,     0.39239,     0.39339,     0.39439,      0.3954,      0.3964,      0.3974,      0.3984,      0.3994,      0.4004,      0.4014,      0.4024,      0.4034,      0.4044,     0.40541,     0.40641,     0.40741,\n",
            "           0.40841,     0.40941,     0.41041,     0.41141,     0.41241,     0.41341,     0.41441,     0.41542,     0.41642,     0.41742,     0.41842,     0.41942,     0.42042,     0.42142,     0.42242,     0.42342,     0.42442,     0.42543,     0.42643,     0.42743,     0.42843,     0.42943,     0.43043,     0.43143,\n",
            "           0.43243,     0.43343,     0.43443,     0.43544,     0.43644,     0.43744,     0.43844,     0.43944,     0.44044,     0.44144,     0.44244,     0.44344,     0.44444,     0.44545,     0.44645,     0.44745,     0.44845,     0.44945,     0.45045,     0.45145,     0.45245,     0.45345,     0.45445,     0.45546,\n",
            "           0.45646,     0.45746,     0.45846,     0.45946,     0.46046,     0.46146,     0.46246,     0.46346,     0.46446,     0.46547,     0.46647,     0.46747,     0.46847,     0.46947,     0.47047,     0.47147,     0.47247,     0.47347,     0.47447,     0.47548,     0.47648,     0.47748,     0.47848,     0.47948,\n",
            "           0.48048,     0.48148,     0.48248,     0.48348,     0.48448,     0.48549,     0.48649,     0.48749,     0.48849,     0.48949,     0.49049,     0.49149,     0.49249,     0.49349,     0.49449,      0.4955,      0.4965,      0.4975,      0.4985,      0.4995,      0.5005,      0.5015,      0.5025,      0.5035,\n",
            "            0.5045,     0.50551,     0.50651,     0.50751,     0.50851,     0.50951,     0.51051,     0.51151,     0.51251,     0.51351,     0.51451,     0.51552,     0.51652,     0.51752,     0.51852,     0.51952,     0.52052,     0.52152,     0.52252,     0.52352,     0.52452,     0.52553,     0.52653,     0.52753,\n",
            "           0.52853,     0.52953,     0.53053,     0.53153,     0.53253,     0.53353,     0.53453,     0.53554,     0.53654,     0.53754,     0.53854,     0.53954,     0.54054,     0.54154,     0.54254,     0.54354,     0.54454,     0.54555,     0.54655,     0.54755,     0.54855,     0.54955,     0.55055,     0.55155,\n",
            "           0.55255,     0.55355,     0.55455,     0.55556,     0.55656,     0.55756,     0.55856,     0.55956,     0.56056,     0.56156,     0.56256,     0.56356,     0.56456,     0.56557,     0.56657,     0.56757,     0.56857,     0.56957,     0.57057,     0.57157,     0.57257,     0.57357,     0.57457,     0.57558,\n",
            "           0.57658,     0.57758,     0.57858,     0.57958,     0.58058,     0.58158,     0.58258,     0.58358,     0.58458,     0.58559,     0.58659,     0.58759,     0.58859,     0.58959,     0.59059,     0.59159,     0.59259,     0.59359,     0.59459,      0.5956,      0.5966,      0.5976,      0.5986,      0.5996,\n",
            "            0.6006,      0.6016,      0.6026,      0.6036,      0.6046,     0.60561,     0.60661,     0.60761,     0.60861,     0.60961,     0.61061,     0.61161,     0.61261,     0.61361,     0.61461,     0.61562,     0.61662,     0.61762,     0.61862,     0.61962,     0.62062,     0.62162,     0.62262,     0.62362,\n",
            "           0.62462,     0.62563,     0.62663,     0.62763,     0.62863,     0.62963,     0.63063,     0.63163,     0.63263,     0.63363,     0.63463,     0.63564,     0.63664,     0.63764,     0.63864,     0.63964,     0.64064,     0.64164,     0.64264,     0.64364,     0.64464,     0.64565,     0.64665,     0.64765,\n",
            "           0.64865,     0.64965,     0.65065,     0.65165,     0.65265,     0.65365,     0.65465,     0.65566,     0.65666,     0.65766,     0.65866,     0.65966,     0.66066,     0.66166,     0.66266,     0.66366,     0.66466,     0.66567,     0.66667,     0.66767,     0.66867,     0.66967,     0.67067,     0.67167,\n",
            "           0.67267,     0.67367,     0.67467,     0.67568,     0.67668,     0.67768,     0.67868,     0.67968,     0.68068,     0.68168,     0.68268,     0.68368,     0.68468,     0.68569,     0.68669,     0.68769,     0.68869,     0.68969,     0.69069,     0.69169,     0.69269,     0.69369,     0.69469,      0.6957,\n",
            "            0.6967,      0.6977,      0.6987,      0.6997,      0.7007,      0.7017,      0.7027,      0.7037,      0.7047,     0.70571,     0.70671,     0.70771,     0.70871,     0.70971,     0.71071,     0.71171,     0.71271,     0.71371,     0.71471,     0.71572,     0.71672,     0.71772,     0.71872,     0.71972,\n",
            "           0.72072,     0.72172,     0.72272,     0.72372,     0.72472,     0.72573,     0.72673,     0.72773,     0.72873,     0.72973,     0.73073,     0.73173,     0.73273,     0.73373,     0.73473,     0.73574,     0.73674,     0.73774,     0.73874,     0.73974,     0.74074,     0.74174,     0.74274,     0.74374,\n",
            "           0.74474,     0.74575,     0.74675,     0.74775,     0.74875,     0.74975,     0.75075,     0.75175,     0.75275,     0.75375,     0.75475,     0.75576,     0.75676,     0.75776,     0.75876,     0.75976,     0.76076,     0.76176,     0.76276,     0.76376,     0.76476,     0.76577,     0.76677,     0.76777,\n",
            "           0.76877,     0.76977,     0.77077,     0.77177,     0.77277,     0.77377,     0.77477,     0.77578,     0.77678,     0.77778,     0.77878,     0.77978,     0.78078,     0.78178,     0.78278,     0.78378,     0.78478,     0.78579,     0.78679,     0.78779,     0.78879,     0.78979,     0.79079,     0.79179,\n",
            "           0.79279,     0.79379,     0.79479,      0.7958,      0.7968,      0.7978,      0.7988,      0.7998,      0.8008,      0.8018,      0.8028,      0.8038,      0.8048,     0.80581,     0.80681,     0.80781,     0.80881,     0.80981,     0.81081,     0.81181,     0.81281,     0.81381,     0.81481,     0.81582,\n",
            "           0.81682,     0.81782,     0.81882,     0.81982,     0.82082,     0.82182,     0.82282,     0.82382,     0.82482,     0.82583,     0.82683,     0.82783,     0.82883,     0.82983,     0.83083,     0.83183,     0.83283,     0.83383,     0.83483,     0.83584,     0.83684,     0.83784,     0.83884,     0.83984,\n",
            "           0.84084,     0.84184,     0.84284,     0.84384,     0.84484,     0.84585,     0.84685,     0.84785,     0.84885,     0.84985,     0.85085,     0.85185,     0.85285,     0.85385,     0.85485,     0.85586,     0.85686,     0.85786,     0.85886,     0.85986,     0.86086,     0.86186,     0.86286,     0.86386,\n",
            "           0.86486,     0.86587,     0.86687,     0.86787,     0.86887,     0.86987,     0.87087,     0.87187,     0.87287,     0.87387,     0.87487,     0.87588,     0.87688,     0.87788,     0.87888,     0.87988,     0.88088,     0.88188,     0.88288,     0.88388,     0.88488,     0.88589,     0.88689,     0.88789,\n",
            "           0.88889,     0.88989,     0.89089,     0.89189,     0.89289,     0.89389,     0.89489,      0.8959,      0.8969,      0.8979,      0.8989,      0.8999,      0.9009,      0.9019,      0.9029,      0.9039,      0.9049,     0.90591,     0.90691,     0.90791,     0.90891,     0.90991,     0.91091,     0.91191,\n",
            "           0.91291,     0.91391,     0.91491,     0.91592,     0.91692,     0.91792,     0.91892,     0.91992,     0.92092,     0.92192,     0.92292,     0.92392,     0.92492,     0.92593,     0.92693,     0.92793,     0.92893,     0.92993,     0.93093,     0.93193,     0.93293,     0.93393,     0.93493,     0.93594,\n",
            "           0.93694,     0.93794,     0.93894,     0.93994,     0.94094,     0.94194,     0.94294,     0.94394,     0.94494,     0.94595,     0.94695,     0.94795,     0.94895,     0.94995,     0.95095,     0.95195,     0.95295,     0.95395,     0.95495,     0.95596,     0.95696,     0.95796,     0.95896,     0.95996,\n",
            "           0.96096,     0.96196,     0.96296,     0.96396,     0.96496,     0.96597,     0.96697,     0.96797,     0.96897,     0.96997,     0.97097,     0.97197,     0.97297,     0.97397,     0.97497,     0.97598,     0.97698,     0.97798,     0.97898,     0.97998,     0.98098,     0.98198,     0.98298,     0.98398,\n",
            "           0.98498,     0.98599,     0.98699,     0.98799,     0.98899,     0.98999,     0.99099,     0.99199,     0.99299,     0.99399,     0.99499,       0.996,       0.997,       0.998,       0.999,           1]), array([[    0.60465,     0.60465,      0.5814,      0.5814,     0.55814,     0.53488,     0.51163,     0.48837,     0.48604,     0.46512,     0.46512,     0.46512,     0.46512,     0.46512,     0.46512,     0.46512,     0.46512,     0.46512,     0.46512,     0.46512,     0.46512,     0.46512,     0.46512,\n",
            "            0.46512,     0.46512,     0.46512,     0.46512,     0.46512,     0.44186,     0.44186,     0.44186,     0.44186,     0.44186,     0.44186,     0.44186,     0.44186,     0.44186,     0.44186,     0.44186,     0.44186,     0.44186,     0.44186,     0.44186,     0.44186,     0.44186,     0.44186,\n",
            "            0.42839,      0.4186,      0.4186,      0.4186,      0.4186,      0.4186,      0.4186,      0.4186,      0.4186,      0.4186,      0.4186,      0.4186,      0.4186,      0.4186,      0.4186,      0.4186,      0.4186,      0.4186,      0.4186,      0.4186,      0.4186,      0.4186,      0.4186,\n",
            "             0.4186,      0.4186,      0.4186,      0.4186,      0.4186,      0.4186,      0.4186,      0.4186,      0.4186,      0.4186,      0.4186,      0.4186,      0.4186,      0.4186,      0.4186,      0.4186,      0.4186,      0.4186,      0.4186,      0.4186,      0.4186,      0.4186,      0.4186,\n",
            "             0.4186,      0.4186,      0.4186,      0.4173,     0.41517,     0.41304,     0.41091,     0.40878,     0.40665,     0.40452,     0.40238,     0.40025,     0.39812,     0.39599,     0.39385,      0.3917,     0.38955,     0.38741,     0.38526,     0.38311,     0.38096,     0.37882,     0.37667,\n",
            "            0.37452,     0.37237,     0.37209,     0.37209,     0.37209,     0.37209,     0.37209,     0.37209,     0.37209,     0.37209,     0.37209,     0.37209,     0.37209,     0.37209,     0.37209,     0.37209,     0.37209,     0.37209,     0.37209,     0.37209,     0.37209,     0.37209,     0.37209,\n",
            "            0.37209,     0.37209,     0.37209,     0.37209,     0.37209,     0.37209,     0.37209,     0.37209,     0.37209,     0.37209,     0.37209,     0.37209,     0.37209,     0.37209,     0.37209,     0.37209,     0.37209,     0.37209,     0.37209,     0.37209,     0.37209,     0.37209,     0.37209,\n",
            "            0.37209,     0.37209,     0.37209,     0.37209,     0.37209,     0.37209,     0.37209,     0.37209,     0.37209,     0.37209,     0.37209,     0.37209,     0.37209,     0.37209,     0.37209,     0.37209,     0.37209,     0.37209,     0.37209,     0.37209,     0.37209,     0.37209,     0.37209,\n",
            "            0.37209,     0.37209,     0.37209,     0.37209,     0.37209,     0.37209,     0.37209,     0.37209,     0.37209,     0.37209,     0.37209,     0.37209,     0.37209,     0.37209,     0.37209,     0.37209,     0.37209,     0.37209,     0.37209,     0.37209,     0.37209,     0.37209,     0.37209,\n",
            "            0.37209,     0.37209,     0.37209,     0.37209,     0.37209,     0.37209,     0.37209,     0.37209,     0.37209,     0.37209,     0.37209,     0.37209,     0.37209,     0.37209,     0.37209,     0.37209,     0.37209,     0.37209,     0.37209,     0.37209,     0.37209,     0.37209,     0.37209,\n",
            "            0.37209,     0.37209,     0.37209,     0.37209,     0.37209,     0.37209,     0.37209,     0.37209,     0.37209,     0.37209,     0.37209,     0.37209,     0.37209,     0.37209,     0.37209,     0.37209,     0.37209,     0.37209,     0.37209,     0.37209,     0.37209,     0.37209,     0.37209,\n",
            "            0.37209,     0.37209,     0.37209,     0.37209,     0.37209,     0.37209,     0.37209,     0.37209,     0.37209,     0.37209,     0.37209,     0.37209,     0.37209,     0.37209,     0.37209,     0.37209,     0.37209,     0.37209,     0.37209,     0.37209,     0.37209,     0.37209,     0.37209,\n",
            "            0.37209,     0.37209,     0.37209,     0.37209,     0.37209,     0.37209,     0.37209,     0.37209,     0.37209,     0.37209,     0.37209,     0.37209,     0.37209,     0.37209,     0.37209,     0.37209,     0.37209,     0.37209,     0.37123,     0.37024,     0.36925,     0.36826,     0.36727,\n",
            "            0.36628,     0.36529,      0.3643,     0.36331,     0.36232,     0.36133,     0.36035,     0.35936,     0.35837,     0.35738,     0.35639,      0.3554,     0.35441,     0.35342,     0.35243,     0.35144,     0.35045,     0.34946,     0.34884,     0.34884,     0.34884,     0.34884,     0.34884,\n",
            "            0.34884,     0.34884,     0.34884,     0.34884,     0.34884,     0.34884,     0.34884,     0.34884,     0.34884,     0.34884,     0.34275,     0.33172,     0.32558,     0.32558,     0.32558,     0.32558,     0.32558,     0.32558,     0.32558,     0.32558,     0.32558,     0.32558,     0.32558,\n",
            "            0.32558,     0.32558,     0.32558,     0.32558,     0.32558,     0.32558,     0.32558,     0.32558,     0.32558,     0.32558,     0.32558,     0.32558,     0.32558,     0.32558,     0.32558,     0.32558,     0.32558,     0.32558,     0.32558,     0.32558,     0.32558,     0.32558,     0.32558,\n",
            "            0.32558,     0.32558,     0.32558,     0.32558,     0.32558,     0.32558,     0.32558,     0.32558,     0.32558,     0.32558,     0.32558,     0.32558,     0.32558,     0.32558,     0.32558,     0.32558,     0.32558,     0.32558,     0.32558,     0.32558,     0.32558,     0.32558,     0.32558,\n",
            "            0.32558,     0.32558,     0.32558,     0.32558,     0.32558,     0.32558,     0.32558,     0.32558,     0.32558,     0.32558,     0.32558,     0.32558,     0.32558,     0.32558,     0.32558,     0.32558,     0.32558,     0.32558,     0.32558,     0.32558,     0.32558,     0.32558,     0.32558,\n",
            "            0.32558,     0.32558,     0.32558,     0.32558,     0.32558,     0.32558,     0.32558,     0.32558,     0.32558,     0.32558,     0.32558,     0.32558,     0.32558,     0.32558,     0.32558,     0.32558,     0.32558,     0.32558,     0.32558,     0.32558,     0.32558,     0.32558,     0.32558,\n",
            "            0.32558,     0.32558,     0.32558,     0.32558,     0.32558,     0.32558,     0.32558,     0.32558,     0.32558,     0.32558,     0.32558,     0.32558,     0.32558,     0.32558,     0.32558,     0.32558,     0.32558,     0.32558,     0.32558,     0.32558,     0.32558,     0.32558,       0.323,\n",
            "            0.31725,     0.31149,     0.30574,     0.30217,     0.30177,     0.30138,     0.30099,      0.3006,     0.30021,     0.29981,     0.29942,     0.29903,     0.29864,     0.29825,     0.29785,     0.29746,     0.29707,     0.29668,     0.29629,     0.29589,      0.2955,     0.29511,     0.29472,\n",
            "            0.29433,     0.29394,     0.29354,     0.29315,     0.29276,     0.29237,     0.29198,     0.29158,     0.29119,      0.2908,     0.29041,     0.29002,     0.28962,     0.28923,     0.28884,     0.28845,     0.28806,     0.28766,     0.28727,     0.28688,     0.28649,      0.2861,      0.2857,\n",
            "            0.28531,     0.28492,     0.28453,     0.28414,     0.28374,     0.28335,     0.28296,     0.28257,     0.28218,     0.28178,     0.28139,       0.281,     0.28061,     0.28022,     0.27982,     0.27943,     0.27907,     0.27907,     0.27907,     0.27907,     0.27907,     0.27907,     0.27907,\n",
            "            0.27907,     0.27907,     0.27907,     0.27907,     0.27907,     0.27907,     0.27907,     0.27907,     0.27907,     0.27907,     0.27907,     0.27907,     0.27907,     0.27907,     0.27907,     0.27907,     0.27907,     0.27907,     0.27907,     0.27907,     0.27907,     0.27907,     0.27863,\n",
            "            0.27817,     0.27771,     0.27725,     0.27678,     0.27632,     0.27586,      0.2754,     0.27493,     0.27447,     0.27401,     0.27355,     0.27308,     0.27262,     0.27216,      0.2717,     0.27123,     0.27077,     0.27031,     0.26985,     0.26938,     0.26892,     0.26846,       0.268,\n",
            "            0.26753,     0.26707,     0.26661,     0.26615,     0.26568,     0.26522,     0.26476,      0.2643,     0.26383,     0.26337,     0.26291,     0.26245,     0.26198,     0.26152,     0.26106,      0.2606,     0.26013,     0.25967,     0.25921,     0.25875,     0.25828,     0.25782,     0.25736,\n",
            "             0.2569,     0.25643,     0.25597,     0.25493,     0.25358,     0.25224,      0.2509,     0.24955,     0.24821,     0.24687,     0.24553,     0.24418,     0.24284,      0.2415,     0.24015,     0.23881,     0.23747,     0.23613,     0.23478,     0.23344,     0.22732,     0.21207,     0.20817,\n",
            "            0.20678,      0.2054,     0.20401,     0.20262,     0.20124,     0.19985,     0.19847,     0.19708,     0.19569,     0.19431,     0.19292,     0.19154,     0.19015,     0.18876,     0.18738,     0.18605,     0.18605,     0.18605,     0.18605,     0.18605,     0.18605,     0.18605,     0.18605,\n",
            "            0.18605,     0.18605,     0.18605,     0.18605,     0.18605,     0.18605,     0.18605,     0.18605,     0.18605,     0.18605,     0.18605,     0.18605,     0.18605,     0.18605,     0.18605,     0.18605,     0.18605,     0.18605,     0.18605,     0.18605,     0.18605,     0.18605,     0.18605,\n",
            "            0.18605,     0.18605,     0.18605,     0.18605,     0.18605,     0.18605,     0.18605,     0.18605,     0.18605,     0.18605,     0.18605,     0.18605,     0.18605,     0.18605,     0.18605,     0.18605,     0.18605,     0.18605,     0.18605,     0.18605,     0.18605,     0.18605,     0.18605,\n",
            "            0.18605,     0.18605,     0.18605,     0.18605,     0.18605,     0.18605,     0.18605,     0.18605,     0.18605,     0.18605,     0.18605,     0.18605,     0.18605,     0.18605,     0.18605,     0.18605,     0.18605,     0.18605,     0.18605,     0.18605,     0.18605,     0.18605,     0.18605,\n",
            "            0.18605,     0.18605,     0.18605,     0.18605,     0.18605,     0.18605,     0.18605,     0.18605,     0.18605,     0.18605,     0.18605,     0.18605,     0.18605,     0.18605,     0.18605,     0.18605,     0.18605,     0.18605,     0.18605,     0.18605,     0.18605,     0.18605,     0.18605,\n",
            "            0.18605,     0.18605,     0.18605,     0.18605,     0.18605,     0.18605,     0.18605,     0.18605,     0.18605,     0.18605,     0.18605,     0.18605,     0.18605,     0.18605,     0.18605,     0.18605,     0.18605,     0.18605,     0.18605,     0.18605,     0.18605,     0.18605,     0.18605,\n",
            "            0.18605,     0.18605,     0.18605,     0.18605,     0.18605,     0.18605,     0.18605,     0.18605,     0.18605,     0.18605,     0.18605,     0.18605,     0.18605,     0.18605,     0.18605,     0.18605,     0.18605,     0.18605,     0.18605,     0.18605,     0.18605,     0.18605,     0.18605,\n",
            "            0.18605,     0.18605,     0.18605,     0.18605,     0.18605,     0.18605,     0.18605,     0.18605,     0.18605,     0.18605,     0.18059,      0.1627,     0.16213,     0.16156,     0.16099,     0.16043,     0.15986,     0.15929,     0.15872,     0.15815,     0.15759,     0.15702,     0.15645,\n",
            "            0.15588,     0.15531,     0.15475,     0.15418,     0.15361,     0.15304,     0.15248,     0.15191,     0.15134,     0.15077,      0.1502,     0.14964,     0.14907,      0.1485,     0.14793,     0.14737,      0.1468,     0.14623,     0.14566,     0.14509,     0.14453,     0.14396,     0.14339,\n",
            "            0.14282,     0.14226,     0.14169,     0.14112,     0.14055,     0.13998,     0.13922,     0.13771,     0.13621,      0.1347,     0.13319,     0.13168,     0.13017,     0.12867,     0.12716,     0.12565,     0.12414,     0.12264,     0.12113,     0.11962,     0.11811,     0.11661,     0.11561,\n",
            "            0.11476,     0.11391,     0.11306,      0.1122,     0.11135,      0.1105,     0.10965,      0.1088,     0.10795,     0.10709,     0.10624,     0.10539,     0.10454,     0.10369,     0.10283,     0.10198,     0.10113,     0.10028,    0.099427,    0.098576,    0.097724,    0.096872,     0.09602,\n",
            "           0.095168,    0.094316,    0.093465,    0.093023,    0.093023,    0.093023,    0.093023,    0.093023,    0.093023,    0.093023,    0.093023,    0.093023,    0.093023,    0.093023,    0.092856,    0.091685,    0.090514,    0.089343,    0.088172,    0.087001,     0.08583,    0.084659,    0.083487,\n",
            "           0.082316,    0.081145,    0.079974,    0.078803,    0.077632,    0.076461,     0.07529,    0.074119,    0.072948,    0.071776,    0.070605,    0.069483,    0.068485,    0.067487,    0.066489,    0.065491,    0.064493,    0.063494,    0.062496,    0.061498,      0.0605,    0.059502,    0.058504,\n",
            "           0.057505,    0.056507,    0.055509,    0.054511,    0.053513,    0.052515,    0.051516,    0.050518,     0.04952,    0.048522,    0.047524,    0.046526,    0.046512,    0.046512,    0.046512,    0.046512,    0.046512,    0.046512,    0.046512,    0.046512,    0.046512,    0.046512,    0.046512,\n",
            "           0.045296,    0.044064,    0.042833,    0.041601,     0.04037,    0.039138,    0.037907,    0.036675,    0.035444,    0.034212,    0.032981,    0.031749,    0.030518,    0.029286,    0.028055,    0.026823,    0.025592,     0.02436,           0,           0,           0,           0,           0,\n",
            "                  0,           0,           0,           0,           0,           0,           0,           0,           0,           0,           0,           0,           0,           0,           0,           0,           0,           0,           0,           0,           0,           0,           0,\n",
            "                  0,           0,           0,           0,           0,           0,           0,           0,           0,           0,           0]]), 'Confidence', 'Recall'], [array([          0,    0.001001,    0.002002,    0.003003,    0.004004,    0.005005,    0.006006,    0.007007,    0.008008,    0.009009,     0.01001,    0.011011,    0.012012,    0.013013,    0.014014,    0.015015,    0.016016,    0.017017,    0.018018,    0.019019,     0.02002,    0.021021,    0.022022,    0.023023,\n",
            "          0.024024,    0.025025,    0.026026,    0.027027,    0.028028,    0.029029,     0.03003,    0.031031,    0.032032,    0.033033,    0.034034,    0.035035,    0.036036,    0.037037,    0.038038,    0.039039,     0.04004,    0.041041,    0.042042,    0.043043,    0.044044,    0.045045,    0.046046,    0.047047,\n",
            "          0.048048,    0.049049,     0.05005,    0.051051,    0.052052,    0.053053,    0.054054,    0.055055,    0.056056,    0.057057,    0.058058,    0.059059,     0.06006,    0.061061,    0.062062,    0.063063,    0.064064,    0.065065,    0.066066,    0.067067,    0.068068,    0.069069,     0.07007,    0.071071,\n",
            "          0.072072,    0.073073,    0.074074,    0.075075,    0.076076,    0.077077,    0.078078,    0.079079,     0.08008,    0.081081,    0.082082,    0.083083,    0.084084,    0.085085,    0.086086,    0.087087,    0.088088,    0.089089,     0.09009,    0.091091,    0.092092,    0.093093,    0.094094,    0.095095,\n",
            "          0.096096,    0.097097,    0.098098,    0.099099,      0.1001,      0.1011,      0.1021,      0.1031,      0.1041,     0.10511,     0.10611,     0.10711,     0.10811,     0.10911,     0.11011,     0.11111,     0.11211,     0.11311,     0.11411,     0.11512,     0.11612,     0.11712,     0.11812,     0.11912,\n",
            "           0.12012,     0.12112,     0.12212,     0.12312,     0.12412,     0.12513,     0.12613,     0.12713,     0.12813,     0.12913,     0.13013,     0.13113,     0.13213,     0.13313,     0.13413,     0.13514,     0.13614,     0.13714,     0.13814,     0.13914,     0.14014,     0.14114,     0.14214,     0.14314,\n",
            "           0.14414,     0.14515,     0.14615,     0.14715,     0.14815,     0.14915,     0.15015,     0.15115,     0.15215,     0.15315,     0.15415,     0.15516,     0.15616,     0.15716,     0.15816,     0.15916,     0.16016,     0.16116,     0.16216,     0.16316,     0.16416,     0.16517,     0.16617,     0.16717,\n",
            "           0.16817,     0.16917,     0.17017,     0.17117,     0.17217,     0.17317,     0.17417,     0.17518,     0.17618,     0.17718,     0.17818,     0.17918,     0.18018,     0.18118,     0.18218,     0.18318,     0.18418,     0.18519,     0.18619,     0.18719,     0.18819,     0.18919,     0.19019,     0.19119,\n",
            "           0.19219,     0.19319,     0.19419,      0.1952,      0.1962,      0.1972,      0.1982,      0.1992,      0.2002,      0.2012,      0.2022,      0.2032,      0.2042,     0.20521,     0.20621,     0.20721,     0.20821,     0.20921,     0.21021,     0.21121,     0.21221,     0.21321,     0.21421,     0.21522,\n",
            "           0.21622,     0.21722,     0.21822,     0.21922,     0.22022,     0.22122,     0.22222,     0.22322,     0.22422,     0.22523,     0.22623,     0.22723,     0.22823,     0.22923,     0.23023,     0.23123,     0.23223,     0.23323,     0.23423,     0.23524,     0.23624,     0.23724,     0.23824,     0.23924,\n",
            "           0.24024,     0.24124,     0.24224,     0.24324,     0.24424,     0.24525,     0.24625,     0.24725,     0.24825,     0.24925,     0.25025,     0.25125,     0.25225,     0.25325,     0.25425,     0.25526,     0.25626,     0.25726,     0.25826,     0.25926,     0.26026,     0.26126,     0.26226,     0.26326,\n",
            "           0.26426,     0.26527,     0.26627,     0.26727,     0.26827,     0.26927,     0.27027,     0.27127,     0.27227,     0.27327,     0.27427,     0.27528,     0.27628,     0.27728,     0.27828,     0.27928,     0.28028,     0.28128,     0.28228,     0.28328,     0.28428,     0.28529,     0.28629,     0.28729,\n",
            "           0.28829,     0.28929,     0.29029,     0.29129,     0.29229,     0.29329,     0.29429,      0.2953,      0.2963,      0.2973,      0.2983,      0.2993,      0.3003,      0.3013,      0.3023,      0.3033,      0.3043,     0.30531,     0.30631,     0.30731,     0.30831,     0.30931,     0.31031,     0.31131,\n",
            "           0.31231,     0.31331,     0.31431,     0.31532,     0.31632,     0.31732,     0.31832,     0.31932,     0.32032,     0.32132,     0.32232,     0.32332,     0.32432,     0.32533,     0.32633,     0.32733,     0.32833,     0.32933,     0.33033,     0.33133,     0.33233,     0.33333,     0.33433,     0.33534,\n",
            "           0.33634,     0.33734,     0.33834,     0.33934,     0.34034,     0.34134,     0.34234,     0.34334,     0.34434,     0.34535,     0.34635,     0.34735,     0.34835,     0.34935,     0.35035,     0.35135,     0.35235,     0.35335,     0.35435,     0.35536,     0.35636,     0.35736,     0.35836,     0.35936,\n",
            "           0.36036,     0.36136,     0.36236,     0.36336,     0.36436,     0.36537,     0.36637,     0.36737,     0.36837,     0.36937,     0.37037,     0.37137,     0.37237,     0.37337,     0.37437,     0.37538,     0.37638,     0.37738,     0.37838,     0.37938,     0.38038,     0.38138,     0.38238,     0.38338,\n",
            "           0.38438,     0.38539,     0.38639,     0.38739,     0.38839,     0.38939,     0.39039,     0.39139,     0.39239,     0.39339,     0.39439,      0.3954,      0.3964,      0.3974,      0.3984,      0.3994,      0.4004,      0.4014,      0.4024,      0.4034,      0.4044,     0.40541,     0.40641,     0.40741,\n",
            "           0.40841,     0.40941,     0.41041,     0.41141,     0.41241,     0.41341,     0.41441,     0.41542,     0.41642,     0.41742,     0.41842,     0.41942,     0.42042,     0.42142,     0.42242,     0.42342,     0.42442,     0.42543,     0.42643,     0.42743,     0.42843,     0.42943,     0.43043,     0.43143,\n",
            "           0.43243,     0.43343,     0.43443,     0.43544,     0.43644,     0.43744,     0.43844,     0.43944,     0.44044,     0.44144,     0.44244,     0.44344,     0.44444,     0.44545,     0.44645,     0.44745,     0.44845,     0.44945,     0.45045,     0.45145,     0.45245,     0.45345,     0.45445,     0.45546,\n",
            "           0.45646,     0.45746,     0.45846,     0.45946,     0.46046,     0.46146,     0.46246,     0.46346,     0.46446,     0.46547,     0.46647,     0.46747,     0.46847,     0.46947,     0.47047,     0.47147,     0.47247,     0.47347,     0.47447,     0.47548,     0.47648,     0.47748,     0.47848,     0.47948,\n",
            "           0.48048,     0.48148,     0.48248,     0.48348,     0.48448,     0.48549,     0.48649,     0.48749,     0.48849,     0.48949,     0.49049,     0.49149,     0.49249,     0.49349,     0.49449,      0.4955,      0.4965,      0.4975,      0.4985,      0.4995,      0.5005,      0.5015,      0.5025,      0.5035,\n",
            "            0.5045,     0.50551,     0.50651,     0.50751,     0.50851,     0.50951,     0.51051,     0.51151,     0.51251,     0.51351,     0.51451,     0.51552,     0.51652,     0.51752,     0.51852,     0.51952,     0.52052,     0.52152,     0.52252,     0.52352,     0.52452,     0.52553,     0.52653,     0.52753,\n",
            "           0.52853,     0.52953,     0.53053,     0.53153,     0.53253,     0.53353,     0.53453,     0.53554,     0.53654,     0.53754,     0.53854,     0.53954,     0.54054,     0.54154,     0.54254,     0.54354,     0.54454,     0.54555,     0.54655,     0.54755,     0.54855,     0.54955,     0.55055,     0.55155,\n",
            "           0.55255,     0.55355,     0.55455,     0.55556,     0.55656,     0.55756,     0.55856,     0.55956,     0.56056,     0.56156,     0.56256,     0.56356,     0.56456,     0.56557,     0.56657,     0.56757,     0.56857,     0.56957,     0.57057,     0.57157,     0.57257,     0.57357,     0.57457,     0.57558,\n",
            "           0.57658,     0.57758,     0.57858,     0.57958,     0.58058,     0.58158,     0.58258,     0.58358,     0.58458,     0.58559,     0.58659,     0.58759,     0.58859,     0.58959,     0.59059,     0.59159,     0.59259,     0.59359,     0.59459,      0.5956,      0.5966,      0.5976,      0.5986,      0.5996,\n",
            "            0.6006,      0.6016,      0.6026,      0.6036,      0.6046,     0.60561,     0.60661,     0.60761,     0.60861,     0.60961,     0.61061,     0.61161,     0.61261,     0.61361,     0.61461,     0.61562,     0.61662,     0.61762,     0.61862,     0.61962,     0.62062,     0.62162,     0.62262,     0.62362,\n",
            "           0.62462,     0.62563,     0.62663,     0.62763,     0.62863,     0.62963,     0.63063,     0.63163,     0.63263,     0.63363,     0.63463,     0.63564,     0.63664,     0.63764,     0.63864,     0.63964,     0.64064,     0.64164,     0.64264,     0.64364,     0.64464,     0.64565,     0.64665,     0.64765,\n",
            "           0.64865,     0.64965,     0.65065,     0.65165,     0.65265,     0.65365,     0.65465,     0.65566,     0.65666,     0.65766,     0.65866,     0.65966,     0.66066,     0.66166,     0.66266,     0.66366,     0.66466,     0.66567,     0.66667,     0.66767,     0.66867,     0.66967,     0.67067,     0.67167,\n",
            "           0.67267,     0.67367,     0.67467,     0.67568,     0.67668,     0.67768,     0.67868,     0.67968,     0.68068,     0.68168,     0.68268,     0.68368,     0.68468,     0.68569,     0.68669,     0.68769,     0.68869,     0.68969,     0.69069,     0.69169,     0.69269,     0.69369,     0.69469,      0.6957,\n",
            "            0.6967,      0.6977,      0.6987,      0.6997,      0.7007,      0.7017,      0.7027,      0.7037,      0.7047,     0.70571,     0.70671,     0.70771,     0.70871,     0.70971,     0.71071,     0.71171,     0.71271,     0.71371,     0.71471,     0.71572,     0.71672,     0.71772,     0.71872,     0.71972,\n",
            "           0.72072,     0.72172,     0.72272,     0.72372,     0.72472,     0.72573,     0.72673,     0.72773,     0.72873,     0.72973,     0.73073,     0.73173,     0.73273,     0.73373,     0.73473,     0.73574,     0.73674,     0.73774,     0.73874,     0.73974,     0.74074,     0.74174,     0.74274,     0.74374,\n",
            "           0.74474,     0.74575,     0.74675,     0.74775,     0.74875,     0.74975,     0.75075,     0.75175,     0.75275,     0.75375,     0.75475,     0.75576,     0.75676,     0.75776,     0.75876,     0.75976,     0.76076,     0.76176,     0.76276,     0.76376,     0.76476,     0.76577,     0.76677,     0.76777,\n",
            "           0.76877,     0.76977,     0.77077,     0.77177,     0.77277,     0.77377,     0.77477,     0.77578,     0.77678,     0.77778,     0.77878,     0.77978,     0.78078,     0.78178,     0.78278,     0.78378,     0.78478,     0.78579,     0.78679,     0.78779,     0.78879,     0.78979,     0.79079,     0.79179,\n",
            "           0.79279,     0.79379,     0.79479,      0.7958,      0.7968,      0.7978,      0.7988,      0.7998,      0.8008,      0.8018,      0.8028,      0.8038,      0.8048,     0.80581,     0.80681,     0.80781,     0.80881,     0.80981,     0.81081,     0.81181,     0.81281,     0.81381,     0.81481,     0.81582,\n",
            "           0.81682,     0.81782,     0.81882,     0.81982,     0.82082,     0.82182,     0.82282,     0.82382,     0.82482,     0.82583,     0.82683,     0.82783,     0.82883,     0.82983,     0.83083,     0.83183,     0.83283,     0.83383,     0.83483,     0.83584,     0.83684,     0.83784,     0.83884,     0.83984,\n",
            "           0.84084,     0.84184,     0.84284,     0.84384,     0.84484,     0.84585,     0.84685,     0.84785,     0.84885,     0.84985,     0.85085,     0.85185,     0.85285,     0.85385,     0.85485,     0.85586,     0.85686,     0.85786,     0.85886,     0.85986,     0.86086,     0.86186,     0.86286,     0.86386,\n",
            "           0.86486,     0.86587,     0.86687,     0.86787,     0.86887,     0.86987,     0.87087,     0.87187,     0.87287,     0.87387,     0.87487,     0.87588,     0.87688,     0.87788,     0.87888,     0.87988,     0.88088,     0.88188,     0.88288,     0.88388,     0.88488,     0.88589,     0.88689,     0.88789,\n",
            "           0.88889,     0.88989,     0.89089,     0.89189,     0.89289,     0.89389,     0.89489,      0.8959,      0.8969,      0.8979,      0.8989,      0.8999,      0.9009,      0.9019,      0.9029,      0.9039,      0.9049,     0.90591,     0.90691,     0.90791,     0.90891,     0.90991,     0.91091,     0.91191,\n",
            "           0.91291,     0.91391,     0.91491,     0.91592,     0.91692,     0.91792,     0.91892,     0.91992,     0.92092,     0.92192,     0.92292,     0.92392,     0.92492,     0.92593,     0.92693,     0.92793,     0.92893,     0.92993,     0.93093,     0.93193,     0.93293,     0.93393,     0.93493,     0.93594,\n",
            "           0.93694,     0.93794,     0.93894,     0.93994,     0.94094,     0.94194,     0.94294,     0.94394,     0.94494,     0.94595,     0.94695,     0.94795,     0.94895,     0.94995,     0.95095,     0.95195,     0.95295,     0.95395,     0.95495,     0.95596,     0.95696,     0.95796,     0.95896,     0.95996,\n",
            "           0.96096,     0.96196,     0.96296,     0.96396,     0.96496,     0.96597,     0.96697,     0.96797,     0.96897,     0.96997,     0.97097,     0.97197,     0.97297,     0.97397,     0.97497,     0.97598,     0.97698,     0.97798,     0.97898,     0.97998,     0.98098,     0.98198,     0.98298,     0.98398,\n",
            "           0.98498,     0.98599,     0.98699,     0.98799,     0.98899,     0.98999,     0.99099,     0.99199,     0.99299,     0.99399,     0.99499,       0.996,       0.997,       0.998,       0.999,           1]), array([[          1,           1,           1,           1,           1,           1,           1,           1,           1,           1,           1,           1,           1,           1,           1,           1,           1,           1,           1,           1,           1,           1,           1,\n",
            "                  1,           1,           1,           1,           1,           1,           1,           1,           1,           1,           1,           1,           1,           1,           1,           1,           1,           1,           1,           1,           1,           1,           1,\n",
            "                  1,         0.8,         0.8,         0.8,         0.8,         0.8,         0.8,         0.8,         0.8,         0.8,         0.8,         0.8,         0.8,         0.8,         0.8,         0.8,         0.8,         0.8,         0.8,         0.8,         0.8,         0.8,         0.8,\n",
            "                0.8,         0.8,         0.8,         0.8,         0.8,         0.8,         0.8,         0.8,         0.8,         0.8,         0.8,         0.8,         0.8,         0.8,         0.8,         0.8,         0.8,         0.8,         0.8,         0.8,         0.8,         0.8,         0.8,\n",
            "                0.8,         0.8,         0.8,         0.8,         0.8,         0.8,         0.8,         0.8,         0.8,         0.8,         0.8,         0.8,         0.8,         0.8,         0.8,         0.8,         0.8,         0.8,         0.8,         0.8,         0.8,         0.8,         0.8,\n",
            "                0.8,         0.8,         0.8,         0.8,         0.8,         0.8,         0.8,         0.8,         0.8,         0.8,         0.8,         0.8,         0.8,         0.8,         0.8,         0.8,         0.8,         0.8,         0.8,         0.8,         0.8,         0.8,         0.8,\n",
            "                0.8,         0.8,         0.8,         0.8,         0.8,         0.8,         0.8,         0.8,         0.8,         0.8,         0.8,         0.8,         0.8,         0.8,         0.8,         0.8,         0.8,         0.8,         0.8,         0.8,         0.8,         0.8,         0.8,\n",
            "                0.8,         0.8,         0.8,         0.8,         0.8,         0.8,         0.8,         0.8,         0.8,         0.8,         0.8,         0.8,         0.8,         0.8,         0.8,         0.8,         0.8,         0.8,         0.8,         0.8,         0.8,         0.8,         0.8,\n",
            "                0.8,         0.8,        0.75,        0.75,        0.75,        0.75,        0.75,        0.75,        0.75,        0.75,        0.75,        0.75,        0.75,        0.75,        0.75,        0.75,        0.75,        0.75,        0.75,        0.75,        0.75,        0.75,        0.75,\n",
            "               0.75,        0.75,        0.75,        0.75,        0.75,        0.75,        0.75,        0.75,        0.75,        0.75,        0.75,        0.75,        0.75,        0.75,        0.75,        0.75,        0.75,        0.75,        0.75,        0.75,        0.75,        0.75,        0.75,\n",
            "               0.75,        0.75,        0.75,        0.75,        0.75,        0.75,        0.75,        0.75,        0.75,        0.75,        0.75,        0.75,        0.75,        0.75,        0.75,        0.75,        0.75,        0.75,        0.75,        0.75,        0.75,        0.75,        0.75,\n",
            "               0.75,        0.75,        0.75,        0.75,        0.75,        0.75,        0.75,        0.75,        0.75,        0.75,        0.75,        0.75,        0.75,        0.75,        0.75,        0.75,        0.75,        0.75,        0.75,        0.75,        0.75,        0.75,        0.75,\n",
            "               0.75,        0.75,        0.75,     0.73684,     0.73684,     0.73684,     0.73684,     0.73684,     0.73684,     0.73684,     0.73684,     0.73684,     0.73684,     0.73684,     0.73684,     0.73684,     0.73684,     0.73684,     0.73684,     0.73684,     0.73684,     0.73684,     0.73684,\n",
            "            0.73684,     0.73684,     0.73684,     0.73684,     0.73684,     0.73684,     0.73684,     0.73684,     0.73684,     0.73684,     0.73684,     0.73684,     0.73684,     0.73684,     0.73684,     0.73684,     0.73684,     0.73684,     0.73684,     0.73684,     0.73684,     0.73684,     0.73684,\n",
            "            0.73684,     0.73684,     0.73684,     0.73684,     0.57143,     0.57143,     0.57143,     0.57143,     0.57143,     0.57143,     0.57143,     0.57143,     0.57143,     0.57143,     0.57143,     0.57143,     0.57143,     0.57143,     0.57143,     0.57143,     0.57143,     0.57143,     0.57143,\n",
            "            0.57143,     0.57143,     0.57143,     0.57143,     0.57143,     0.57143,     0.57143,     0.57143,     0.57143,     0.57143,     0.57143,     0.57143,     0.57143,     0.57143,     0.57143,     0.57143,     0.57143,     0.57143,     0.57143,     0.57143,     0.57143,     0.57143,     0.57143,\n",
            "            0.57143,     0.57143,     0.57143,     0.57143,     0.56667,     0.56667,     0.56667,     0.56667,     0.56667,     0.56667,     0.56667,     0.56667,     0.56667,     0.56667,     0.56667,     0.56667,     0.56667,     0.56667,     0.56667,     0.56667,     0.56667,     0.56667,     0.56667,\n",
            "            0.56667,     0.56667,     0.56667,     0.56667,     0.47368,     0.47368,     0.47368,     0.47368,     0.47368,     0.47368,     0.47368,     0.47368,     0.47368,     0.47368,     0.47368,     0.47368,     0.47368,     0.47368,     0.47368,     0.47368,     0.47368,     0.47368,     0.47368,\n",
            "            0.47368,     0.47368,     0.47368,     0.47368,     0.47368,     0.45455,     0.45455,     0.45455,     0.45455,     0.45455,     0.45455,     0.45455,     0.45455,     0.45455,     0.45455,     0.45455,     0.45455,     0.45455,     0.45455,     0.45455,     0.45455,     0.45455,     0.45455,\n",
            "            0.45455,     0.45455,     0.45455,     0.45455,     0.45455,     0.45455,     0.45455,     0.45455,     0.45455,     0.45455,     0.45455,     0.45455,     0.45455,     0.45455,     0.45455,     0.45455,     0.45455,     0.45455,     0.45455,     0.45455,     0.45455,     0.45455,     0.45455,\n",
            "            0.45455,     0.45455,     0.45455,     0.45455,     0.45455,      0.4375,      0.4375,      0.4375,      0.4375,      0.4375,      0.4375,      0.4375,      0.4375,      0.4375,      0.4375,      0.4375,      0.4375,      0.4375,      0.4375,      0.4375,      0.4375,      0.4375,      0.4375,\n",
            "             0.4375,      0.4375,      0.4375,      0.4375,      0.4375,     0.40741,     0.40741,     0.40741,     0.40741,     0.40741,     0.40741,     0.40741,     0.40741,     0.40741,     0.40741,     0.40741,     0.40741,     0.40741,     0.40741,     0.40741,     0.40741,     0.40741,     0.40741,\n",
            "            0.40741,     0.40741,     0.40741,     0.40741,     0.40741,     0.40741,     0.37097,     0.37097,     0.37097,     0.37097,     0.37097,     0.37097,     0.37097,     0.37097,     0.37097,     0.37097,     0.37097,     0.37097,     0.37097,     0.37097,     0.37097,     0.37097,     0.37097,\n",
            "            0.37097,     0.37097,     0.37097,     0.37097,     0.37097,     0.37097,     0.28571,     0.28571,     0.28571,     0.28571,     0.28571,     0.28571,     0.28571,     0.28571,     0.28571,     0.28571,     0.28571,     0.28571,     0.28571,     0.28571,     0.28571,     0.28571,     0.28571,\n",
            "            0.28571,     0.28571,     0.28571,     0.28571,     0.28571,     0.28571,      0.2809,      0.2809,      0.2809,      0.2809,      0.2809,      0.2809,      0.2809,      0.2809,      0.2809,      0.2809,      0.2809,      0.2809,      0.2809,      0.2809,      0.2809,      0.2809,      0.2809,\n",
            "             0.2809,      0.2809,      0.2809,      0.2809,      0.2809,      0.2809,     0.24299,     0.24299,     0.24299,     0.24299,     0.24299,     0.24299,     0.24299,     0.24299,     0.24299,     0.24299,     0.24299,     0.24299,     0.24299,     0.24299,     0.24299,     0.24299,     0.24299,\n",
            "            0.24299,     0.24299,     0.24299,     0.24299,     0.24299,     0.24299,     0.24299,     0.14211,     0.14211,     0.14211,     0.14211,     0.14211,     0.14211,     0.14211,     0.14211,     0.14211,     0.14211,     0.14211,     0.14211,     0.14211,     0.14211,     0.14211,     0.14211,\n",
            "            0.14211,     0.14211,     0.14211,     0.14211,     0.14211,     0.14211,     0.14211,    0.098709,    0.098443,    0.098177,    0.097911,    0.097645,    0.097379,    0.097113,    0.096847,    0.096581,    0.096315,    0.096049,    0.095783,    0.095517,     0.09525,    0.094984,    0.094718,\n",
            "           0.094452,    0.094186,     0.09392,    0.093654,    0.093388,    0.093122,    0.092856,     0.09259,    0.092324,    0.092058,    0.091792,    0.091526,     0.09126,    0.090993,    0.090727,    0.090461,    0.090195,    0.089929,    0.089663,    0.089397,    0.089131,    0.088865,    0.088599,\n",
            "           0.088333,    0.088067,    0.087801,    0.087535,    0.087269,    0.087003,    0.086736,     0.08647,    0.086204,    0.085938,    0.085672,    0.085406,     0.08514,    0.084874,    0.084608,    0.084342,    0.084076,     0.08381,    0.083544,    0.083278,    0.083012,    0.082746,    0.082479,\n",
            "           0.082213,    0.081947,    0.081681,    0.081415,    0.081149,    0.080883,    0.080617,    0.080351,    0.080085,    0.079819,    0.079553,    0.079287,    0.079021,    0.078755,    0.078489,    0.078222,    0.077956,     0.07769,    0.077424,    0.077158,    0.076892,    0.076626,     0.07636,\n",
            "           0.076094,    0.075828,    0.075562,    0.075296,     0.07503,    0.074764,    0.074498,    0.074232,    0.073965,    0.073699,    0.073433,    0.073167,    0.072901,    0.072635,    0.072369,    0.072103,    0.071837,    0.071571,    0.071305,    0.071039,    0.070773,    0.070507,    0.070241,\n",
            "           0.069975,    0.069708,    0.069442,    0.069176,     0.06891,    0.068644,    0.068378,    0.068112,    0.067846,     0.06758,    0.067314,    0.067048,    0.066782,    0.066516,     0.06625,    0.065984,    0.065718,    0.065451,    0.065185,    0.064919,    0.064653,    0.064387,    0.064121,\n",
            "           0.063855,    0.063589,    0.063323,    0.063057,    0.062791,    0.062525,    0.062259,    0.061993,    0.061727,     0.06146,    0.061194,    0.060928,    0.060662,    0.060396,     0.06013,    0.059864,    0.059598,    0.059332,    0.059066,      0.0588,    0.058534,    0.058268,    0.058002,\n",
            "           0.057736,     0.05747,    0.057203,    0.056937,    0.056671,    0.056405,    0.056139,    0.055873,    0.055607,    0.055341,    0.055075,    0.054809,    0.054543,    0.054277,    0.054011,    0.053745,    0.053479,    0.053213,    0.052946,     0.05268,    0.052414,    0.052148,    0.051882,\n",
            "           0.051616,     0.05135,    0.051084,    0.050818,    0.050552,    0.050286,     0.05002,    0.049754,    0.049488,    0.049222,    0.048956,    0.048689,    0.048423,    0.048157,    0.047891,    0.047625,    0.047359,    0.047093,    0.046827,    0.046561,    0.046295,    0.046029,    0.045763,\n",
            "           0.045497,    0.045231,    0.044965,    0.044699,    0.044432,    0.044166,      0.0439,    0.043634,    0.043368,    0.043102,    0.042836,     0.04257,    0.042304,    0.042038,    0.041772,    0.041506,     0.04124,    0.040974,    0.040708,    0.040442,    0.040175,    0.039909,    0.039643,\n",
            "           0.039377,    0.039111,    0.038845,    0.038579,    0.038313,    0.038047,    0.037781,    0.037515,    0.037249,    0.036983,    0.036717,    0.036451,    0.036185,    0.035918,    0.035652,    0.035386,     0.03512,    0.034854,    0.034588,    0.034322,    0.034056,     0.03379,    0.033524,\n",
            "           0.033258,    0.032992,    0.032726,     0.03246,    0.032194,    0.031928,    0.031661,    0.031395,    0.031129,    0.030863,    0.030597,    0.030331,    0.030065,    0.029799,    0.029533,    0.029267,    0.029001,    0.028735,    0.028469,    0.028203,    0.027937,    0.027671,    0.027404,\n",
            "           0.027138,    0.026872,    0.026606,     0.02634,    0.026074,    0.025808,    0.025542,    0.025276,     0.02501,    0.024744,    0.024478,    0.024212,    0.023946,     0.02368,    0.023414,    0.023147,    0.022881,    0.022615,    0.022349,    0.022083,    0.021817,    0.021551,    0.021285,\n",
            "           0.021019,    0.020753,    0.020487,    0.020221,    0.019955,    0.019689,    0.019423,    0.019157,     0.01889,    0.018624,    0.018358,    0.018092,    0.017826,     0.01756,    0.017294,    0.017028,    0.016762,    0.016496,     0.01623,    0.015964,    0.015698,    0.015432,    0.015166,\n",
            "             0.0149,    0.014633,    0.014367,    0.014101,    0.013835,    0.013569,    0.013303,    0.013037,    0.012771,    0.012505,    0.012239,    0.011973,    0.011707,    0.011441,    0.011175,    0.010909,    0.010643,    0.010376,     0.01011,   0.0098443,   0.0095783,   0.0093122,   0.0090461,\n",
            "          0.0087801,    0.008514,   0.0082479,   0.0079819,   0.0077158,   0.0074498,   0.0071837,   0.0069176,   0.0066516,   0.0063855,   0.0061194,   0.0058534,   0.0055873,   0.0053213,   0.0050552,   0.0047891,   0.0045231,    0.004257,   0.0039909,   0.0037249,   0.0034588,   0.0031928,   0.0029267,\n",
            "          0.0026606,   0.0023946,   0.0021285,   0.0018624,   0.0015964,   0.0013303,   0.0010643,  0.00079819,  0.00053213,  0.00026606,           0]]), 'Recall', 'Precision'], [array([          0,    0.001001,    0.002002,    0.003003,    0.004004,    0.005005,    0.006006,    0.007007,    0.008008,    0.009009,     0.01001,    0.011011,    0.012012,    0.013013,    0.014014,    0.015015,    0.016016,    0.017017,    0.018018,    0.019019,     0.02002,    0.021021,    0.022022,    0.023023,\n",
            "          0.024024,    0.025025,    0.026026,    0.027027,    0.028028,    0.029029,     0.03003,    0.031031,    0.032032,    0.033033,    0.034034,    0.035035,    0.036036,    0.037037,    0.038038,    0.039039,     0.04004,    0.041041,    0.042042,    0.043043,    0.044044,    0.045045,    0.046046,    0.047047,\n",
            "          0.048048,    0.049049,     0.05005,    0.051051,    0.052052,    0.053053,    0.054054,    0.055055,    0.056056,    0.057057,    0.058058,    0.059059,     0.06006,    0.061061,    0.062062,    0.063063,    0.064064,    0.065065,    0.066066,    0.067067,    0.068068,    0.069069,     0.07007,    0.071071,\n",
            "          0.072072,    0.073073,    0.074074,    0.075075,    0.076076,    0.077077,    0.078078,    0.079079,     0.08008,    0.081081,    0.082082,    0.083083,    0.084084,    0.085085,    0.086086,    0.087087,    0.088088,    0.089089,     0.09009,    0.091091,    0.092092,    0.093093,    0.094094,    0.095095,\n",
            "          0.096096,    0.097097,    0.098098,    0.099099,      0.1001,      0.1011,      0.1021,      0.1031,      0.1041,     0.10511,     0.10611,     0.10711,     0.10811,     0.10911,     0.11011,     0.11111,     0.11211,     0.11311,     0.11411,     0.11512,     0.11612,     0.11712,     0.11812,     0.11912,\n",
            "           0.12012,     0.12112,     0.12212,     0.12312,     0.12412,     0.12513,     0.12613,     0.12713,     0.12813,     0.12913,     0.13013,     0.13113,     0.13213,     0.13313,     0.13413,     0.13514,     0.13614,     0.13714,     0.13814,     0.13914,     0.14014,     0.14114,     0.14214,     0.14314,\n",
            "           0.14414,     0.14515,     0.14615,     0.14715,     0.14815,     0.14915,     0.15015,     0.15115,     0.15215,     0.15315,     0.15415,     0.15516,     0.15616,     0.15716,     0.15816,     0.15916,     0.16016,     0.16116,     0.16216,     0.16316,     0.16416,     0.16517,     0.16617,     0.16717,\n",
            "           0.16817,     0.16917,     0.17017,     0.17117,     0.17217,     0.17317,     0.17417,     0.17518,     0.17618,     0.17718,     0.17818,     0.17918,     0.18018,     0.18118,     0.18218,     0.18318,     0.18418,     0.18519,     0.18619,     0.18719,     0.18819,     0.18919,     0.19019,     0.19119,\n",
            "           0.19219,     0.19319,     0.19419,      0.1952,      0.1962,      0.1972,      0.1982,      0.1992,      0.2002,      0.2012,      0.2022,      0.2032,      0.2042,     0.20521,     0.20621,     0.20721,     0.20821,     0.20921,     0.21021,     0.21121,     0.21221,     0.21321,     0.21421,     0.21522,\n",
            "           0.21622,     0.21722,     0.21822,     0.21922,     0.22022,     0.22122,     0.22222,     0.22322,     0.22422,     0.22523,     0.22623,     0.22723,     0.22823,     0.22923,     0.23023,     0.23123,     0.23223,     0.23323,     0.23423,     0.23524,     0.23624,     0.23724,     0.23824,     0.23924,\n",
            "           0.24024,     0.24124,     0.24224,     0.24324,     0.24424,     0.24525,     0.24625,     0.24725,     0.24825,     0.24925,     0.25025,     0.25125,     0.25225,     0.25325,     0.25425,     0.25526,     0.25626,     0.25726,     0.25826,     0.25926,     0.26026,     0.26126,     0.26226,     0.26326,\n",
            "           0.26426,     0.26527,     0.26627,     0.26727,     0.26827,     0.26927,     0.27027,     0.27127,     0.27227,     0.27327,     0.27427,     0.27528,     0.27628,     0.27728,     0.27828,     0.27928,     0.28028,     0.28128,     0.28228,     0.28328,     0.28428,     0.28529,     0.28629,     0.28729,\n",
            "           0.28829,     0.28929,     0.29029,     0.29129,     0.29229,     0.29329,     0.29429,      0.2953,      0.2963,      0.2973,      0.2983,      0.2993,      0.3003,      0.3013,      0.3023,      0.3033,      0.3043,     0.30531,     0.30631,     0.30731,     0.30831,     0.30931,     0.31031,     0.31131,\n",
            "           0.31231,     0.31331,     0.31431,     0.31532,     0.31632,     0.31732,     0.31832,     0.31932,     0.32032,     0.32132,     0.32232,     0.32332,     0.32432,     0.32533,     0.32633,     0.32733,     0.32833,     0.32933,     0.33033,     0.33133,     0.33233,     0.33333,     0.33433,     0.33534,\n",
            "           0.33634,     0.33734,     0.33834,     0.33934,     0.34034,     0.34134,     0.34234,     0.34334,     0.34434,     0.34535,     0.34635,     0.34735,     0.34835,     0.34935,     0.35035,     0.35135,     0.35235,     0.35335,     0.35435,     0.35536,     0.35636,     0.35736,     0.35836,     0.35936,\n",
            "           0.36036,     0.36136,     0.36236,     0.36336,     0.36436,     0.36537,     0.36637,     0.36737,     0.36837,     0.36937,     0.37037,     0.37137,     0.37237,     0.37337,     0.37437,     0.37538,     0.37638,     0.37738,     0.37838,     0.37938,     0.38038,     0.38138,     0.38238,     0.38338,\n",
            "           0.38438,     0.38539,     0.38639,     0.38739,     0.38839,     0.38939,     0.39039,     0.39139,     0.39239,     0.39339,     0.39439,      0.3954,      0.3964,      0.3974,      0.3984,      0.3994,      0.4004,      0.4014,      0.4024,      0.4034,      0.4044,     0.40541,     0.40641,     0.40741,\n",
            "           0.40841,     0.40941,     0.41041,     0.41141,     0.41241,     0.41341,     0.41441,     0.41542,     0.41642,     0.41742,     0.41842,     0.41942,     0.42042,     0.42142,     0.42242,     0.42342,     0.42442,     0.42543,     0.42643,     0.42743,     0.42843,     0.42943,     0.43043,     0.43143,\n",
            "           0.43243,     0.43343,     0.43443,     0.43544,     0.43644,     0.43744,     0.43844,     0.43944,     0.44044,     0.44144,     0.44244,     0.44344,     0.44444,     0.44545,     0.44645,     0.44745,     0.44845,     0.44945,     0.45045,     0.45145,     0.45245,     0.45345,     0.45445,     0.45546,\n",
            "           0.45646,     0.45746,     0.45846,     0.45946,     0.46046,     0.46146,     0.46246,     0.46346,     0.46446,     0.46547,     0.46647,     0.46747,     0.46847,     0.46947,     0.47047,     0.47147,     0.47247,     0.47347,     0.47447,     0.47548,     0.47648,     0.47748,     0.47848,     0.47948,\n",
            "           0.48048,     0.48148,     0.48248,     0.48348,     0.48448,     0.48549,     0.48649,     0.48749,     0.48849,     0.48949,     0.49049,     0.49149,     0.49249,     0.49349,     0.49449,      0.4955,      0.4965,      0.4975,      0.4985,      0.4995,      0.5005,      0.5015,      0.5025,      0.5035,\n",
            "            0.5045,     0.50551,     0.50651,     0.50751,     0.50851,     0.50951,     0.51051,     0.51151,     0.51251,     0.51351,     0.51451,     0.51552,     0.51652,     0.51752,     0.51852,     0.51952,     0.52052,     0.52152,     0.52252,     0.52352,     0.52452,     0.52553,     0.52653,     0.52753,\n",
            "           0.52853,     0.52953,     0.53053,     0.53153,     0.53253,     0.53353,     0.53453,     0.53554,     0.53654,     0.53754,     0.53854,     0.53954,     0.54054,     0.54154,     0.54254,     0.54354,     0.54454,     0.54555,     0.54655,     0.54755,     0.54855,     0.54955,     0.55055,     0.55155,\n",
            "           0.55255,     0.55355,     0.55455,     0.55556,     0.55656,     0.55756,     0.55856,     0.55956,     0.56056,     0.56156,     0.56256,     0.56356,     0.56456,     0.56557,     0.56657,     0.56757,     0.56857,     0.56957,     0.57057,     0.57157,     0.57257,     0.57357,     0.57457,     0.57558,\n",
            "           0.57658,     0.57758,     0.57858,     0.57958,     0.58058,     0.58158,     0.58258,     0.58358,     0.58458,     0.58559,     0.58659,     0.58759,     0.58859,     0.58959,     0.59059,     0.59159,     0.59259,     0.59359,     0.59459,      0.5956,      0.5966,      0.5976,      0.5986,      0.5996,\n",
            "            0.6006,      0.6016,      0.6026,      0.6036,      0.6046,     0.60561,     0.60661,     0.60761,     0.60861,     0.60961,     0.61061,     0.61161,     0.61261,     0.61361,     0.61461,     0.61562,     0.61662,     0.61762,     0.61862,     0.61962,     0.62062,     0.62162,     0.62262,     0.62362,\n",
            "           0.62462,     0.62563,     0.62663,     0.62763,     0.62863,     0.62963,     0.63063,     0.63163,     0.63263,     0.63363,     0.63463,     0.63564,     0.63664,     0.63764,     0.63864,     0.63964,     0.64064,     0.64164,     0.64264,     0.64364,     0.64464,     0.64565,     0.64665,     0.64765,\n",
            "           0.64865,     0.64965,     0.65065,     0.65165,     0.65265,     0.65365,     0.65465,     0.65566,     0.65666,     0.65766,     0.65866,     0.65966,     0.66066,     0.66166,     0.66266,     0.66366,     0.66466,     0.66567,     0.66667,     0.66767,     0.66867,     0.66967,     0.67067,     0.67167,\n",
            "           0.67267,     0.67367,     0.67467,     0.67568,     0.67668,     0.67768,     0.67868,     0.67968,     0.68068,     0.68168,     0.68268,     0.68368,     0.68468,     0.68569,     0.68669,     0.68769,     0.68869,     0.68969,     0.69069,     0.69169,     0.69269,     0.69369,     0.69469,      0.6957,\n",
            "            0.6967,      0.6977,      0.6987,      0.6997,      0.7007,      0.7017,      0.7027,      0.7037,      0.7047,     0.70571,     0.70671,     0.70771,     0.70871,     0.70971,     0.71071,     0.71171,     0.71271,     0.71371,     0.71471,     0.71572,     0.71672,     0.71772,     0.71872,     0.71972,\n",
            "           0.72072,     0.72172,     0.72272,     0.72372,     0.72472,     0.72573,     0.72673,     0.72773,     0.72873,     0.72973,     0.73073,     0.73173,     0.73273,     0.73373,     0.73473,     0.73574,     0.73674,     0.73774,     0.73874,     0.73974,     0.74074,     0.74174,     0.74274,     0.74374,\n",
            "           0.74474,     0.74575,     0.74675,     0.74775,     0.74875,     0.74975,     0.75075,     0.75175,     0.75275,     0.75375,     0.75475,     0.75576,     0.75676,     0.75776,     0.75876,     0.75976,     0.76076,     0.76176,     0.76276,     0.76376,     0.76476,     0.76577,     0.76677,     0.76777,\n",
            "           0.76877,     0.76977,     0.77077,     0.77177,     0.77277,     0.77377,     0.77477,     0.77578,     0.77678,     0.77778,     0.77878,     0.77978,     0.78078,     0.78178,     0.78278,     0.78378,     0.78478,     0.78579,     0.78679,     0.78779,     0.78879,     0.78979,     0.79079,     0.79179,\n",
            "           0.79279,     0.79379,     0.79479,      0.7958,      0.7968,      0.7978,      0.7988,      0.7998,      0.8008,      0.8018,      0.8028,      0.8038,      0.8048,     0.80581,     0.80681,     0.80781,     0.80881,     0.80981,     0.81081,     0.81181,     0.81281,     0.81381,     0.81481,     0.81582,\n",
            "           0.81682,     0.81782,     0.81882,     0.81982,     0.82082,     0.82182,     0.82282,     0.82382,     0.82482,     0.82583,     0.82683,     0.82783,     0.82883,     0.82983,     0.83083,     0.83183,     0.83283,     0.83383,     0.83483,     0.83584,     0.83684,     0.83784,     0.83884,     0.83984,\n",
            "           0.84084,     0.84184,     0.84284,     0.84384,     0.84484,     0.84585,     0.84685,     0.84785,     0.84885,     0.84985,     0.85085,     0.85185,     0.85285,     0.85385,     0.85485,     0.85586,     0.85686,     0.85786,     0.85886,     0.85986,     0.86086,     0.86186,     0.86286,     0.86386,\n",
            "           0.86486,     0.86587,     0.86687,     0.86787,     0.86887,     0.86987,     0.87087,     0.87187,     0.87287,     0.87387,     0.87487,     0.87588,     0.87688,     0.87788,     0.87888,     0.87988,     0.88088,     0.88188,     0.88288,     0.88388,     0.88488,     0.88589,     0.88689,     0.88789,\n",
            "           0.88889,     0.88989,     0.89089,     0.89189,     0.89289,     0.89389,     0.89489,      0.8959,      0.8969,      0.8979,      0.8989,      0.8999,      0.9009,      0.9019,      0.9029,      0.9039,      0.9049,     0.90591,     0.90691,     0.90791,     0.90891,     0.90991,     0.91091,     0.91191,\n",
            "           0.91291,     0.91391,     0.91491,     0.91592,     0.91692,     0.91792,     0.91892,     0.91992,     0.92092,     0.92192,     0.92292,     0.92392,     0.92492,     0.92593,     0.92693,     0.92793,     0.92893,     0.92993,     0.93093,     0.93193,     0.93293,     0.93393,     0.93493,     0.93594,\n",
            "           0.93694,     0.93794,     0.93894,     0.93994,     0.94094,     0.94194,     0.94294,     0.94394,     0.94494,     0.94595,     0.94695,     0.94795,     0.94895,     0.94995,     0.95095,     0.95195,     0.95295,     0.95395,     0.95495,     0.95596,     0.95696,     0.95796,     0.95896,     0.95996,\n",
            "           0.96096,     0.96196,     0.96296,     0.96396,     0.96496,     0.96597,     0.96697,     0.96797,     0.96897,     0.96997,     0.97097,     0.97197,     0.97297,     0.97397,     0.97497,     0.97598,     0.97698,     0.97798,     0.97898,     0.97998,     0.98098,     0.98198,     0.98298,     0.98398,\n",
            "           0.98498,     0.98599,     0.98699,     0.98799,     0.98899,     0.98999,     0.99099,     0.99199,     0.99299,     0.99399,     0.99499,       0.996,       0.997,       0.998,       0.999,           1]), array([[    0.17089,     0.17089,      0.2569,     0.31167,     0.33319,     0.34847,     0.37052,     0.36993,     0.37666,      0.3674,     0.37664,     0.38595,     0.38956,     0.39357,     0.39458,     0.39558,     0.39667,     0.40034,     0.40329,     0.40822,     0.41195,     0.41479,     0.41961,\n",
            "            0.42181,     0.42587,     0.43168,     0.43385,     0.43666,     0.42363,     0.42591,     0.42784,     0.42934,     0.43083,     0.43305,     0.43568,     0.43903,     0.44454,     0.44502,     0.44551,     0.44599,     0.44647,     0.44695,     0.44743,     0.44791,     0.44838,     0.44886,\n",
            "            0.44429,     0.43998,      0.4425,     0.44391,     0.44532,     0.44672,     0.44744,     0.44811,     0.44878,     0.44945,     0.45012,     0.45079,     0.45145,     0.45225,     0.45309,     0.45392,     0.45475,     0.45557,      0.4564,     0.45876,     0.46136,     0.45893,     0.45612,\n",
            "            0.45332,     0.45051,     0.44769,     0.44488,     0.44468,     0.44496,     0.44524,     0.44551,     0.44579,     0.44607,     0.44635,     0.44662,      0.4469,     0.44717,     0.44745,     0.44773,       0.448,     0.44827,     0.44855,     0.44882,      0.4491,     0.44937,     0.45059,\n",
            "            0.45211,     0.45363,     0.45718,     0.45877,     0.45713,     0.45549,     0.45386,     0.45222,     0.45058,     0.44893,     0.44729,     0.44565,       0.444,     0.44236,     0.44068,     0.43899,      0.4373,     0.43561,     0.43392,     0.43223,     0.43054,     0.42884,     0.42715,\n",
            "            0.42545,     0.42375,     0.42383,     0.42417,     0.42451,     0.42485,     0.42519,     0.42553,     0.42587,     0.42621,     0.42655,     0.42688,     0.42722,     0.42756,     0.42789,     0.42823,     0.42856,     0.42939,     0.43023,     0.43107,      0.4319,     0.43272,     0.43355,\n",
            "             0.4341,     0.43456,     0.43502,     0.43549,     0.43595,     0.43641,     0.43687,     0.43732,     0.43778,     0.43824,     0.43869,     0.43913,     0.43951,     0.43988,     0.44026,     0.44064,     0.44101,     0.44139,     0.44176,     0.44214,     0.44251,     0.44288,     0.44325,\n",
            "            0.44363,       0.444,     0.44437,     0.44183,     0.43851,     0.43519,     0.43186,     0.42853,     0.42519,     0.42543,     0.42589,     0.42635,      0.4268,     0.42725,     0.42771,     0.42816,     0.42861,     0.42906,     0.42951,     0.42995,     0.43039,      0.4307,       0.431,\n",
            "             0.4313,      0.4316,      0.4319,      0.4322,      0.4325,      0.4328,      0.4331,      0.4334,      0.4337,       0.434,     0.43429,     0.43459,     0.43489,     0.43518,     0.43548,     0.43577,     0.43638,     0.43723,     0.43806,      0.4389,     0.43973,     0.44055,     0.44137,\n",
            "            0.44194,     0.44244,     0.44293,     0.44342,     0.44391,      0.4444,     0.44489,     0.44538,     0.44586,     0.44635,     0.44683,     0.44731,     0.44813,     0.44898,     0.44983,     0.45068,     0.45153,     0.45236,      0.4532,     0.45345,      0.4536,     0.45374,     0.45389,\n",
            "            0.45403,     0.45417,     0.45432,     0.45446,      0.4546,     0.45474,     0.45489,     0.45503,     0.45517,     0.45532,     0.45546,      0.4556,     0.45574,     0.45588,     0.45603,     0.45617,     0.45631,     0.45645,     0.45659,     0.45673,     0.45687,     0.45701,     0.45716,\n",
            "             0.4573,     0.45744,     0.45758,     0.45772,     0.45786,       0.458,     0.45814,     0.45828,     0.45842,     0.45856,      0.4587,     0.45884,     0.45898,     0.45912,     0.45925,     0.45939,      0.4596,     0.45986,     0.46012,     0.46037,     0.46063,     0.46089,     0.46115,\n",
            "            0.46141,     0.46166,     0.46192,     0.46218,     0.46243,     0.46269,     0.46294,      0.4632,     0.46345,      0.4637,     0.46396,     0.46421,     0.46446,     0.46472,     0.46497,     0.46522,     0.46547,     0.46572,     0.46497,     0.46407,     0.46316,     0.46226,     0.46136,\n",
            "            0.46045,     0.45955,     0.45864,     0.45774,     0.45683,     0.45593,     0.45502,     0.45411,     0.45321,      0.4523,     0.45139,     0.45048,     0.44957,     0.44866,     0.44775,     0.44684,     0.44593,     0.44502,     0.44464,     0.44517,      0.4457,     0.44622,     0.44674,\n",
            "            0.44726,     0.44778,      0.4483,     0.44882,     0.44933,     0.44984,     0.45035,     0.44826,     0.44024,      0.4322,     0.42264,     0.41183,     0.40609,     0.40675,      0.4074,     0.40805,      0.4087,     0.40934,     0.40998,     0.41062,     0.41125,     0.41191,      0.4127,\n",
            "            0.41349,     0.41428,     0.41506,     0.41583,      0.4166,     0.41736,     0.41799,     0.41826,     0.41852,     0.41879,     0.41906,     0.41933,     0.41959,     0.41986,     0.42013,     0.42039,     0.42066,     0.42092,     0.42118,     0.42144,     0.42171,     0.42197,     0.42223,\n",
            "            0.42249,     0.42275,     0.42301,     0.42326,     0.42352,     0.42378,     0.42404,     0.42429,     0.42455,      0.4248,     0.42505,      0.4253,     0.42555,      0.4258,     0.42605,      0.4263,     0.42655,      0.4268,     0.42705,      0.4273,     0.42754,     0.42779,     0.42803,\n",
            "            0.42828,     0.42852,     0.42877,     0.42901,     0.42926,      0.4295,     0.42974,     0.42998,     0.43022,     0.43046,      0.4307,     0.43093,     0.43114,     0.43136,     0.43157,     0.43179,       0.432,     0.43222,     0.43243,     0.43265,     0.43286,     0.43307,     0.43328,\n",
            "             0.4335,     0.43371,     0.43392,     0.43413,     0.43434,     0.43455,     0.43476,     0.43497,     0.43518,     0.43539,     0.43559,      0.4358,     0.43601,     0.43621,     0.43642,     0.43663,     0.43683,     0.43704,     0.43724,     0.43745,     0.43776,     0.43812,     0.43847,\n",
            "            0.43883,     0.43918,     0.43953,     0.43988,     0.44023,     0.44058,     0.44093,     0.44127,     0.44162,     0.44196,     0.44231,     0.44265,     0.44299,     0.44333,     0.44367,       0.444,     0.44434,     0.44541,     0.44681,     0.44818,     0.44954,     0.45088,     0.44882,\n",
            "            0.44258,      0.4363,     0.42999,     0.42605,     0.42561,     0.42518,     0.42474,      0.4243,     0.42386,     0.42342,     0.42299,     0.42255,     0.42211,     0.42167,     0.42123,     0.42079,     0.42035,     0.41991,     0.41947,     0.41903,     0.41859,     0.41815,     0.41771,\n",
            "            0.41727,     0.41683,     0.41639,     0.41595,     0.41551,     0.41507,     0.41462,     0.41418,     0.41374,      0.4133,     0.41286,     0.41241,     0.41197,     0.41153,     0.41109,     0.41064,      0.4102,     0.40976,     0.40931,     0.40887,     0.40843,     0.40798,     0.40754,\n",
            "             0.4071,     0.40665,     0.40621,     0.40576,     0.40532,     0.40487,     0.40443,     0.40398,     0.40354,     0.40309,     0.40265,      0.4022,     0.40175,     0.40131,     0.40086,     0.40041,     0.40002,     0.40027,     0.40052,     0.40077,     0.40102,     0.40127,     0.40151,\n",
            "            0.40176,     0.40201,     0.40225,      0.4025,     0.40274,     0.40298,     0.40322,     0.40347,     0.40371,     0.40395,     0.40419,     0.40442,     0.40466,      0.4049,     0.40513,     0.40537,      0.4056,     0.40584,     0.40607,      0.4063,     0.40654,     0.40677,     0.40627,\n",
            "            0.40573,     0.40519,     0.40465,     0.40411,     0.40357,     0.40302,     0.40248,     0.40194,      0.4014,     0.40086,     0.40031,     0.39977,     0.39923,     0.39868,     0.39814,      0.3976,     0.39705,     0.39651,     0.39596,     0.39542,     0.39487,     0.39433,     0.39378,\n",
            "            0.39323,     0.39269,     0.39214,     0.39159,     0.39105,      0.3905,     0.38995,      0.3894,     0.38886,     0.38831,     0.38776,     0.38721,     0.38666,     0.38611,     0.38556,     0.38501,     0.38446,     0.38391,     0.38336,     0.38281,     0.38226,     0.38171,     0.38115,\n",
            "             0.3806,     0.38005,      0.3795,     0.37824,     0.37661,     0.37498,     0.37335,     0.37172,     0.37009,     0.36845,     0.36681,     0.36517,     0.36353,     0.36188,     0.36024,     0.35859,     0.35694,     0.35528,     0.35363,     0.35197,      0.3443,     0.32497,     0.31996,\n",
            "            0.31815,     0.31635,     0.31454,     0.31273,     0.31092,     0.30911,     0.30729,     0.30547,     0.30365,     0.30183,         0.3,     0.29818,     0.29634,     0.29451,     0.29267,     0.29091,     0.29102,     0.29114,     0.29125,     0.29136,     0.29147,     0.29158,     0.29169,\n",
            "            0.29179,      0.2919,     0.29201,     0.29212,     0.29223,     0.29234,     0.29244,     0.29255,     0.29266,     0.29276,     0.29287,     0.29298,     0.29308,     0.29319,     0.29329,      0.2934,      0.2935,     0.29361,     0.29371,     0.29381,     0.29392,     0.29402,     0.29412,\n",
            "            0.29423,     0.29433,     0.29443,     0.29453,     0.29463,     0.29473,     0.29484,     0.29494,     0.29504,     0.29514,     0.29524,     0.29534,     0.29544,     0.29554,     0.29563,     0.29573,     0.29583,     0.29593,     0.29603,     0.29613,     0.29622,     0.29631,     0.29637,\n",
            "            0.29643,     0.29648,     0.29654,      0.2966,     0.29666,     0.29671,     0.29677,     0.29683,     0.29689,     0.29694,       0.297,     0.29706,     0.29711,     0.29717,     0.29723,     0.29728,     0.29734,      0.2974,     0.29745,     0.29751,     0.29757,     0.29762,     0.29768,\n",
            "            0.29773,     0.29779,     0.29785,      0.2979,     0.29796,     0.29801,     0.29807,     0.29812,     0.29818,     0.29823,     0.29829,     0.29834,      0.2984,     0.29845,     0.29851,     0.29856,     0.29862,     0.29867,     0.29873,     0.29878,     0.29883,     0.29889,     0.29894,\n",
            "              0.299,     0.29905,      0.2991,     0.29916,     0.29921,     0.29927,     0.29932,     0.29937,     0.29943,     0.29948,     0.29953,     0.29959,     0.29964,     0.29969,     0.29974,      0.2998,     0.29985,      0.2999,     0.29996,     0.30001,     0.30006,     0.30011,     0.30017,\n",
            "            0.30022,     0.30027,     0.30032,     0.30037,     0.30043,     0.30048,     0.30053,     0.30058,     0.30063,     0.30068,     0.30074,     0.30079,     0.30084,     0.30089,     0.30094,     0.30099,     0.30104,     0.30109,     0.30114,      0.3012,     0.30125,      0.3013,     0.30135,\n",
            "             0.3014,     0.30145,      0.3015,     0.30155,      0.3016,     0.30165,      0.3017,     0.30175,      0.3018,     0.30185,      0.2943,     0.26909,     0.26828,     0.26746,     0.26664,     0.26582,       0.265,     0.26418,     0.26336,     0.26254,     0.26172,      0.2609,     0.26007,\n",
            "            0.25925,     0.25843,      0.2576,     0.25678,     0.25595,     0.25512,      0.2543,     0.25347,     0.25264,     0.25181,     0.25098,     0.25015,     0.24932,     0.24849,     0.24766,     0.24683,       0.246,     0.24516,     0.24433,      0.2435,     0.24266,     0.24183,     0.24099,\n",
            "            0.24015,     0.23931,     0.23848,     0.23764,      0.2368,     0.23596,     0.23482,     0.23256,      0.2303,     0.22803,     0.22576,     0.22349,     0.22121,     0.21892,     0.21663,     0.21434,     0.21205,     0.20975,     0.20744,     0.20513,     0.20282,      0.2005,     0.19896,\n",
            "            0.19763,      0.1963,     0.19497,     0.19363,      0.1923,     0.19096,     0.18963,     0.18829,     0.18695,     0.18561,     0.18426,     0.18292,     0.18158,     0.18023,     0.17888,     0.17753,     0.17618,     0.17483,     0.17348,     0.17213,     0.17077,     0.16941,     0.16806,\n",
            "             0.1667,     0.16533,     0.16397,     0.16343,     0.16378,     0.16411,     0.16443,     0.16474,     0.16505,     0.16534,     0.16563,     0.16591,     0.16618,     0.16645,     0.16639,     0.16445,     0.16252,     0.16057,     0.15863,     0.15668,     0.15473,     0.15278,     0.15082,\n",
            "            0.14886,      0.1469,     0.14493,     0.14296,     0.14099,     0.13902,     0.13704,     0.13505,     0.13307,     0.13108,     0.12909,     0.12717,     0.12545,     0.12372,     0.12199,     0.12026,     0.11853,      0.1168,     0.11506,     0.11332,     0.11158,     0.10984,      0.1081,\n",
            "            0.10635,      0.1046,     0.10285,      0.1011,    0.099341,    0.097583,    0.095822,    0.094059,    0.092294,    0.090526,    0.088755,    0.086981,      0.0872,    0.087429,     0.08764,    0.087835,    0.088017,    0.088187,    0.088345,    0.088494,    0.088633,    0.088764,    0.088887,\n",
            "           0.086665,    0.084409,    0.082147,    0.079879,    0.077606,    0.075328,    0.073044,    0.070755,    0.068461,    0.066161,    0.063855,    0.061545,    0.059228,    0.056906,    0.054578,    0.052245,    0.049907,    0.047562,           0,           0,           0,           0,           0,\n",
            "                  0,           0,           0,           0,           0,           0,           0,           0,           0,           0,           0,           0,           0,           0,           0,           0,           0,           0,           0,           0,           0,           0,           0,\n",
            "                  0,           0,           0,           0,           0,           0,           0,           0,           0,           0,           0]]), 'Confidence', 'F1'], [array([          0,    0.001001,    0.002002,    0.003003,    0.004004,    0.005005,    0.006006,    0.007007,    0.008008,    0.009009,     0.01001,    0.011011,    0.012012,    0.013013,    0.014014,    0.015015,    0.016016,    0.017017,    0.018018,    0.019019,     0.02002,    0.021021,    0.022022,    0.023023,\n",
            "          0.024024,    0.025025,    0.026026,    0.027027,    0.028028,    0.029029,     0.03003,    0.031031,    0.032032,    0.033033,    0.034034,    0.035035,    0.036036,    0.037037,    0.038038,    0.039039,     0.04004,    0.041041,    0.042042,    0.043043,    0.044044,    0.045045,    0.046046,    0.047047,\n",
            "          0.048048,    0.049049,     0.05005,    0.051051,    0.052052,    0.053053,    0.054054,    0.055055,    0.056056,    0.057057,    0.058058,    0.059059,     0.06006,    0.061061,    0.062062,    0.063063,    0.064064,    0.065065,    0.066066,    0.067067,    0.068068,    0.069069,     0.07007,    0.071071,\n",
            "          0.072072,    0.073073,    0.074074,    0.075075,    0.076076,    0.077077,    0.078078,    0.079079,     0.08008,    0.081081,    0.082082,    0.083083,    0.084084,    0.085085,    0.086086,    0.087087,    0.088088,    0.089089,     0.09009,    0.091091,    0.092092,    0.093093,    0.094094,    0.095095,\n",
            "          0.096096,    0.097097,    0.098098,    0.099099,      0.1001,      0.1011,      0.1021,      0.1031,      0.1041,     0.10511,     0.10611,     0.10711,     0.10811,     0.10911,     0.11011,     0.11111,     0.11211,     0.11311,     0.11411,     0.11512,     0.11612,     0.11712,     0.11812,     0.11912,\n",
            "           0.12012,     0.12112,     0.12212,     0.12312,     0.12412,     0.12513,     0.12613,     0.12713,     0.12813,     0.12913,     0.13013,     0.13113,     0.13213,     0.13313,     0.13413,     0.13514,     0.13614,     0.13714,     0.13814,     0.13914,     0.14014,     0.14114,     0.14214,     0.14314,\n",
            "           0.14414,     0.14515,     0.14615,     0.14715,     0.14815,     0.14915,     0.15015,     0.15115,     0.15215,     0.15315,     0.15415,     0.15516,     0.15616,     0.15716,     0.15816,     0.15916,     0.16016,     0.16116,     0.16216,     0.16316,     0.16416,     0.16517,     0.16617,     0.16717,\n",
            "           0.16817,     0.16917,     0.17017,     0.17117,     0.17217,     0.17317,     0.17417,     0.17518,     0.17618,     0.17718,     0.17818,     0.17918,     0.18018,     0.18118,     0.18218,     0.18318,     0.18418,     0.18519,     0.18619,     0.18719,     0.18819,     0.18919,     0.19019,     0.19119,\n",
            "           0.19219,     0.19319,     0.19419,      0.1952,      0.1962,      0.1972,      0.1982,      0.1992,      0.2002,      0.2012,      0.2022,      0.2032,      0.2042,     0.20521,     0.20621,     0.20721,     0.20821,     0.20921,     0.21021,     0.21121,     0.21221,     0.21321,     0.21421,     0.21522,\n",
            "           0.21622,     0.21722,     0.21822,     0.21922,     0.22022,     0.22122,     0.22222,     0.22322,     0.22422,     0.22523,     0.22623,     0.22723,     0.22823,     0.22923,     0.23023,     0.23123,     0.23223,     0.23323,     0.23423,     0.23524,     0.23624,     0.23724,     0.23824,     0.23924,\n",
            "           0.24024,     0.24124,     0.24224,     0.24324,     0.24424,     0.24525,     0.24625,     0.24725,     0.24825,     0.24925,     0.25025,     0.25125,     0.25225,     0.25325,     0.25425,     0.25526,     0.25626,     0.25726,     0.25826,     0.25926,     0.26026,     0.26126,     0.26226,     0.26326,\n",
            "           0.26426,     0.26527,     0.26627,     0.26727,     0.26827,     0.26927,     0.27027,     0.27127,     0.27227,     0.27327,     0.27427,     0.27528,     0.27628,     0.27728,     0.27828,     0.27928,     0.28028,     0.28128,     0.28228,     0.28328,     0.28428,     0.28529,     0.28629,     0.28729,\n",
            "           0.28829,     0.28929,     0.29029,     0.29129,     0.29229,     0.29329,     0.29429,      0.2953,      0.2963,      0.2973,      0.2983,      0.2993,      0.3003,      0.3013,      0.3023,      0.3033,      0.3043,     0.30531,     0.30631,     0.30731,     0.30831,     0.30931,     0.31031,     0.31131,\n",
            "           0.31231,     0.31331,     0.31431,     0.31532,     0.31632,     0.31732,     0.31832,     0.31932,     0.32032,     0.32132,     0.32232,     0.32332,     0.32432,     0.32533,     0.32633,     0.32733,     0.32833,     0.32933,     0.33033,     0.33133,     0.33233,     0.33333,     0.33433,     0.33534,\n",
            "           0.33634,     0.33734,     0.33834,     0.33934,     0.34034,     0.34134,     0.34234,     0.34334,     0.34434,     0.34535,     0.34635,     0.34735,     0.34835,     0.34935,     0.35035,     0.35135,     0.35235,     0.35335,     0.35435,     0.35536,     0.35636,     0.35736,     0.35836,     0.35936,\n",
            "           0.36036,     0.36136,     0.36236,     0.36336,     0.36436,     0.36537,     0.36637,     0.36737,     0.36837,     0.36937,     0.37037,     0.37137,     0.37237,     0.37337,     0.37437,     0.37538,     0.37638,     0.37738,     0.37838,     0.37938,     0.38038,     0.38138,     0.38238,     0.38338,\n",
            "           0.38438,     0.38539,     0.38639,     0.38739,     0.38839,     0.38939,     0.39039,     0.39139,     0.39239,     0.39339,     0.39439,      0.3954,      0.3964,      0.3974,      0.3984,      0.3994,      0.4004,      0.4014,      0.4024,      0.4034,      0.4044,     0.40541,     0.40641,     0.40741,\n",
            "           0.40841,     0.40941,     0.41041,     0.41141,     0.41241,     0.41341,     0.41441,     0.41542,     0.41642,     0.41742,     0.41842,     0.41942,     0.42042,     0.42142,     0.42242,     0.42342,     0.42442,     0.42543,     0.42643,     0.42743,     0.42843,     0.42943,     0.43043,     0.43143,\n",
            "           0.43243,     0.43343,     0.43443,     0.43544,     0.43644,     0.43744,     0.43844,     0.43944,     0.44044,     0.44144,     0.44244,     0.44344,     0.44444,     0.44545,     0.44645,     0.44745,     0.44845,     0.44945,     0.45045,     0.45145,     0.45245,     0.45345,     0.45445,     0.45546,\n",
            "           0.45646,     0.45746,     0.45846,     0.45946,     0.46046,     0.46146,     0.46246,     0.46346,     0.46446,     0.46547,     0.46647,     0.46747,     0.46847,     0.46947,     0.47047,     0.47147,     0.47247,     0.47347,     0.47447,     0.47548,     0.47648,     0.47748,     0.47848,     0.47948,\n",
            "           0.48048,     0.48148,     0.48248,     0.48348,     0.48448,     0.48549,     0.48649,     0.48749,     0.48849,     0.48949,     0.49049,     0.49149,     0.49249,     0.49349,     0.49449,      0.4955,      0.4965,      0.4975,      0.4985,      0.4995,      0.5005,      0.5015,      0.5025,      0.5035,\n",
            "            0.5045,     0.50551,     0.50651,     0.50751,     0.50851,     0.50951,     0.51051,     0.51151,     0.51251,     0.51351,     0.51451,     0.51552,     0.51652,     0.51752,     0.51852,     0.51952,     0.52052,     0.52152,     0.52252,     0.52352,     0.52452,     0.52553,     0.52653,     0.52753,\n",
            "           0.52853,     0.52953,     0.53053,     0.53153,     0.53253,     0.53353,     0.53453,     0.53554,     0.53654,     0.53754,     0.53854,     0.53954,     0.54054,     0.54154,     0.54254,     0.54354,     0.54454,     0.54555,     0.54655,     0.54755,     0.54855,     0.54955,     0.55055,     0.55155,\n",
            "           0.55255,     0.55355,     0.55455,     0.55556,     0.55656,     0.55756,     0.55856,     0.55956,     0.56056,     0.56156,     0.56256,     0.56356,     0.56456,     0.56557,     0.56657,     0.56757,     0.56857,     0.56957,     0.57057,     0.57157,     0.57257,     0.57357,     0.57457,     0.57558,\n",
            "           0.57658,     0.57758,     0.57858,     0.57958,     0.58058,     0.58158,     0.58258,     0.58358,     0.58458,     0.58559,     0.58659,     0.58759,     0.58859,     0.58959,     0.59059,     0.59159,     0.59259,     0.59359,     0.59459,      0.5956,      0.5966,      0.5976,      0.5986,      0.5996,\n",
            "            0.6006,      0.6016,      0.6026,      0.6036,      0.6046,     0.60561,     0.60661,     0.60761,     0.60861,     0.60961,     0.61061,     0.61161,     0.61261,     0.61361,     0.61461,     0.61562,     0.61662,     0.61762,     0.61862,     0.61962,     0.62062,     0.62162,     0.62262,     0.62362,\n",
            "           0.62462,     0.62563,     0.62663,     0.62763,     0.62863,     0.62963,     0.63063,     0.63163,     0.63263,     0.63363,     0.63463,     0.63564,     0.63664,     0.63764,     0.63864,     0.63964,     0.64064,     0.64164,     0.64264,     0.64364,     0.64464,     0.64565,     0.64665,     0.64765,\n",
            "           0.64865,     0.64965,     0.65065,     0.65165,     0.65265,     0.65365,     0.65465,     0.65566,     0.65666,     0.65766,     0.65866,     0.65966,     0.66066,     0.66166,     0.66266,     0.66366,     0.66466,     0.66567,     0.66667,     0.66767,     0.66867,     0.66967,     0.67067,     0.67167,\n",
            "           0.67267,     0.67367,     0.67467,     0.67568,     0.67668,     0.67768,     0.67868,     0.67968,     0.68068,     0.68168,     0.68268,     0.68368,     0.68468,     0.68569,     0.68669,     0.68769,     0.68869,     0.68969,     0.69069,     0.69169,     0.69269,     0.69369,     0.69469,      0.6957,\n",
            "            0.6967,      0.6977,      0.6987,      0.6997,      0.7007,      0.7017,      0.7027,      0.7037,      0.7047,     0.70571,     0.70671,     0.70771,     0.70871,     0.70971,     0.71071,     0.71171,     0.71271,     0.71371,     0.71471,     0.71572,     0.71672,     0.71772,     0.71872,     0.71972,\n",
            "           0.72072,     0.72172,     0.72272,     0.72372,     0.72472,     0.72573,     0.72673,     0.72773,     0.72873,     0.72973,     0.73073,     0.73173,     0.73273,     0.73373,     0.73473,     0.73574,     0.73674,     0.73774,     0.73874,     0.73974,     0.74074,     0.74174,     0.74274,     0.74374,\n",
            "           0.74474,     0.74575,     0.74675,     0.74775,     0.74875,     0.74975,     0.75075,     0.75175,     0.75275,     0.75375,     0.75475,     0.75576,     0.75676,     0.75776,     0.75876,     0.75976,     0.76076,     0.76176,     0.76276,     0.76376,     0.76476,     0.76577,     0.76677,     0.76777,\n",
            "           0.76877,     0.76977,     0.77077,     0.77177,     0.77277,     0.77377,     0.77477,     0.77578,     0.77678,     0.77778,     0.77878,     0.77978,     0.78078,     0.78178,     0.78278,     0.78378,     0.78478,     0.78579,     0.78679,     0.78779,     0.78879,     0.78979,     0.79079,     0.79179,\n",
            "           0.79279,     0.79379,     0.79479,      0.7958,      0.7968,      0.7978,      0.7988,      0.7998,      0.8008,      0.8018,      0.8028,      0.8038,      0.8048,     0.80581,     0.80681,     0.80781,     0.80881,     0.80981,     0.81081,     0.81181,     0.81281,     0.81381,     0.81481,     0.81582,\n",
            "           0.81682,     0.81782,     0.81882,     0.81982,     0.82082,     0.82182,     0.82282,     0.82382,     0.82482,     0.82583,     0.82683,     0.82783,     0.82883,     0.82983,     0.83083,     0.83183,     0.83283,     0.83383,     0.83483,     0.83584,     0.83684,     0.83784,     0.83884,     0.83984,\n",
            "           0.84084,     0.84184,     0.84284,     0.84384,     0.84484,     0.84585,     0.84685,     0.84785,     0.84885,     0.84985,     0.85085,     0.85185,     0.85285,     0.85385,     0.85485,     0.85586,     0.85686,     0.85786,     0.85886,     0.85986,     0.86086,     0.86186,     0.86286,     0.86386,\n",
            "           0.86486,     0.86587,     0.86687,     0.86787,     0.86887,     0.86987,     0.87087,     0.87187,     0.87287,     0.87387,     0.87487,     0.87588,     0.87688,     0.87788,     0.87888,     0.87988,     0.88088,     0.88188,     0.88288,     0.88388,     0.88488,     0.88589,     0.88689,     0.88789,\n",
            "           0.88889,     0.88989,     0.89089,     0.89189,     0.89289,     0.89389,     0.89489,      0.8959,      0.8969,      0.8979,      0.8989,      0.8999,      0.9009,      0.9019,      0.9029,      0.9039,      0.9049,     0.90591,     0.90691,     0.90791,     0.90891,     0.90991,     0.91091,     0.91191,\n",
            "           0.91291,     0.91391,     0.91491,     0.91592,     0.91692,     0.91792,     0.91892,     0.91992,     0.92092,     0.92192,     0.92292,     0.92392,     0.92492,     0.92593,     0.92693,     0.92793,     0.92893,     0.92993,     0.93093,     0.93193,     0.93293,     0.93393,     0.93493,     0.93594,\n",
            "           0.93694,     0.93794,     0.93894,     0.93994,     0.94094,     0.94194,     0.94294,     0.94394,     0.94494,     0.94595,     0.94695,     0.94795,     0.94895,     0.94995,     0.95095,     0.95195,     0.95295,     0.95395,     0.95495,     0.95596,     0.95696,     0.95796,     0.95896,     0.95996,\n",
            "           0.96096,     0.96196,     0.96296,     0.96396,     0.96496,     0.96597,     0.96697,     0.96797,     0.96897,     0.96997,     0.97097,     0.97197,     0.97297,     0.97397,     0.97497,     0.97598,     0.97698,     0.97798,     0.97898,     0.97998,     0.98098,     0.98198,     0.98298,     0.98398,\n",
            "           0.98498,     0.98599,     0.98699,     0.98799,     0.98899,     0.98999,     0.99099,     0.99199,     0.99299,     0.99399,     0.99499,       0.996,       0.997,       0.998,       0.999,           1]), array([[   0.098901,    0.098901,      0.1631,     0.20994,     0.22995,     0.24879,      0.2719,     0.27664,     0.28485,     0.27979,     0.29065,      0.3019,     0.30633,     0.31133,     0.31259,     0.31385,     0.31521,     0.31988,     0.32366,     0.33006,     0.33496,     0.33873,     0.34521,\n",
            "             0.3482,     0.35377,     0.36186,     0.36492,     0.36891,     0.36146,      0.3648,     0.36764,     0.36985,     0.37207,     0.37539,     0.37936,     0.38447,     0.39301,     0.39376,     0.39452,     0.39527,     0.39603,     0.39679,     0.39754,      0.3983,     0.39906,     0.39981,\n",
            "            0.40093,     0.40031,     0.40451,     0.40687,     0.40924,     0.41161,     0.41284,     0.41399,     0.41513,     0.41628,     0.41743,     0.41858,     0.41973,      0.4211,     0.42255,       0.424,     0.42545,     0.42691,     0.42836,     0.43253,     0.43718,     0.43567,      0.4337,\n",
            "            0.43173,     0.42977,      0.4278,     0.42583,     0.42596,     0.42648,     0.42699,      0.4275,     0.42801,     0.42852,     0.42903,     0.42954,     0.43005,     0.43057,     0.43108,     0.43159,      0.4321,     0.43261,     0.43312,     0.43363,     0.43414,     0.43466,     0.43694,\n",
            "            0.43982,     0.44269,      0.4495,     0.45383,     0.45267,     0.45151,     0.45035,     0.44919,     0.44802,     0.44686,      0.4457,     0.44454,     0.44337,     0.44221,       0.441,     0.43978,     0.43855,     0.43732,      0.4361,     0.43487,     0.43364,     0.43241,     0.43119,\n",
            "            0.42996,     0.42873,     0.42918,     0.42988,     0.43058,     0.43129,     0.43199,     0.43269,     0.43339,     0.43409,      0.4348,      0.4355,      0.4362,      0.4369,      0.4376,     0.43831,     0.43901,     0.44075,     0.44252,     0.44429,     0.44606,     0.44783,      0.4496,\n",
            "            0.45078,     0.45178,     0.45278,     0.45378,     0.45479,     0.45579,     0.45679,      0.4578,      0.4588,      0.4598,     0.46081,     0.46176,      0.4626,     0.46344,     0.46428,     0.46512,     0.46596,      0.4668,     0.46763,     0.46847,     0.46931,     0.47015,     0.47099,\n",
            "            0.47183,     0.47267,     0.47351,     0.47177,     0.46933,      0.4669,     0.46447,     0.46203,      0.4596,     0.46047,     0.46154,     0.46262,     0.46369,     0.46476,     0.46583,     0.46691,     0.46798,     0.46905,     0.47012,      0.4712,     0.47225,     0.47299,     0.47372,\n",
            "            0.47445,     0.47518,     0.47591,     0.47664,     0.47737,      0.4781,     0.47883,     0.47956,     0.48029,     0.48102,     0.48175,     0.48248,     0.48321,     0.48394,     0.48467,      0.4854,     0.48692,     0.48902,     0.49112,     0.49322,     0.49532,     0.49742,     0.49952,\n",
            "            0.50099,     0.50226,     0.50353,     0.50481,     0.50608,     0.50736,     0.50863,     0.50991,     0.51118,     0.51245,     0.51373,       0.515,     0.51717,     0.51945,     0.52174,     0.52403,     0.52631,      0.5286,     0.53088,     0.53158,     0.53198,     0.53237,     0.53277,\n",
            "            0.53316,     0.53356,     0.53396,     0.53435,     0.53475,     0.53514,     0.53554,     0.53593,     0.53633,     0.53673,     0.53712,     0.53752,     0.53791,     0.53831,      0.5387,      0.5391,     0.53949,     0.53989,     0.54029,     0.54068,     0.54108,     0.54147,     0.54187,\n",
            "            0.54226,     0.54266,     0.54306,     0.54345,     0.54385,     0.54424,     0.54464,     0.54503,     0.54543,     0.54583,     0.54622,     0.54662,     0.54701,     0.54741,      0.5478,      0.5482,     0.54878,     0.54952,     0.55026,       0.551,     0.55174,     0.55248,     0.55322,\n",
            "            0.55397,     0.55471,     0.55545,     0.55619,     0.55693,     0.55767,     0.55842,     0.55916,      0.5599,     0.56064,     0.56138,     0.56212,     0.56286,     0.56361,     0.56435,     0.56509,     0.56583,     0.56657,     0.56611,     0.56548,     0.56484,     0.56421,     0.56357,\n",
            "            0.56293,      0.5623,     0.56166,     0.56103,     0.56039,     0.55975,     0.55912,     0.55848,     0.55785,     0.55721,     0.55657,     0.55594,      0.5553,     0.55467,     0.55403,      0.5534,     0.55276,     0.55212,     0.55233,     0.55396,      0.5556,     0.55723,     0.55886,\n",
            "             0.5605,     0.56213,     0.56376,      0.5654,     0.56703,     0.56866,      0.5703,     0.56966,      0.5639,     0.55814,     0.55108,     0.54297,     0.53949,     0.54182,     0.54414,     0.54647,      0.5488,     0.55112,     0.55345,     0.55577,      0.5581,     0.56054,     0.56349,\n",
            "            0.56644,     0.56939,     0.57235,      0.5753,     0.57825,      0.5812,     0.58363,     0.58468,     0.58573,     0.58679,     0.58784,     0.58889,     0.58994,       0.591,     0.59205,      0.5931,     0.59416,     0.59521,     0.59626,     0.59732,     0.59837,     0.59942,     0.60048,\n",
            "            0.60153,     0.60258,     0.60363,     0.60469,     0.60574,     0.60679,     0.60785,      0.6089,     0.60994,     0.61099,     0.61203,     0.61308,     0.61412,     0.61517,     0.61621,     0.61726,      0.6183,     0.61935,      0.6204,     0.62144,     0.62249,     0.62353,     0.62458,\n",
            "            0.62562,     0.62667,     0.62771,     0.62876,      0.6298,     0.63085,     0.63189,     0.63294,     0.63398,     0.63503,     0.63607,     0.63705,     0.63799,     0.63894,     0.63989,     0.64084,     0.64178,     0.64273,     0.64368,     0.64463,     0.64557,     0.64652,     0.64747,\n",
            "            0.64842,     0.64936,     0.65031,     0.65126,      0.6522,     0.65315,      0.6541,     0.65505,     0.65599,     0.65694,     0.65789,     0.65884,     0.65978,     0.66073,     0.66168,     0.66263,     0.66357,     0.66452,     0.66547,     0.66641,     0.66789,     0.66955,     0.67121,\n",
            "            0.67287,     0.67454,      0.6762,     0.67786,     0.67953,     0.68119,     0.68285,     0.68451,     0.68618,     0.68784,      0.6895,     0.69116,     0.69283,     0.69449,     0.69615,     0.69781,     0.69948,     0.70482,     0.71185,     0.71889,     0.72593,     0.73296,     0.73522,\n",
            "             0.7316,     0.72798,     0.72437,     0.72211,     0.72183,     0.72156,     0.72128,     0.72101,     0.72073,     0.72046,     0.72018,     0.71991,     0.71963,     0.71936,     0.71908,     0.71881,     0.71853,     0.71825,     0.71798,      0.7177,     0.71743,     0.71715,     0.71688,\n",
            "             0.7166,     0.71633,     0.71605,     0.71578,      0.7155,     0.71523,     0.71495,     0.71467,      0.7144,     0.71412,     0.71385,     0.71357,      0.7133,     0.71302,     0.71275,     0.71247,      0.7122,     0.71192,     0.71165,     0.71137,     0.71109,     0.71082,     0.71054,\n",
            "            0.71027,     0.70999,     0.70972,     0.70944,     0.70917,     0.70889,     0.70862,     0.70834,     0.70807,     0.70779,     0.70751,     0.70724,     0.70696,     0.70669,     0.70641,     0.70614,       0.706,     0.70757,     0.70913,      0.7107,     0.71227,     0.71384,     0.71541,\n",
            "            0.71698,     0.71854,     0.72011,     0.72168,     0.72325,     0.72482,     0.72638,     0.72795,     0.72952,     0.73109,     0.73266,     0.73423,     0.73579,     0.73736,     0.73893,      0.7405,     0.74207,     0.74363,      0.7452,     0.74677,     0.74834,     0.74991,     0.74969,\n",
            "            0.74936,     0.74903,     0.74869,     0.74836,     0.74803,      0.7477,     0.74737,     0.74704,      0.7467,     0.74637,     0.74604,     0.74571,     0.74538,     0.74505,     0.74472,     0.74438,     0.74405,     0.74372,     0.74339,     0.74306,     0.74273,      0.7424,     0.74206,\n",
            "            0.74173,      0.7414,     0.74107,     0.74074,     0.74041,     0.74008,     0.73974,     0.73941,     0.73908,     0.73875,     0.73842,     0.73809,     0.73775,     0.73742,     0.73709,     0.73676,     0.73643,      0.7361,     0.73577,     0.73543,      0.7351,     0.73477,     0.73444,\n",
            "            0.73411,     0.73378,     0.73345,     0.73261,     0.73151,     0.73041,     0.72931,     0.72821,     0.72711,     0.72601,     0.72491,     0.72381,     0.72271,     0.72161,     0.72051,     0.71941,     0.71831,     0.71721,     0.71611,     0.71501,     0.70933,     0.69492,     0.69106,\n",
            "            0.68953,       0.688,     0.68647,     0.68494,     0.68342,     0.68189,     0.68036,     0.67883,      0.6773,     0.67578,     0.67425,     0.67272,     0.67119,     0.66966,     0.66813,     0.66671,     0.66788,     0.66905,     0.67022,     0.67139,     0.67256,     0.67373,      0.6749,\n",
            "            0.67607,     0.67724,     0.67841,     0.67958,     0.68075,     0.68192,     0.68309,     0.68427,     0.68544,     0.68661,     0.68778,     0.68895,     0.69012,     0.69129,     0.69246,     0.69363,      0.6948,     0.69597,     0.69714,     0.69831,     0.69948,     0.70065,     0.70182,\n",
            "            0.70299,     0.70416,     0.70533,      0.7065,     0.70767,     0.70884,     0.71001,     0.71118,     0.71235,     0.71352,     0.71469,     0.71586,     0.71703,      0.7182,     0.71937,     0.72054,     0.72171,     0.72288,     0.72405,     0.72522,     0.72639,     0.72744,     0.72814,\n",
            "            0.72884,     0.72954,     0.73024,     0.73094,     0.73164,     0.73234,     0.73304,     0.73374,     0.73444,     0.73514,     0.73584,     0.73654,     0.73724,     0.73794,     0.73863,     0.73933,     0.74003,     0.74073,     0.74143,     0.74213,     0.74283,     0.74353,     0.74423,\n",
            "            0.74493,     0.74563,     0.74633,     0.74703,     0.74773,     0.74843,     0.74912,     0.74982,     0.75052,     0.75122,     0.75192,     0.75262,     0.75332,     0.75402,     0.75472,     0.75542,     0.75612,     0.75682,     0.75752,     0.75822,     0.75892,     0.75962,     0.76031,\n",
            "            0.76101,     0.76171,     0.76241,     0.76311,     0.76381,     0.76451,     0.76521,     0.76591,     0.76661,     0.76731,     0.76801,     0.76871,     0.76941,     0.77011,     0.77081,      0.7715,      0.7722,      0.7729,      0.7736,      0.7743,       0.775,      0.7757,      0.7764,\n",
            "             0.7771,      0.7778,      0.7785,      0.7792,      0.7799,      0.7806,      0.7813,       0.782,     0.78269,     0.78339,     0.78409,     0.78479,     0.78549,     0.78619,     0.78689,     0.78759,     0.78829,     0.78899,     0.78969,     0.79039,     0.79109,     0.79179,     0.79249,\n",
            "            0.79319,     0.79388,     0.79458,     0.79528,     0.79598,     0.79668,     0.79738,     0.79808,     0.79878,     0.79948,     0.79478,     0.77766,     0.77699,     0.77631,     0.77563,     0.77495,     0.77427,      0.7736,     0.77292,     0.77224,     0.77156,     0.77088,      0.7702,\n",
            "            0.76953,     0.76885,     0.76817,     0.76749,     0.76681,     0.76614,     0.76546,     0.76478,      0.7641,     0.76342,     0.76274,     0.76207,     0.76139,     0.76071,     0.76003,     0.75935,     0.75868,       0.758,     0.75732,     0.75664,     0.75596,     0.75528,     0.75461,\n",
            "            0.75393,     0.75325,     0.75257,     0.75189,     0.75121,     0.75054,     0.74952,      0.7472,     0.74489,     0.74257,     0.74026,     0.73794,     0.73563,     0.73331,       0.731,     0.72868,     0.72636,     0.72405,     0.72173,     0.71942,      0.7171,     0.71479,     0.71292,\n",
            "            0.71118,     0.70943,     0.70769,     0.70594,      0.7042,     0.70245,     0.70071,     0.69897,     0.69722,     0.69548,     0.69373,     0.69199,     0.69025,      0.6885,     0.68676,     0.68501,     0.68327,     0.68152,     0.67978,     0.67804,     0.67629,     0.67455,      0.6728,\n",
            "            0.67106,     0.66931,     0.66757,     0.67233,     0.68409,     0.69585,     0.70761,     0.71937,     0.73112,     0.74288,     0.75464,      0.7664,     0.77816,     0.78992,     0.79964,     0.79712,     0.79461,     0.79209,     0.78957,     0.78705,     0.78453,     0.78202,      0.7795,\n",
            "            0.77698,     0.77446,     0.77194,     0.76943,     0.76691,     0.76439,     0.76187,     0.75936,     0.75684,     0.75432,      0.7518,     0.74898,     0.74541,     0.74183,     0.73825,     0.73468,      0.7311,     0.72752,     0.72394,     0.72037,     0.71679,     0.71321,     0.70964,\n",
            "            0.70606,     0.70248,     0.69891,     0.69533,     0.69175,     0.68818,      0.6846,     0.68102,     0.67745,     0.67387,     0.67029,     0.66672,     0.69655,     0.72686,     0.75716,     0.78747,     0.81778,     0.84809,     0.87839,      0.9087,     0.93901,     0.96931,     0.99962,\n",
            "                  1,           1,           1,           1,           1,           1,           1,           1,           1,           1,           1,           1,           1,           1,           1,           1,           1,           1,           1,           1,           1,           1,           1,\n",
            "                  1,           1,           1,           1,           1,           1,           1,           1,           1,           1,           1,           1,           1,           1,           1,           1,           1,           1,           1,           1,           1,           1,           1,\n",
            "                  1,           1,           1,           1,           1,           1,           1,           1,           1,           1,           1]]), 'Confidence', 'Precision'], [array([          0,    0.001001,    0.002002,    0.003003,    0.004004,    0.005005,    0.006006,    0.007007,    0.008008,    0.009009,     0.01001,    0.011011,    0.012012,    0.013013,    0.014014,    0.015015,    0.016016,    0.017017,    0.018018,    0.019019,     0.02002,    0.021021,    0.022022,    0.023023,\n",
            "          0.024024,    0.025025,    0.026026,    0.027027,    0.028028,    0.029029,     0.03003,    0.031031,    0.032032,    0.033033,    0.034034,    0.035035,    0.036036,    0.037037,    0.038038,    0.039039,     0.04004,    0.041041,    0.042042,    0.043043,    0.044044,    0.045045,    0.046046,    0.047047,\n",
            "          0.048048,    0.049049,     0.05005,    0.051051,    0.052052,    0.053053,    0.054054,    0.055055,    0.056056,    0.057057,    0.058058,    0.059059,     0.06006,    0.061061,    0.062062,    0.063063,    0.064064,    0.065065,    0.066066,    0.067067,    0.068068,    0.069069,     0.07007,    0.071071,\n",
            "          0.072072,    0.073073,    0.074074,    0.075075,    0.076076,    0.077077,    0.078078,    0.079079,     0.08008,    0.081081,    0.082082,    0.083083,    0.084084,    0.085085,    0.086086,    0.087087,    0.088088,    0.089089,     0.09009,    0.091091,    0.092092,    0.093093,    0.094094,    0.095095,\n",
            "          0.096096,    0.097097,    0.098098,    0.099099,      0.1001,      0.1011,      0.1021,      0.1031,      0.1041,     0.10511,     0.10611,     0.10711,     0.10811,     0.10911,     0.11011,     0.11111,     0.11211,     0.11311,     0.11411,     0.11512,     0.11612,     0.11712,     0.11812,     0.11912,\n",
            "           0.12012,     0.12112,     0.12212,     0.12312,     0.12412,     0.12513,     0.12613,     0.12713,     0.12813,     0.12913,     0.13013,     0.13113,     0.13213,     0.13313,     0.13413,     0.13514,     0.13614,     0.13714,     0.13814,     0.13914,     0.14014,     0.14114,     0.14214,     0.14314,\n",
            "           0.14414,     0.14515,     0.14615,     0.14715,     0.14815,     0.14915,     0.15015,     0.15115,     0.15215,     0.15315,     0.15415,     0.15516,     0.15616,     0.15716,     0.15816,     0.15916,     0.16016,     0.16116,     0.16216,     0.16316,     0.16416,     0.16517,     0.16617,     0.16717,\n",
            "           0.16817,     0.16917,     0.17017,     0.17117,     0.17217,     0.17317,     0.17417,     0.17518,     0.17618,     0.17718,     0.17818,     0.17918,     0.18018,     0.18118,     0.18218,     0.18318,     0.18418,     0.18519,     0.18619,     0.18719,     0.18819,     0.18919,     0.19019,     0.19119,\n",
            "           0.19219,     0.19319,     0.19419,      0.1952,      0.1962,      0.1972,      0.1982,      0.1992,      0.2002,      0.2012,      0.2022,      0.2032,      0.2042,     0.20521,     0.20621,     0.20721,     0.20821,     0.20921,     0.21021,     0.21121,     0.21221,     0.21321,     0.21421,     0.21522,\n",
            "           0.21622,     0.21722,     0.21822,     0.21922,     0.22022,     0.22122,     0.22222,     0.22322,     0.22422,     0.22523,     0.22623,     0.22723,     0.22823,     0.22923,     0.23023,     0.23123,     0.23223,     0.23323,     0.23423,     0.23524,     0.23624,     0.23724,     0.23824,     0.23924,\n",
            "           0.24024,     0.24124,     0.24224,     0.24324,     0.24424,     0.24525,     0.24625,     0.24725,     0.24825,     0.24925,     0.25025,     0.25125,     0.25225,     0.25325,     0.25425,     0.25526,     0.25626,     0.25726,     0.25826,     0.25926,     0.26026,     0.26126,     0.26226,     0.26326,\n",
            "           0.26426,     0.26527,     0.26627,     0.26727,     0.26827,     0.26927,     0.27027,     0.27127,     0.27227,     0.27327,     0.27427,     0.27528,     0.27628,     0.27728,     0.27828,     0.27928,     0.28028,     0.28128,     0.28228,     0.28328,     0.28428,     0.28529,     0.28629,     0.28729,\n",
            "           0.28829,     0.28929,     0.29029,     0.29129,     0.29229,     0.29329,     0.29429,      0.2953,      0.2963,      0.2973,      0.2983,      0.2993,      0.3003,      0.3013,      0.3023,      0.3033,      0.3043,     0.30531,     0.30631,     0.30731,     0.30831,     0.30931,     0.31031,     0.31131,\n",
            "           0.31231,     0.31331,     0.31431,     0.31532,     0.31632,     0.31732,     0.31832,     0.31932,     0.32032,     0.32132,     0.32232,     0.32332,     0.32432,     0.32533,     0.32633,     0.32733,     0.32833,     0.32933,     0.33033,     0.33133,     0.33233,     0.33333,     0.33433,     0.33534,\n",
            "           0.33634,     0.33734,     0.33834,     0.33934,     0.34034,     0.34134,     0.34234,     0.34334,     0.34434,     0.34535,     0.34635,     0.34735,     0.34835,     0.34935,     0.35035,     0.35135,     0.35235,     0.35335,     0.35435,     0.35536,     0.35636,     0.35736,     0.35836,     0.35936,\n",
            "           0.36036,     0.36136,     0.36236,     0.36336,     0.36436,     0.36537,     0.36637,     0.36737,     0.36837,     0.36937,     0.37037,     0.37137,     0.37237,     0.37337,     0.37437,     0.37538,     0.37638,     0.37738,     0.37838,     0.37938,     0.38038,     0.38138,     0.38238,     0.38338,\n",
            "           0.38438,     0.38539,     0.38639,     0.38739,     0.38839,     0.38939,     0.39039,     0.39139,     0.39239,     0.39339,     0.39439,      0.3954,      0.3964,      0.3974,      0.3984,      0.3994,      0.4004,      0.4014,      0.4024,      0.4034,      0.4044,     0.40541,     0.40641,     0.40741,\n",
            "           0.40841,     0.40941,     0.41041,     0.41141,     0.41241,     0.41341,     0.41441,     0.41542,     0.41642,     0.41742,     0.41842,     0.41942,     0.42042,     0.42142,     0.42242,     0.42342,     0.42442,     0.42543,     0.42643,     0.42743,     0.42843,     0.42943,     0.43043,     0.43143,\n",
            "           0.43243,     0.43343,     0.43443,     0.43544,     0.43644,     0.43744,     0.43844,     0.43944,     0.44044,     0.44144,     0.44244,     0.44344,     0.44444,     0.44545,     0.44645,     0.44745,     0.44845,     0.44945,     0.45045,     0.45145,     0.45245,     0.45345,     0.45445,     0.45546,\n",
            "           0.45646,     0.45746,     0.45846,     0.45946,     0.46046,     0.46146,     0.46246,     0.46346,     0.46446,     0.46547,     0.46647,     0.46747,     0.46847,     0.46947,     0.47047,     0.47147,     0.47247,     0.47347,     0.47447,     0.47548,     0.47648,     0.47748,     0.47848,     0.47948,\n",
            "           0.48048,     0.48148,     0.48248,     0.48348,     0.48448,     0.48549,     0.48649,     0.48749,     0.48849,     0.48949,     0.49049,     0.49149,     0.49249,     0.49349,     0.49449,      0.4955,      0.4965,      0.4975,      0.4985,      0.4995,      0.5005,      0.5015,      0.5025,      0.5035,\n",
            "            0.5045,     0.50551,     0.50651,     0.50751,     0.50851,     0.50951,     0.51051,     0.51151,     0.51251,     0.51351,     0.51451,     0.51552,     0.51652,     0.51752,     0.51852,     0.51952,     0.52052,     0.52152,     0.52252,     0.52352,     0.52452,     0.52553,     0.52653,     0.52753,\n",
            "           0.52853,     0.52953,     0.53053,     0.53153,     0.53253,     0.53353,     0.53453,     0.53554,     0.53654,     0.53754,     0.53854,     0.53954,     0.54054,     0.54154,     0.54254,     0.54354,     0.54454,     0.54555,     0.54655,     0.54755,     0.54855,     0.54955,     0.55055,     0.55155,\n",
            "           0.55255,     0.55355,     0.55455,     0.55556,     0.55656,     0.55756,     0.55856,     0.55956,     0.56056,     0.56156,     0.56256,     0.56356,     0.56456,     0.56557,     0.56657,     0.56757,     0.56857,     0.56957,     0.57057,     0.57157,     0.57257,     0.57357,     0.57457,     0.57558,\n",
            "           0.57658,     0.57758,     0.57858,     0.57958,     0.58058,     0.58158,     0.58258,     0.58358,     0.58458,     0.58559,     0.58659,     0.58759,     0.58859,     0.58959,     0.59059,     0.59159,     0.59259,     0.59359,     0.59459,      0.5956,      0.5966,      0.5976,      0.5986,      0.5996,\n",
            "            0.6006,      0.6016,      0.6026,      0.6036,      0.6046,     0.60561,     0.60661,     0.60761,     0.60861,     0.60961,     0.61061,     0.61161,     0.61261,     0.61361,     0.61461,     0.61562,     0.61662,     0.61762,     0.61862,     0.61962,     0.62062,     0.62162,     0.62262,     0.62362,\n",
            "           0.62462,     0.62563,     0.62663,     0.62763,     0.62863,     0.62963,     0.63063,     0.63163,     0.63263,     0.63363,     0.63463,     0.63564,     0.63664,     0.63764,     0.63864,     0.63964,     0.64064,     0.64164,     0.64264,     0.64364,     0.64464,     0.64565,     0.64665,     0.64765,\n",
            "           0.64865,     0.64965,     0.65065,     0.65165,     0.65265,     0.65365,     0.65465,     0.65566,     0.65666,     0.65766,     0.65866,     0.65966,     0.66066,     0.66166,     0.66266,     0.66366,     0.66466,     0.66567,     0.66667,     0.66767,     0.66867,     0.66967,     0.67067,     0.67167,\n",
            "           0.67267,     0.67367,     0.67467,     0.67568,     0.67668,     0.67768,     0.67868,     0.67968,     0.68068,     0.68168,     0.68268,     0.68368,     0.68468,     0.68569,     0.68669,     0.68769,     0.68869,     0.68969,     0.69069,     0.69169,     0.69269,     0.69369,     0.69469,      0.6957,\n",
            "            0.6967,      0.6977,      0.6987,      0.6997,      0.7007,      0.7017,      0.7027,      0.7037,      0.7047,     0.70571,     0.70671,     0.70771,     0.70871,     0.70971,     0.71071,     0.71171,     0.71271,     0.71371,     0.71471,     0.71572,     0.71672,     0.71772,     0.71872,     0.71972,\n",
            "           0.72072,     0.72172,     0.72272,     0.72372,     0.72472,     0.72573,     0.72673,     0.72773,     0.72873,     0.72973,     0.73073,     0.73173,     0.73273,     0.73373,     0.73473,     0.73574,     0.73674,     0.73774,     0.73874,     0.73974,     0.74074,     0.74174,     0.74274,     0.74374,\n",
            "           0.74474,     0.74575,     0.74675,     0.74775,     0.74875,     0.74975,     0.75075,     0.75175,     0.75275,     0.75375,     0.75475,     0.75576,     0.75676,     0.75776,     0.75876,     0.75976,     0.76076,     0.76176,     0.76276,     0.76376,     0.76476,     0.76577,     0.76677,     0.76777,\n",
            "           0.76877,     0.76977,     0.77077,     0.77177,     0.77277,     0.77377,     0.77477,     0.77578,     0.77678,     0.77778,     0.77878,     0.77978,     0.78078,     0.78178,     0.78278,     0.78378,     0.78478,     0.78579,     0.78679,     0.78779,     0.78879,     0.78979,     0.79079,     0.79179,\n",
            "           0.79279,     0.79379,     0.79479,      0.7958,      0.7968,      0.7978,      0.7988,      0.7998,      0.8008,      0.8018,      0.8028,      0.8038,      0.8048,     0.80581,     0.80681,     0.80781,     0.80881,     0.80981,     0.81081,     0.81181,     0.81281,     0.81381,     0.81481,     0.81582,\n",
            "           0.81682,     0.81782,     0.81882,     0.81982,     0.82082,     0.82182,     0.82282,     0.82382,     0.82482,     0.82583,     0.82683,     0.82783,     0.82883,     0.82983,     0.83083,     0.83183,     0.83283,     0.83383,     0.83483,     0.83584,     0.83684,     0.83784,     0.83884,     0.83984,\n",
            "           0.84084,     0.84184,     0.84284,     0.84384,     0.84484,     0.84585,     0.84685,     0.84785,     0.84885,     0.84985,     0.85085,     0.85185,     0.85285,     0.85385,     0.85485,     0.85586,     0.85686,     0.85786,     0.85886,     0.85986,     0.86086,     0.86186,     0.86286,     0.86386,\n",
            "           0.86486,     0.86587,     0.86687,     0.86787,     0.86887,     0.86987,     0.87087,     0.87187,     0.87287,     0.87387,     0.87487,     0.87588,     0.87688,     0.87788,     0.87888,     0.87988,     0.88088,     0.88188,     0.88288,     0.88388,     0.88488,     0.88589,     0.88689,     0.88789,\n",
            "           0.88889,     0.88989,     0.89089,     0.89189,     0.89289,     0.89389,     0.89489,      0.8959,      0.8969,      0.8979,      0.8989,      0.8999,      0.9009,      0.9019,      0.9029,      0.9039,      0.9049,     0.90591,     0.90691,     0.90791,     0.90891,     0.90991,     0.91091,     0.91191,\n",
            "           0.91291,     0.91391,     0.91491,     0.91592,     0.91692,     0.91792,     0.91892,     0.91992,     0.92092,     0.92192,     0.92292,     0.92392,     0.92492,     0.92593,     0.92693,     0.92793,     0.92893,     0.92993,     0.93093,     0.93193,     0.93293,     0.93393,     0.93493,     0.93594,\n",
            "           0.93694,     0.93794,     0.93894,     0.93994,     0.94094,     0.94194,     0.94294,     0.94394,     0.94494,     0.94595,     0.94695,     0.94795,     0.94895,     0.94995,     0.95095,     0.95195,     0.95295,     0.95395,     0.95495,     0.95596,     0.95696,     0.95796,     0.95896,     0.95996,\n",
            "           0.96096,     0.96196,     0.96296,     0.96396,     0.96496,     0.96597,     0.96697,     0.96797,     0.96897,     0.96997,     0.97097,     0.97197,     0.97297,     0.97397,     0.97497,     0.97598,     0.97698,     0.97798,     0.97898,     0.97998,     0.98098,     0.98198,     0.98298,     0.98398,\n",
            "           0.98498,     0.98599,     0.98699,     0.98799,     0.98899,     0.98999,     0.99099,     0.99199,     0.99299,     0.99399,     0.99499,       0.996,       0.997,       0.998,       0.999,           1]), array([[    0.62791,     0.62791,     0.60465,     0.60465,     0.60465,      0.5814,      0.5814,     0.55814,      0.5558,     0.53488,     0.53488,     0.53488,     0.53488,     0.53488,     0.53488,     0.53488,     0.53488,     0.53488,     0.53488,     0.53488,     0.53488,     0.53488,     0.53488,\n",
            "            0.53488,     0.53488,     0.53488,     0.53488,     0.53488,     0.51163,     0.51163,     0.51163,     0.51163,     0.51163,     0.51163,     0.51163,     0.51163,     0.51163,     0.51163,     0.51163,     0.51163,     0.51163,     0.51163,     0.51163,     0.51163,     0.51163,     0.51163,\n",
            "            0.49816,     0.48837,     0.48837,     0.48837,     0.48837,     0.48837,     0.48837,     0.48837,     0.48837,     0.48837,     0.48837,     0.48837,     0.48837,     0.48837,     0.48837,     0.48837,     0.48837,     0.48837,     0.48837,     0.48837,     0.48837,     0.48481,     0.48099,\n",
            "            0.47717,     0.47335,     0.46953,      0.4657,     0.46512,     0.46512,     0.46512,     0.46512,     0.46512,     0.46512,     0.46512,     0.46512,     0.46512,     0.46512,     0.46512,     0.46512,     0.46512,     0.46512,     0.46512,     0.46512,     0.46512,     0.46512,     0.46512,\n",
            "            0.46512,     0.46512,     0.46512,     0.46381,     0.46168,     0.45955,     0.45742,     0.45529,     0.45316,     0.45103,      0.4489,     0.44677,     0.44463,      0.4425,     0.44036,     0.43821,     0.43607,     0.43392,     0.43177,     0.42962,     0.42748,     0.42533,     0.42318,\n",
            "            0.42103,     0.41889,      0.4186,      0.4186,      0.4186,      0.4186,      0.4186,      0.4186,      0.4186,      0.4186,      0.4186,      0.4186,      0.4186,      0.4186,      0.4186,      0.4186,      0.4186,      0.4186,      0.4186,      0.4186,      0.4186,      0.4186,      0.4186,\n",
            "             0.4186,      0.4186,      0.4186,      0.4186,      0.4186,      0.4186,      0.4186,      0.4186,      0.4186,      0.4186,      0.4186,      0.4186,      0.4186,      0.4186,      0.4186,      0.4186,      0.4186,      0.4186,      0.4186,      0.4186,      0.4186,      0.4186,      0.4186,\n",
            "             0.4186,      0.4186,      0.4186,     0.41547,     0.41149,     0.40751,     0.40354,     0.39956,     0.39558,     0.39535,     0.39535,     0.39535,     0.39535,     0.39535,     0.39535,     0.39535,     0.39535,     0.39535,     0.39535,     0.39535,     0.39535,     0.39535,     0.39535,\n",
            "            0.39535,     0.39535,     0.39535,     0.39535,     0.39535,     0.39535,     0.39535,     0.39535,     0.39535,     0.39535,     0.39535,     0.39535,     0.39535,     0.39535,     0.39535,     0.39535,     0.39535,     0.39535,     0.39535,     0.39535,     0.39535,     0.39535,     0.39535,\n",
            "            0.39535,     0.39535,     0.39535,     0.39535,     0.39535,     0.39535,     0.39535,     0.39535,     0.39535,     0.39535,     0.39535,     0.39535,     0.39535,     0.39535,     0.39535,     0.39535,     0.39535,     0.39535,     0.39535,     0.39535,     0.39535,     0.39535,     0.39535,\n",
            "            0.39535,     0.39535,     0.39535,     0.39535,     0.39535,     0.39535,     0.39535,     0.39535,     0.39535,     0.39535,     0.39535,     0.39535,     0.39535,     0.39535,     0.39535,     0.39535,     0.39535,     0.39535,     0.39535,     0.39535,     0.39535,     0.39535,     0.39535,\n",
            "            0.39535,     0.39535,     0.39535,     0.39535,     0.39535,     0.39535,     0.39535,     0.39535,     0.39535,     0.39535,     0.39535,     0.39535,     0.39535,     0.39535,     0.39535,     0.39535,     0.39535,     0.39535,     0.39535,     0.39535,     0.39535,     0.39535,     0.39535,\n",
            "            0.39535,     0.39535,     0.39535,     0.39535,     0.39535,     0.39535,     0.39535,     0.39535,     0.39535,     0.39535,     0.39535,     0.39535,     0.39535,     0.39535,     0.39535,     0.39535,     0.39535,     0.39535,     0.39449,      0.3935,     0.39251,     0.39152,     0.39053,\n",
            "            0.38954,     0.38855,     0.38756,     0.38657,     0.38558,     0.38459,      0.3836,     0.38261,     0.38162,     0.38063,     0.37964,     0.37865,     0.37766,     0.37667,     0.37568,     0.37469,      0.3737,     0.37271,     0.37209,     0.37209,     0.37209,     0.37209,     0.37209,\n",
            "            0.37209,     0.37209,     0.37209,     0.37209,     0.37209,     0.37209,     0.37209,     0.36951,     0.36107,     0.35263,     0.34275,     0.33172,     0.32558,     0.32558,     0.32558,     0.32558,     0.32558,     0.32558,     0.32558,     0.32558,     0.32558,     0.32558,     0.32558,\n",
            "            0.32558,     0.32558,     0.32558,     0.32558,     0.32558,     0.32558,     0.32558,     0.32558,     0.32558,     0.32558,     0.32558,     0.32558,     0.32558,     0.32558,     0.32558,     0.32558,     0.32558,     0.32558,     0.32558,     0.32558,     0.32558,     0.32558,     0.32558,\n",
            "            0.32558,     0.32558,     0.32558,     0.32558,     0.32558,     0.32558,     0.32558,     0.32558,     0.32558,     0.32558,     0.32558,     0.32558,     0.32558,     0.32558,     0.32558,     0.32558,     0.32558,     0.32558,     0.32558,     0.32558,     0.32558,     0.32558,     0.32558,\n",
            "            0.32558,     0.32558,     0.32558,     0.32558,     0.32558,     0.32558,     0.32558,     0.32558,     0.32558,     0.32558,     0.32558,     0.32558,     0.32558,     0.32558,     0.32558,     0.32558,     0.32558,     0.32558,     0.32558,     0.32558,     0.32558,     0.32558,     0.32558,\n",
            "            0.32558,     0.32558,     0.32558,     0.32558,     0.32558,     0.32558,     0.32558,     0.32558,     0.32558,     0.32558,     0.32558,     0.32558,     0.32558,     0.32558,     0.32558,     0.32558,     0.32558,     0.32558,     0.32558,     0.32558,     0.32558,     0.32558,     0.32558,\n",
            "            0.32558,     0.32558,     0.32558,     0.32558,     0.32558,     0.32558,     0.32558,     0.32558,     0.32558,     0.32558,     0.32558,     0.32558,     0.32558,     0.32558,     0.32558,     0.32558,     0.32558,     0.32558,     0.32558,     0.32558,     0.32558,     0.32558,       0.323,\n",
            "            0.31725,     0.31149,     0.30574,     0.30217,     0.30177,     0.30138,     0.30099,      0.3006,     0.30021,     0.29981,     0.29942,     0.29903,     0.29864,     0.29825,     0.29785,     0.29746,     0.29707,     0.29668,     0.29629,     0.29589,      0.2955,     0.29511,     0.29472,\n",
            "            0.29433,     0.29394,     0.29354,     0.29315,     0.29276,     0.29237,     0.29198,     0.29158,     0.29119,      0.2908,     0.29041,     0.29002,     0.28962,     0.28923,     0.28884,     0.28845,     0.28806,     0.28766,     0.28727,     0.28688,     0.28649,      0.2861,      0.2857,\n",
            "            0.28531,     0.28492,     0.28453,     0.28414,     0.28374,     0.28335,     0.28296,     0.28257,     0.28218,     0.28178,     0.28139,       0.281,     0.28061,     0.28022,     0.27982,     0.27943,     0.27907,     0.27907,     0.27907,     0.27907,     0.27907,     0.27907,     0.27907,\n",
            "            0.27907,     0.27907,     0.27907,     0.27907,     0.27907,     0.27907,     0.27907,     0.27907,     0.27907,     0.27907,     0.27907,     0.27907,     0.27907,     0.27907,     0.27907,     0.27907,     0.27907,     0.27907,     0.27907,     0.27907,     0.27907,     0.27907,     0.27863,\n",
            "            0.27817,     0.27771,     0.27725,     0.27678,     0.27632,     0.27586,      0.2754,     0.27493,     0.27447,     0.27401,     0.27355,     0.27308,     0.27262,     0.27216,      0.2717,     0.27123,     0.27077,     0.27031,     0.26985,     0.26938,     0.26892,     0.26846,       0.268,\n",
            "            0.26753,     0.26707,     0.26661,     0.26615,     0.26568,     0.26522,     0.26476,      0.2643,     0.26383,     0.26337,     0.26291,     0.26245,     0.26198,     0.26152,     0.26106,      0.2606,     0.26013,     0.25967,     0.25921,     0.25875,     0.25828,     0.25782,     0.25736,\n",
            "             0.2569,     0.25643,     0.25597,     0.25493,     0.25358,     0.25224,      0.2509,     0.24955,     0.24821,     0.24687,     0.24553,     0.24418,     0.24284,      0.2415,     0.24015,     0.23881,     0.23747,     0.23613,     0.23478,     0.23344,     0.22732,     0.21207,     0.20817,\n",
            "            0.20678,      0.2054,     0.20401,     0.20262,     0.20124,     0.19985,     0.19847,     0.19708,     0.19569,     0.19431,     0.19292,     0.19154,     0.19015,     0.18876,     0.18738,     0.18605,     0.18605,     0.18605,     0.18605,     0.18605,     0.18605,     0.18605,     0.18605,\n",
            "            0.18605,     0.18605,     0.18605,     0.18605,     0.18605,     0.18605,     0.18605,     0.18605,     0.18605,     0.18605,     0.18605,     0.18605,     0.18605,     0.18605,     0.18605,     0.18605,     0.18605,     0.18605,     0.18605,     0.18605,     0.18605,     0.18605,     0.18605,\n",
            "            0.18605,     0.18605,     0.18605,     0.18605,     0.18605,     0.18605,     0.18605,     0.18605,     0.18605,     0.18605,     0.18605,     0.18605,     0.18605,     0.18605,     0.18605,     0.18605,     0.18605,     0.18605,     0.18605,     0.18605,     0.18605,     0.18605,     0.18605,\n",
            "            0.18605,     0.18605,     0.18605,     0.18605,     0.18605,     0.18605,     0.18605,     0.18605,     0.18605,     0.18605,     0.18605,     0.18605,     0.18605,     0.18605,     0.18605,     0.18605,     0.18605,     0.18605,     0.18605,     0.18605,     0.18605,     0.18605,     0.18605,\n",
            "            0.18605,     0.18605,     0.18605,     0.18605,     0.18605,     0.18605,     0.18605,     0.18605,     0.18605,     0.18605,     0.18605,     0.18605,     0.18605,     0.18605,     0.18605,     0.18605,     0.18605,     0.18605,     0.18605,     0.18605,     0.18605,     0.18605,     0.18605,\n",
            "            0.18605,     0.18605,     0.18605,     0.18605,     0.18605,     0.18605,     0.18605,     0.18605,     0.18605,     0.18605,     0.18605,     0.18605,     0.18605,     0.18605,     0.18605,     0.18605,     0.18605,     0.18605,     0.18605,     0.18605,     0.18605,     0.18605,     0.18605,\n",
            "            0.18605,     0.18605,     0.18605,     0.18605,     0.18605,     0.18605,     0.18605,     0.18605,     0.18605,     0.18605,     0.18605,     0.18605,     0.18605,     0.18605,     0.18605,     0.18605,     0.18605,     0.18605,     0.18605,     0.18605,     0.18605,     0.18605,     0.18605,\n",
            "            0.18605,     0.18605,     0.18605,     0.18605,     0.18605,     0.18605,     0.18605,     0.18605,     0.18605,     0.18605,     0.18059,      0.1627,     0.16213,     0.16156,     0.16099,     0.16043,     0.15986,     0.15929,     0.15872,     0.15815,     0.15759,     0.15702,     0.15645,\n",
            "            0.15588,     0.15531,     0.15475,     0.15418,     0.15361,     0.15304,     0.15248,     0.15191,     0.15134,     0.15077,      0.1502,     0.14964,     0.14907,      0.1485,     0.14793,     0.14737,      0.1468,     0.14623,     0.14566,     0.14509,     0.14453,     0.14396,     0.14339,\n",
            "            0.14282,     0.14226,     0.14169,     0.14112,     0.14055,     0.13998,     0.13922,     0.13771,     0.13621,      0.1347,     0.13319,     0.13168,     0.13017,     0.12867,     0.12716,     0.12565,     0.12414,     0.12264,     0.12113,     0.11962,     0.11811,     0.11661,     0.11561,\n",
            "            0.11476,     0.11391,     0.11306,      0.1122,     0.11135,      0.1105,     0.10965,      0.1088,     0.10795,     0.10709,     0.10624,     0.10539,     0.10454,     0.10369,     0.10283,     0.10198,     0.10113,     0.10028,    0.099427,    0.098576,    0.097724,    0.096872,     0.09602,\n",
            "           0.095168,    0.094316,    0.093465,    0.093023,    0.093023,    0.093023,    0.093023,    0.093023,    0.093023,    0.093023,    0.093023,    0.093023,    0.093023,    0.093023,    0.092856,    0.091685,    0.090514,    0.089343,    0.088172,    0.087001,     0.08583,    0.084659,    0.083487,\n",
            "           0.082316,    0.081145,    0.079974,    0.078803,    0.077632,    0.076461,     0.07529,    0.074119,    0.072948,    0.071776,    0.070605,    0.069483,    0.068485,    0.067487,    0.066489,    0.065491,    0.064493,    0.063494,    0.062496,    0.061498,      0.0605,    0.059502,    0.058504,\n",
            "           0.057505,    0.056507,    0.055509,    0.054511,    0.053513,    0.052515,    0.051516,    0.050518,     0.04952,    0.048522,    0.047524,    0.046526,    0.046512,    0.046512,    0.046512,    0.046512,    0.046512,    0.046512,    0.046512,    0.046512,    0.046512,    0.046512,    0.046512,\n",
            "           0.045296,    0.044064,    0.042833,    0.041601,     0.04037,    0.039138,    0.037907,    0.036675,    0.035444,    0.034212,    0.032981,    0.031749,    0.030518,    0.029286,    0.028055,    0.026823,    0.025592,     0.02436,           0,           0,           0,           0,           0,\n",
            "                  0,           0,           0,           0,           0,           0,           0,           0,           0,           0,           0,           0,           0,           0,           0,           0,           0,           0,           0,           0,           0,           0,           0,\n",
            "                  0,           0,           0,           0,           0,           0,           0,           0,           0,           0,           0]]), 'Confidence', 'Recall']]\n",
            "fitness: 0.5051332435383569\n",
            "keys: ['metrics/precision(B)', 'metrics/recall(B)', 'metrics/mAP50(B)', 'metrics/mAP50-95(B)', 'metrics/precision(M)', 'metrics/recall(M)', 'metrics/mAP50(M)', 'metrics/mAP50-95(M)']\n",
            "maps: array([    0.47531])\n",
            "names: {0: 'Trash'}\n",
            "plot: True\n",
            "results_dict: {'metrics/precision(B)': 0.6540991954936101, 'metrics/recall(B)': 0.32558139534883723, 'metrics/mAP50(B)': 0.37115501192222966, 'metrics/mAP50-95(B)': 0.22839492850829696, 'metrics/precision(M)': 0.5470121680702987, 'metrics/recall(M)': 0.3953488372093023, 'metrics/mAP50(M)': 0.4023680797620996, 'metrics/mAP50-95(M)': 0.2469172207916185, 'fitness': 0.5051332435383569}\n",
            "save_dir: PosixPath('/content/drive/MyDrive/Archive/runs/yolov8s_seg_trash22')\n",
            "seg: ultralytics.utils.metrics.Metric object\n",
            "speed: {'preprocess': 0.7219825472150531, 'inference': 39.943950516836985, 'loss': 0.0016008104596819197, 'postprocess': 1.4562606811523438}\n",
            "task: 'segment'\n"
          ]
        }
      ]
    },
    {
      "cell_type": "code",
      "source": [
        "import os\n",
        "val_imgs = [os.path.join(DATA_ROOT, \"images/val\", f) for f in os.listdir(f\"{DATA_ROOT}/images/val\")[:8]]\n",
        "pred = model.predict(source=val_imgs, imgsz=1024, conf=0.25, save=True,\n",
        "                     project=f\"{BASE}/runs\", name=\"pred_std\", line_width=2)\n",
        "print(\"Saved to:\", pred[0].save_dir if pred else \"n/a\")\n"
      ],
      "metadata": {
        "id": "-blzFCzNqe7Z",
        "outputId": "5a6fa3e7-ee09-4372-8967-bf1aead4ee0b",
        "colab": {
          "base_uri": "https://localhost:8080/"
        }
      },
      "execution_count": null,
      "outputs": [
        {
          "output_type": "stream",
          "name": "stdout",
          "text": [
            "\n",
            "0: 1024x1024 (no detections), 40.0ms\n",
            "1: 1024x1024 5 Trashs, 40.0ms\n",
            "2: 1024x1024 1 Trash, 40.0ms\n",
            "3: 1024x1024 2 Trashs, 40.0ms\n",
            "4: 1024x1024 2 Trashs, 40.0ms\n",
            "5: 1024x1024 2 Trashs, 40.0ms\n",
            "6: 1024x1024 1 Trash, 40.0ms\n",
            "7: 1024x1024 1 Trash, 40.0ms\n",
            "Speed: 8.8ms preprocess, 40.0ms inference, 4.1ms postprocess per image at shape (1, 3, 1024, 1024)\n",
            "Results saved to \u001b[1m/content/drive/MyDrive/Archive/runs/pred_std\u001b[0m\n",
            "Saved to: /content/drive/MyDrive/Archive/runs/pred_std\n"
          ]
        }
      ]
    },
    {
      "cell_type": "code",
      "source": [],
      "metadata": {
        "id": "plKUEqXPqhfI"
      },
      "execution_count": null,
      "outputs": []
    }
  ]
}